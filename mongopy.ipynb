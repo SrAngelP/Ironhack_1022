{
  "nbformat": 4,
  "nbformat_minor": 0,
  "metadata": {
    "colab": {
      "provenance": []
    },
    "kernelspec": {
      "name": "python3",
      "display_name": "Python 3"
    },
    "language_info": {
      "name": "python"
    }
  },
  "cells": [
    {
      "cell_type": "code",
      "execution_count": 1,
      "metadata": {
        "colab": {
          "base_uri": "https://localhost:8080/"
        },
        "id": "l0oxKAFCbyGz",
        "outputId": "3d114e93-d409-4591-e853-7ff791fa3a7e"
      },
      "outputs": [
        {
          "output_type": "stream",
          "name": "stdout",
          "text": [
            "Looking in indexes: https://pypi.org/simple, https://us-python.pkg.dev/colab-wheels/public/simple/\n",
            "Requirement already satisfied: dnspython in /usr/local/lib/python3.7/dist-packages (2.2.1)\n",
            "Looking in indexes: https://pypi.org/simple, https://us-python.pkg.dev/colab-wheels/public/simple/\n",
            "Requirement already satisfied: pymongo[srv] in /usr/local/lib/python3.7/dist-packages (4.3.2)\n",
            "Requirement already satisfied: dnspython<3.0.0,>=1.16.0 in /usr/local/lib/python3.7/dist-packages (from pymongo[srv]) (2.2.1)\n"
          ]
        }
      ],
      "source": [
        "!pip install dnspython\n",
        "!pip install pymongo[srv]\n",
        "import dns\n",
        "import pandas\n",
        "from pymongo import MongoClient\n",
        " #para el ejercicio\n",
        "import json\n",
        "from urllib.request import urlopen"
      ]
    },
    {
      "cell_type": "code",
      "source": [
        "client=MongoClient('mongodb+srv://Maik:a@cluster0.bzerm1e.mongodb.net/test')"
      ],
      "metadata": {
        "id": "yqSAS1jNcN4e"
      },
      "execution_count": 2,
      "outputs": []
    },
    {
      "cell_type": "code",
      "source": [
        "client"
      ],
      "metadata": {
        "colab": {
          "base_uri": "https://localhost:8080/"
        },
        "id": "7WVTDcPccPlg",
        "outputId": "21e2dbcf-d389-4e18-fa7a-8b045f9f0174"
      },
      "execution_count": 3,
      "outputs": [
        {
          "output_type": "execute_result",
          "data": {
            "text/plain": [
              "MongoClient(host=['ac-zhebwm4-shard-00-00.bzerm1e.mongodb.net:27017', 'ac-zhebwm4-shard-00-01.bzerm1e.mongodb.net:27017', 'ac-zhebwm4-shard-00-02.bzerm1e.mongodb.net:27017'], document_class=dict, tz_aware=False, connect=True, authsource='admin', replicaset='atlas-boazjn-shard-0', tls=True)"
            ]
          },
          "metadata": {},
          "execution_count": 3
        }
      ]
    },
    {
      "cell_type": "markdown",
      "source": [],
      "metadata": {
        "id": "VeDwKgPsdTa9"
      }
    },
    {
      "cell_type": "code",
      "source": [
        "print(client.list_database_names()) #análogo a show databases; en sql"
      ],
      "metadata": {
        "colab": {
          "base_uri": "https://localhost:8080/"
        },
        "id": "IodFpoz_cPiu",
        "outputId": "d9b13851-c128-4e2f-8b2a-642fb9da84c0"
      },
      "execution_count": 4,
      "outputs": [
        {
          "output_type": "stream",
          "name": "stdout",
          "text": [
            "['Bebidas', 'MaikOct', 'SandraOct', 'gonzalopAmazon', 'master-data', 'master_data', 'admin', 'local']\n"
          ]
        }
      ]
    },
    {
      "cell_type": "markdown",
      "source": [],
      "metadata": {
        "id": "z0OeEwSjdfmj"
      }
    },
    {
      "cell_type": "code",
      "source": [
        "db = client.list_database_names()[3]\n",
        "client[db].list_collection_names()"
      ],
      "metadata": {
        "colab": {
          "base_uri": "https://localhost:8080/"
        },
        "id": "sj2nlabgcPgQ",
        "outputId": "83fb03a3-623c-4efd-a4a4-3a228acadb7e"
      },
      "execution_count": 5,
      "outputs": [
        {
          "output_type": "execute_result",
          "data": {
            "text/plain": [
              "['exampleReviews']"
            ]
          },
          "metadata": {},
          "execution_count": 5
        }
      ]
    },
    {
      "cell_type": "code",
      "source": [
        "#CRUD\n",
        "#C: Crear/Insertar\n",
        "#R: Read\n",
        "#U: Update\n",
        "#D: Delete"
      ],
      "metadata": {
        "id": "nnz9_jSycPdv"
      },
      "execution_count": 6,
      "outputs": []
    },
    {
      "cell_type": "code",
      "source": [
        "nueva_db=\"MaikOct\"\n",
        "db=client[nueva_db] #db=client[\"MaikOct\"]\n",
        "coll=db[\"claseMongo\"]\n",
        "#condición, para que se genere la DB y la Colección, debe sí o sí\n",
        "#existir por lo menos un documento auqnue esté vacío"
      ],
      "metadata": {
        "id": "vlEWTJy_cPa-"
      },
      "execution_count": 7,
      "outputs": []
    },
    {
      "cell_type": "code",
      "source": [
        "url = 'https://raw.githubusercontent.com/devfmx/master-data-ai/main/MilestoneAbr2022/Kata%20Data%20Wrangling/Amazon_Musical_Instruments_5_minified.json'\n",
        "json_url=urlopen(url)\n",
        "amazon=json.loads(json_url.read())"
      ],
      "metadata": {
        "id": "DWOOQpBrcPYW"
      },
      "execution_count": 8,
      "outputs": []
    },
    {
      "cell_type": "code",
      "source": [
        "print(amazon[0])"
      ],
      "metadata": {
        "colab": {
          "base_uri": "https://localhost:8080/"
        },
        "id": "gynd2WUZcPV2",
        "outputId": "f740190f-36a2-4287-cdbe-454a4906bec3"
      },
      "execution_count": 9,
      "outputs": [
        {
          "output_type": "stream",
          "name": "stdout",
          "text": [
            "{'reviewerID': 'A2IBPI20UZIR0U', 'asin': '1384719342', 'reviewerName': 'cassandra tu \"Yeah, well, that\\'s just like, u...', 'helpful': [0, 0], 'reviewText': \"Not much to write about here, but it does exactly what it's supposed to. filters out the pop sounds. now my recordings are much more crisp. it is one of the lowest prices pop filters on amazon so might as well buy it, they honestly work the same despite their pricing,\", 'overall': 5.0, 'summary': 'good', 'unixReviewTime': 1393545600, 'reviewTime': '02 28, 2014'}\n"
          ]
        }
      ]
    },
    {
      "cell_type": "code",
      "source": [
        "coll.insert_one(amazon[0])"
      ],
      "metadata": {
        "colab": {
          "base_uri": "https://localhost:8080/"
        },
        "id": "bJaVHFi-cPTh",
        "outputId": "d128607c-845d-414a-b62b-6240b801f187"
      },
      "execution_count": 10,
      "outputs": [
        {
          "output_type": "execute_result",
          "data": {
            "text/plain": [
              "<pymongo.results.InsertOneResult at 0x7f17f1e62f10>"
            ]
          },
          "metadata": {},
          "execution_count": 10
        }
      ]
    },
    {
      "cell_type": "code",
      "source": [
        "coll.insert_many(amazon[1:])"
      ],
      "metadata": {
        "colab": {
          "base_uri": "https://localhost:8080/"
        },
        "id": "Mr-CXcLLcPQ3",
        "outputId": "5e1b7b03-eadd-4db4-d20c-06fbf57fcb68"
      },
      "execution_count": 11,
      "outputs": [
        {
          "output_type": "execute_result",
          "data": {
            "text/plain": [
              "<pymongo.results.InsertManyResult at 0x7f17f5b44c50>"
            ]
          },
          "metadata": {},
          "execution_count": 11
        }
      ]
    },
    {
      "cell_type": "code",
      "source": [
        "##############\n",
        "#Primero nos conectamos a la DB deseada\n",
        "db=client['master_data']\n",
        "\n",
        "#nos vamos a la colección deseada\n",
        "coll=db['test']"
      ],
      "metadata": {
        "id": "RWorWqWQcPOi"
      },
      "execution_count": 14,
      "outputs": []
    },
    {
      "cell_type": "code",
      "source": [
        "query=coll.find({'time_signature':'3'}).limit(10)"
      ],
      "metadata": {
        "id": "ZJKzByF-_FYa"
      },
      "execution_count": 52,
      "outputs": []
    },
    {
      "cell_type": "code",
      "source": [
        "query"
      ],
      "metadata": {
        "colab": {
          "base_uri": "https://localhost:8080/"
        },
        "id": "gl0Tbg0__xZs",
        "outputId": "e2d6f1f5-6387-4e5f-e285-380caf376035"
      },
      "execution_count": 46,
      "outputs": [
        {
          "output_type": "execute_result",
          "data": {
            "text/plain": [
              "<pymongo.cursor.Cursor at 0x7f17ef6c6750>"
            ]
          },
          "metadata": {},
          "execution_count": 46
        }
      ]
    },
    {
      "cell_type": "code",
      "source": [
        "for info in query: print(info)"
      ],
      "metadata": {
        "colab": {
          "base_uri": "https://localhost:8080/"
        },
        "id": "dEkHCexZ_0at",
        "outputId": "64521e13-83e2-41f5-f2de-c9f5da971b1c"
      },
      "execution_count": 53,
      "outputs": [
        {
          "output_type": "stream",
          "name": "stdout",
          "text": [
            "{'_id': '60ac3cc3a0f98161601313b0', 'danceability': '0.695', 'duration_ms': '131200', 'energy': '0.221', 'instrumentalness': '0', 'key': '1', 'liveness': '0.189', 'loudness': '-19.868', 'tempo': '103.884', 'time_signature': '3', 'valence': '0.753'}\n",
            "{'_id': '60ac3cc3a0f98161601312d9', 'danceability': '0.641', 'duration_ms': '136200', 'energy': '0.236', 'instrumentalness': '0', 'key': '1', 'liveness': '0.409', 'loudness': '-18.421', 'tempo': '86.508', 'time_signature': '3', 'valence': '0.637'}\n",
            "{'_id': '60ac3cc3a0f981616013125a', 'danceability': '0.366', 'duration_ms': '159800', 'energy': '0.0749', 'instrumentalness': '0.924', 'key': '7', 'liveness': '0.117', 'loudness': '-26.34', 'tempo': '90.969', 'time_signature': '3', 'valence': '0.515'}\n",
            "{'_id': '60ac3cc3a0f9816160131351', 'danceability': '0.621', 'duration_ms': '129000', 'energy': '0.15', 'instrumentalness': '0', 'key': '8', 'liveness': '0.202', 'loudness': '-20.384', 'tempo': '176.575', 'time_signature': '3', 'valence': '0.682'}\n",
            "{'_id': '60ac3cc3a0f9816160131265', 'danceability': '0.657', 'duration_ms': '95100', 'energy': '0.181', 'instrumentalness': '0', 'key': '7', 'liveness': '0.456', 'loudness': '-24.188', 'tempo': '93.335', 'time_signature': '3', 'valence': '0.538'}\n",
            "{'_id': '60ac3cc3a0f98161601313d3', 'danceability': '0.737', 'duration_ms': '132200', 'energy': '0.225', 'instrumentalness': '0', 'key': '1', 'liveness': '0.168', 'loudness': '-19.174', 'tempo': '92.862', 'time_signature': '3', 'valence': '0.838'}\n",
            "{'_id': '60ac3cc3a0f981616013136a', 'danceability': '0.628', 'duration_ms': '128000', 'energy': '0.21', 'instrumentalness': '0', 'key': '1', 'liveness': '0.298', 'loudness': '-21.252', 'tempo': '82.003', 'time_signature': '3', 'valence': '0.774'}\n",
            "{'_id': '60ac3cc3a0f9816160131386', 'danceability': '0.719', 'duration_ms': '154400', 'energy': '0.242', 'instrumentalness': '0', 'key': '1', 'liveness': '0.129', 'loudness': '-19.886', 'tempo': '87.401', 'time_signature': '3', 'valence': '0.785'}\n",
            "{'_id': '60ac3cc3a0f9816160131215', 'danceability': '0.236', 'duration_ms': '169853', 'energy': '0.124', 'instrumentalness': '0.981', 'key': '1', 'liveness': '0.149', 'loudness': '-22.971', 'tempo': '71.524', 'time_signature': '3', 'valence': '0.409'}\n",
            "{'_id': '60ac3cc3a0f98161601313cc', 'danceability': '0.475', 'duration_ms': '209058', 'energy': '0.294', 'instrumentalness': '0', 'key': '10', 'liveness': '0.109', 'loudness': '-12.168', 'tempo': '126.301', 'time_signature': '3', 'valence': '0.236'}\n"
          ]
        }
      ]
    },
    {
      "cell_type": "code",
      "source": [
        "query=coll.find({'time_signature':'3'},{'_id':False}).limit(10)"
      ],
      "metadata": {
        "id": "MAb01Y-U_0X8"
      },
      "execution_count": 56,
      "outputs": []
    },
    {
      "cell_type": "code",
      "source": [
        "for info in query: print(info)"
      ],
      "metadata": {
        "colab": {
          "base_uri": "https://localhost:8080/"
        },
        "id": "q4-JRELL_0VS",
        "outputId": "dfdade3f-19ba-4b62-e12d-a1ec8f045224"
      },
      "execution_count": 57,
      "outputs": [
        {
          "output_type": "stream",
          "name": "stdout",
          "text": [
            "{'danceability': '0.695', 'duration_ms': '131200', 'energy': '0.221', 'instrumentalness': '0', 'key': '1', 'liveness': '0.189', 'loudness': '-19.868', 'tempo': '103.884', 'time_signature': '3', 'valence': '0.753'}\n",
            "{'danceability': '0.641', 'duration_ms': '136200', 'energy': '0.236', 'instrumentalness': '0', 'key': '1', 'liveness': '0.409', 'loudness': '-18.421', 'tempo': '86.508', 'time_signature': '3', 'valence': '0.637'}\n",
            "{'danceability': '0.366', 'duration_ms': '159800', 'energy': '0.0749', 'instrumentalness': '0.924', 'key': '7', 'liveness': '0.117', 'loudness': '-26.34', 'tempo': '90.969', 'time_signature': '3', 'valence': '0.515'}\n",
            "{'danceability': '0.621', 'duration_ms': '129000', 'energy': '0.15', 'instrumentalness': '0', 'key': '8', 'liveness': '0.202', 'loudness': '-20.384', 'tempo': '176.575', 'time_signature': '3', 'valence': '0.682'}\n",
            "{'danceability': '0.657', 'duration_ms': '95100', 'energy': '0.181', 'instrumentalness': '0', 'key': '7', 'liveness': '0.456', 'loudness': '-24.188', 'tempo': '93.335', 'time_signature': '3', 'valence': '0.538'}\n",
            "{'danceability': '0.737', 'duration_ms': '132200', 'energy': '0.225', 'instrumentalness': '0', 'key': '1', 'liveness': '0.168', 'loudness': '-19.174', 'tempo': '92.862', 'time_signature': '3', 'valence': '0.838'}\n",
            "{'danceability': '0.628', 'duration_ms': '128000', 'energy': '0.21', 'instrumentalness': '0', 'key': '1', 'liveness': '0.298', 'loudness': '-21.252', 'tempo': '82.003', 'time_signature': '3', 'valence': '0.774'}\n",
            "{'danceability': '0.719', 'duration_ms': '154400', 'energy': '0.242', 'instrumentalness': '0', 'key': '1', 'liveness': '0.129', 'loudness': '-19.886', 'tempo': '87.401', 'time_signature': '3', 'valence': '0.785'}\n",
            "{'danceability': '0.236', 'duration_ms': '169853', 'energy': '0.124', 'instrumentalness': '0.981', 'key': '1', 'liveness': '0.149', 'loudness': '-22.971', 'tempo': '71.524', 'time_signature': '3', 'valence': '0.409'}\n",
            "{'danceability': '0.475', 'duration_ms': '209058', 'energy': '0.294', 'instrumentalness': '0', 'key': '10', 'liveness': '0.109', 'loudness': '-12.168', 'tempo': '126.301', 'time_signature': '3', 'valence': '0.236'}\n"
          ]
        }
      ]
    },
    {
      "cell_type": "code",
      "source": [
        "#Queremos encontrar canciones que sean menores en energía a 0.28\n",
        "#que sean #bailables\" e.g. mayores o igual a 0.6\n",
        "#que diren menos o igual a 98200\n",
        "import pandas as pd\n",
        "\n",
        "query=coll.find({\"energy\":{\"$lt\":\"0.28\"},\"danceability\":{\"$gte\":\"0.6\"},\n",
        "                 \"duration_ms\":{\"$lte\":\"98200\"}},{\"_id\":False}).limit(10)\n",
        "query_db=pd.DataFrame(query)"
      ],
      "metadata": {
        "id": "IVRfCnL9_0S4"
      },
      "execution_count": 68,
      "outputs": []
    },
    {
      "cell_type": "code",
      "source": [
        "query_db"
      ],
      "metadata": {
        "colab": {
          "base_uri": "https://localhost:8080/",
          "height": 427
        },
        "id": "A6RIBUxe_0QP",
        "outputId": "27ab5e73-f914-4993-a438-b9872c83f03a"
      },
      "execution_count": 69,
      "outputs": [
        {
          "output_type": "execute_result",
          "data": {
            "text/plain": [
              "  danceability duration_ms energy instrumentalness key liveness loudness  \\\n",
              "0        0.695      131200  0.221                0   1    0.189  -19.868   \n",
              "1        0.715      150800  0.264                0   1    0.224  -19.752   \n",
              "2        0.721      126300  0.203                0   5    0.167  -20.118   \n",
              "3        0.641      136200  0.236                0   1    0.409  -18.421   \n",
              "4        0.717      105500  0.242                0   0    0.318  -23.287   \n",
              "5        0.621      129000   0.15                0   8    0.202  -20.384   \n",
              "6        0.657       95100  0.181                0   7    0.456  -24.188   \n",
              "7        0.737      132200  0.225                0   1    0.168  -19.174   \n",
              "8        0.642      176252  0.212                0   5    0.107  -18.598   \n",
              "9        0.628      128000   0.21                0   1    0.298  -21.252   \n",
              "\n",
              "     tempo time_signature valence  \n",
              "0  103.884              3   0.753  \n",
              "1  121.724              4   0.767  \n",
              "2   122.97              1    0.72  \n",
              "3   86.508              3   0.637  \n",
              "4  119.533              4   0.565  \n",
              "5  176.575              3   0.682  \n",
              "6   93.335              3   0.538  \n",
              "7   92.862              3   0.838  \n",
              "8   84.918              4   0.334  \n",
              "9   82.003              3   0.774  "
            ],
            "text/html": [
              "\n",
              "  <div id=\"df-c6f33947-b4cc-4e01-9698-5677e81d38a5\">\n",
              "    <div class=\"colab-df-container\">\n",
              "      <div>\n",
              "<style scoped>\n",
              "    .dataframe tbody tr th:only-of-type {\n",
              "        vertical-align: middle;\n",
              "    }\n",
              "\n",
              "    .dataframe tbody tr th {\n",
              "        vertical-align: top;\n",
              "    }\n",
              "\n",
              "    .dataframe thead th {\n",
              "        text-align: right;\n",
              "    }\n",
              "</style>\n",
              "<table border=\"1\" class=\"dataframe\">\n",
              "  <thead>\n",
              "    <tr style=\"text-align: right;\">\n",
              "      <th></th>\n",
              "      <th>danceability</th>\n",
              "      <th>duration_ms</th>\n",
              "      <th>energy</th>\n",
              "      <th>instrumentalness</th>\n",
              "      <th>key</th>\n",
              "      <th>liveness</th>\n",
              "      <th>loudness</th>\n",
              "      <th>tempo</th>\n",
              "      <th>time_signature</th>\n",
              "      <th>valence</th>\n",
              "    </tr>\n",
              "  </thead>\n",
              "  <tbody>\n",
              "    <tr>\n",
              "      <th>0</th>\n",
              "      <td>0.695</td>\n",
              "      <td>131200</td>\n",
              "      <td>0.221</td>\n",
              "      <td>0</td>\n",
              "      <td>1</td>\n",
              "      <td>0.189</td>\n",
              "      <td>-19.868</td>\n",
              "      <td>103.884</td>\n",
              "      <td>3</td>\n",
              "      <td>0.753</td>\n",
              "    </tr>\n",
              "    <tr>\n",
              "      <th>1</th>\n",
              "      <td>0.715</td>\n",
              "      <td>150800</td>\n",
              "      <td>0.264</td>\n",
              "      <td>0</td>\n",
              "      <td>1</td>\n",
              "      <td>0.224</td>\n",
              "      <td>-19.752</td>\n",
              "      <td>121.724</td>\n",
              "      <td>4</td>\n",
              "      <td>0.767</td>\n",
              "    </tr>\n",
              "    <tr>\n",
              "      <th>2</th>\n",
              "      <td>0.721</td>\n",
              "      <td>126300</td>\n",
              "      <td>0.203</td>\n",
              "      <td>0</td>\n",
              "      <td>5</td>\n",
              "      <td>0.167</td>\n",
              "      <td>-20.118</td>\n",
              "      <td>122.97</td>\n",
              "      <td>1</td>\n",
              "      <td>0.72</td>\n",
              "    </tr>\n",
              "    <tr>\n",
              "      <th>3</th>\n",
              "      <td>0.641</td>\n",
              "      <td>136200</td>\n",
              "      <td>0.236</td>\n",
              "      <td>0</td>\n",
              "      <td>1</td>\n",
              "      <td>0.409</td>\n",
              "      <td>-18.421</td>\n",
              "      <td>86.508</td>\n",
              "      <td>3</td>\n",
              "      <td>0.637</td>\n",
              "    </tr>\n",
              "    <tr>\n",
              "      <th>4</th>\n",
              "      <td>0.717</td>\n",
              "      <td>105500</td>\n",
              "      <td>0.242</td>\n",
              "      <td>0</td>\n",
              "      <td>0</td>\n",
              "      <td>0.318</td>\n",
              "      <td>-23.287</td>\n",
              "      <td>119.533</td>\n",
              "      <td>4</td>\n",
              "      <td>0.565</td>\n",
              "    </tr>\n",
              "    <tr>\n",
              "      <th>5</th>\n",
              "      <td>0.621</td>\n",
              "      <td>129000</td>\n",
              "      <td>0.15</td>\n",
              "      <td>0</td>\n",
              "      <td>8</td>\n",
              "      <td>0.202</td>\n",
              "      <td>-20.384</td>\n",
              "      <td>176.575</td>\n",
              "      <td>3</td>\n",
              "      <td>0.682</td>\n",
              "    </tr>\n",
              "    <tr>\n",
              "      <th>6</th>\n",
              "      <td>0.657</td>\n",
              "      <td>95100</td>\n",
              "      <td>0.181</td>\n",
              "      <td>0</td>\n",
              "      <td>7</td>\n",
              "      <td>0.456</td>\n",
              "      <td>-24.188</td>\n",
              "      <td>93.335</td>\n",
              "      <td>3</td>\n",
              "      <td>0.538</td>\n",
              "    </tr>\n",
              "    <tr>\n",
              "      <th>7</th>\n",
              "      <td>0.737</td>\n",
              "      <td>132200</td>\n",
              "      <td>0.225</td>\n",
              "      <td>0</td>\n",
              "      <td>1</td>\n",
              "      <td>0.168</td>\n",
              "      <td>-19.174</td>\n",
              "      <td>92.862</td>\n",
              "      <td>3</td>\n",
              "      <td>0.838</td>\n",
              "    </tr>\n",
              "    <tr>\n",
              "      <th>8</th>\n",
              "      <td>0.642</td>\n",
              "      <td>176252</td>\n",
              "      <td>0.212</td>\n",
              "      <td>0</td>\n",
              "      <td>5</td>\n",
              "      <td>0.107</td>\n",
              "      <td>-18.598</td>\n",
              "      <td>84.918</td>\n",
              "      <td>4</td>\n",
              "      <td>0.334</td>\n",
              "    </tr>\n",
              "    <tr>\n",
              "      <th>9</th>\n",
              "      <td>0.628</td>\n",
              "      <td>128000</td>\n",
              "      <td>0.21</td>\n",
              "      <td>0</td>\n",
              "      <td>1</td>\n",
              "      <td>0.298</td>\n",
              "      <td>-21.252</td>\n",
              "      <td>82.003</td>\n",
              "      <td>3</td>\n",
              "      <td>0.774</td>\n",
              "    </tr>\n",
              "  </tbody>\n",
              "</table>\n",
              "</div>\n",
              "      <button class=\"colab-df-convert\" onclick=\"convertToInteractive('df-c6f33947-b4cc-4e01-9698-5677e81d38a5')\"\n",
              "              title=\"Convert this dataframe to an interactive table.\"\n",
              "              style=\"display:none;\">\n",
              "        \n",
              "  <svg xmlns=\"http://www.w3.org/2000/svg\" height=\"24px\"viewBox=\"0 0 24 24\"\n",
              "       width=\"24px\">\n",
              "    <path d=\"M0 0h24v24H0V0z\" fill=\"none\"/>\n",
              "    <path d=\"M18.56 5.44l.94 2.06.94-2.06 2.06-.94-2.06-.94-.94-2.06-.94 2.06-2.06.94zm-11 1L8.5 8.5l.94-2.06 2.06-.94-2.06-.94L8.5 2.5l-.94 2.06-2.06.94zm10 10l.94 2.06.94-2.06 2.06-.94-2.06-.94-.94-2.06-.94 2.06-2.06.94z\"/><path d=\"M17.41 7.96l-1.37-1.37c-.4-.4-.92-.59-1.43-.59-.52 0-1.04.2-1.43.59L10.3 9.45l-7.72 7.72c-.78.78-.78 2.05 0 2.83L4 21.41c.39.39.9.59 1.41.59.51 0 1.02-.2 1.41-.59l7.78-7.78 2.81-2.81c.8-.78.8-2.07 0-2.86zM5.41 20L4 18.59l7.72-7.72 1.47 1.35L5.41 20z\"/>\n",
              "  </svg>\n",
              "      </button>\n",
              "      \n",
              "  <style>\n",
              "    .colab-df-container {\n",
              "      display:flex;\n",
              "      flex-wrap:wrap;\n",
              "      gap: 12px;\n",
              "    }\n",
              "\n",
              "    .colab-df-convert {\n",
              "      background-color: #E8F0FE;\n",
              "      border: none;\n",
              "      border-radius: 50%;\n",
              "      cursor: pointer;\n",
              "      display: none;\n",
              "      fill: #1967D2;\n",
              "      height: 32px;\n",
              "      padding: 0 0 0 0;\n",
              "      width: 32px;\n",
              "    }\n",
              "\n",
              "    .colab-df-convert:hover {\n",
              "      background-color: #E2EBFA;\n",
              "      box-shadow: 0px 1px 2px rgba(60, 64, 67, 0.3), 0px 1px 3px 1px rgba(60, 64, 67, 0.15);\n",
              "      fill: #174EA6;\n",
              "    }\n",
              "\n",
              "    [theme=dark] .colab-df-convert {\n",
              "      background-color: #3B4455;\n",
              "      fill: #D2E3FC;\n",
              "    }\n",
              "\n",
              "    [theme=dark] .colab-df-convert:hover {\n",
              "      background-color: #434B5C;\n",
              "      box-shadow: 0px 1px 3px 1px rgba(0, 0, 0, 0.15);\n",
              "      filter: drop-shadow(0px 1px 2px rgba(0, 0, 0, 0.3));\n",
              "      fill: #FFFFFF;\n",
              "    }\n",
              "  </style>\n",
              "\n",
              "      <script>\n",
              "        const buttonEl =\n",
              "          document.querySelector('#df-c6f33947-b4cc-4e01-9698-5677e81d38a5 button.colab-df-convert');\n",
              "        buttonEl.style.display =\n",
              "          google.colab.kernel.accessAllowed ? 'block' : 'none';\n",
              "\n",
              "        async function convertToInteractive(key) {\n",
              "          const element = document.querySelector('#df-c6f33947-b4cc-4e01-9698-5677e81d38a5');\n",
              "          const dataTable =\n",
              "            await google.colab.kernel.invokeFunction('convertToInteractive',\n",
              "                                                     [key], {});\n",
              "          if (!dataTable) return;\n",
              "\n",
              "          const docLinkHtml = 'Like what you see? Visit the ' +\n",
              "            '<a target=\"_blank\" href=https://colab.research.google.com/notebooks/data_table.ipynb>data table notebook</a>'\n",
              "            + ' to learn more about interactive tables.';\n",
              "          element.innerHTML = '';\n",
              "          dataTable['output_type'] = 'display_data';\n",
              "          await google.colab.output.renderOutput(dataTable, element);\n",
              "          const docLink = document.createElement('div');\n",
              "          docLink.innerHTML = docLinkHtml;\n",
              "          element.appendChild(docLink);\n",
              "        }\n",
              "      </script>\n",
              "    </div>\n",
              "  </div>\n",
              "  "
            ]
          },
          "metadata": {},
          "execution_count": 69
        }
      ]
    },
    {
      "cell_type": "code",
      "source": [],
      "metadata": {
        "id": "r-2P6W4r_0Nm"
      },
      "execution_count": null,
      "outputs": []
    }
  ]
}