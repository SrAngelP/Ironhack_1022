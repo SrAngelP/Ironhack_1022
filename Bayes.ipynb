{
  "nbformat": 4,
  "nbformat_minor": 0,
  "metadata": {
    "colab": {
      "provenance": []
    },
    "kernelspec": {
      "name": "python3",
      "display_name": "Python 3"
    },
    "language_info": {
      "name": "python"
    }
  },
  "cells": [
    {
      "cell_type": "code",
      "execution_count": 1,
      "metadata": {
        "id": "p_6YdldXoWoT"
      },
      "outputs": [],
      "source": [
        "'''\n",
        "Suppose we have 3 jars with 100 marbles in each.\n",
        "\n",
        "Jar 1 has 40 blue marbles, 30 red marbles, and 30 green marbles.\n",
        "Jar 2 has 60 blue marbles, 20 red marbles, and 20 green marbles.\n",
        "Jar 3 has 10 blue marbles, 30 red marbles, and 70 green marbles.\n",
        "You pick a marble from one of the jars at random, and the marble is green. \n",
        "What are the probabilities that the marble came from each of the three jars?\n",
        "\n",
        "       Priors 40 azlues    likelihoods ej: dist binomial\n",
        "      (1/3)J1 30 rojas\n",
        "              30 verdes    30/100=0.3\n",
        "\n",
        "              60 azues\n",
        " 100%(1/3)J2  20 rojas\n",
        "              20 verdes     20/100=0.2\n",
        "          \n",
        "              10 azues\n",
        "      (1/3)J3  30 rojas\n",
        "              70 verdes     70/100=0.7\n",
        "    \n",
        "   en la mano una canica verde\n",
        "'''\n",
        "import numpy as np"
      ]
    },
    {
      "cell_type": "code",
      "source": [
        "def bayes_theo(priors,likelihoods):\n",
        "  marg=sum(np.multiply(priors,likelihoods))\n",
        "  post=np.divide(np.multiply(priors,likelihoods) ,marg)\n",
        "  #\n",
        "  sumanotira= [1/3*0.3]+[1/3*0.2]+[1/3*0.7]\n",
        "  []   []    []\n",
        "  return post"
      ],
      "metadata": {
        "id": "RuslcrFhqOrw"
      },
      "execution_count": 2,
      "outputs": []
    },
    {
      "cell_type": "code",
      "source": [
        "priors=[1/3,1/3,1/3]\n",
        "likelihoods=[0.3,0.2,0.7]\n",
        "bayes_theo(priors,likelihoods)"
      ],
      "metadata": {
        "colab": {
          "base_uri": "https://localhost:8080/"
        },
        "id": "qTSqkcqltJaP",
        "outputId": "5e74e535-3b99-45ba-af8d-e14e1f7ea5fb"
      },
      "execution_count": 3,
      "outputs": [
        {
          "output_type": "execute_result",
          "data": {
            "text/plain": [
              "array([0.25      , 0.16666667, 0.58333333])"
            ]
          },
          "metadata": {},
          "execution_count": 3
        }
      ]
    },
    {
      "cell_type": "code",
      "source": [
        "np.multiply(priors,likelihoods)"
      ],
      "metadata": {
        "colab": {
          "base_uri": "https://localhost:8080/"
        },
        "id": "5proAtbNtUda",
        "outputId": "60231977-1ae9-41f7-da6d-6fc3617bd446"
      },
      "execution_count": 4,
      "outputs": [
        {
          "output_type": "execute_result",
          "data": {
            "text/plain": [
              "array([0.1       , 0.06666667, 0.23333333])"
            ]
          },
          "metadata": {},
          "execution_count": 4
        }
      ]
    },
    {
      "cell_type": "code",
      "source": [
        "np.divide([0.1       , 0.06666667, 0.23333333] ,8)"
      ],
      "metadata": {
        "id": "RMsO41f_t9MU"
      },
      "execution_count": null,
      "outputs": []
    },
    {
      "cell_type": "code",
      "source": [
        "'''\n",
        "vamos a suponer que acabas de abrir una tienda de pizzas, y quieres saber \n",
        "la probabilidad de que cuando un cliente entre, en efecto te compre\n",
        "\n",
        "\n",
        "\n",
        "'''"
      ],
      "metadata": {
        "id": "W9amrmx7u_Ad"
      },
      "execution_count": null,
      "outputs": []
    },
    {
      "cell_type": "code",
      "source": [
        "import pandas as pd\n",
        "personas=10000\n",
        "prior=pd.Series(np.random.uniform(0,1,size=personas))\n",
        "prior.hist()"
      ],
      "metadata": {
        "colab": {
          "base_uri": "https://localhost:8080/",
          "height": 282
        },
        "id": "UCCXDawDu-9r",
        "outputId": "c67802a5-854e-448b-c1fc-c9f120861880"
      },
      "execution_count": 7,
      "outputs": [
        {
          "output_type": "execute_result",
          "data": {
            "text/plain": [
              "<matplotlib.axes._subplots.AxesSubplot at 0x7f5672bf95d0>"
            ]
          },
          "metadata": {},
          "execution_count": 7
        },
        {
          "output_type": "display_data",
          "data": {
            "text/plain": [
              "<Figure size 432x288 with 1 Axes>"
            ],
            "image/png": "[encoded data removed]"
          },
          "metadata": {
            "needs_background": "light"
          }
        }
      ]
    },
    {
      "cell_type": "code",
      "source": [
        "'''\n",
        "El primer día, de 50 personas, 10 sí te compraron (y las otras 40 no)\n",
        "'''\n",
        "observaciones=40\n",
        "\n",
        "def modelo(prior_i):\n",
        "  return np.random.binomial(50,prior_i)\n"
      ],
      "metadata": {
        "id": "FojNPU5lu-7G"
      },
      "execution_count": 67,
      "outputs": []
    },
    {
      "cell_type": "code",
      "source": [
        "simulacion=list()\n",
        "for p in prior: simulacion.append(modelo(p))"
      ],
      "metadata": {
        "id": "kVORkVPBu-4g"
      },
      "execution_count": 68,
      "outputs": []
    },
    {
      "cell_type": "code",
      "source": [
        "post=prior[list(map(lambda x: x==observaciones,simulacion))  ]\n",
        "post.hist()"
      ],
      "metadata": {
        "colab": {
          "base_uri": "https://localhost:8080/",
          "height": 282
        },
        "id": "cK3XfXH7u-2S",
        "outputId": "a6ebcfa1-ed1c-4f10-a3e4-14a35939cff1"
      },
      "execution_count": 69,
      "outputs": [
        {
          "output_type": "execute_result",
          "data": {
            "text/plain": [
              "<matplotlib.axes._subplots.AxesSubplot at 0x7f56720a73d0>"
            ]
          },
          "metadata": {},
          "execution_count": 69
        },
        {
          "output_type": "display_data",
          "data": {
            "text/plain": [
              "<Figure size 432x288 with 1 Axes>"
            ],
            "image/png": "[encoded data removed]"
          },
          "metadata": {
            "needs_background": "light"
          }
        }
      ]
    },
    {
      "cell_type": "code",
      "source": [
        "len(post)"
      ],
      "metadata": {
        "colab": {
          "base_uri": "https://localhost:8080/"
        },
        "id": "WwTtVpKpu-zi",
        "outputId": "926f0a44-4dfa-49ab-85cb-0177d5ef6ca1"
      },
      "execution_count": 66,
      "outputs": [
        {
          "output_type": "execute_result",
          "data": {
            "text/plain": [
              "204"
            ]
          },
          "metadata": {},
          "execution_count": 66
        }
      ]
    },
    {
      "cell_type": "code",
      "source": [
        "priors=[1/3,1/3,1/3]\n",
        "likelihoods=[0.3,0.2,0.7]\n",
        "for i in (map(priors,likelihoods)"
      ],
      "metadata": {
        "colab": {
          "base_uri": "https://localhost:8080/"
        },
        "id": "ro8BhIvgu-w9",
        "outputId": "587e0c7f-0cc8-4e3c-9d67-eacade39093a"
      },
      "execution_count": 12,
      "outputs": [
        {
          "output_type": "execute_result",
          "data": {
            "text/plain": [
              "<map at 0x7f5672a7a910>"
            ]
          },
          "metadata": {},
          "execution_count": 12
        }
      ]
    },
    {
      "cell_type": "code",
      "source": [],
      "metadata": {
        "id": "uK_pcsegu-uD"
      },
      "execution_count": null,
      "outputs": []
    },
    {
      "cell_type": "code",
      "source": [],
      "metadata": {
        "id": "pqduiUxOu-rk"
      },
      "execution_count": null,
      "outputs": []
    }
  ]
}