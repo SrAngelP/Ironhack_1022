{
  "nbformat": 4,
  "nbformat_minor": 0,
  "metadata": {
    "colab": {
      "provenance": []
    },
    "kernelspec": {
      "name": "python3",
      "display_name": "Python 3"
    },
    "language_info": {
      "name": "python"
    }
  },
  "cells": [
    {
      "cell_type": "code",
      "execution_count": 44,
      "metadata": {
        "id": "BlirSErMHSDd"
      },
      "outputs": [],
      "source": [
        "import numpy as np\n",
        "import scipy\n",
        "import scipy.stats"
      ]
    },
    {
      "cell_type": "code",
      "source": [
        "from scipy.special import comb,perm\n",
        "from scipy.interpolate.polyint import factorial\n",
        "\n",
        "#una combinación es cuando no me interesa el orden\n",
        "#e.g., si te te pido que saques 2 canicas verdes y una roja de un tazón,\n",
        "#no importa si sale vvr, o rvv o rvr\n",
        "\n",
        "#una permutación es cuando SÍ me interesa el orden, como sería\n",
        "#el caso de las contraseñas, no es lo mismo que la contraseña sea 123 a 321 a 231\n",
        "#Factorial, es una operación matemática de multiplicación de números de ENTEROS de la\n",
        "#siguiente manera\n",
        "\n",
        "#  cuatro factorial =  4!= 4*3*2*1\n",
        "#diez factorial = 10!=10*9*8*7*6*5*4*3*2*1\n",
        "#print(factorial(4))\n",
        "#print(4*3*2*1)\n",
        "\n",
        "#Permutaciones\n",
        "# n!/(n-k!) \n",
        "#n es el número total de elementos existentes\n",
        "#k es el número de elementos que me interesa tener\n",
        "#e.g.  a b c d , son 10 letras\n",
        "# y tengo 2 espacios para mi contraseña\n",
        "# ab,bc,da,ba,bc,ad,ac,ca,bb,db,cd,cd\n",
        "n=4\n",
        "k=2\n",
        "print(factorial(n)/factorial(n-k))\n",
        "\n",
        "print(perm(n,k))\n",
        "\n",
        "#ejemplo de una contraseña \"real\" de 8 dígitos alfanuméricos 24 letras mayúsctulcas\n",
        "# 24 minúsculas + 10 números +20 símbolos =93\n",
        "print('ejemplo contraseña  ', perm(93,8)*0.0001/60/60/24/365, ' años')\n",
        "\n",
        "print('ejemplo contraseña  ', perm(24,8)*0.0001/60/60/24/365, ' años')\n",
        "\n",
        "#dcon repetición\n",
        "#e.g.  a b c d , son 10 letras\n",
        "# y tengo 2 espacios para mi contraseña\n",
        "# ab,bc,da,ba,bc,ad,ac,ca,bb,db,cd,cd,aa,bb,cc,dd\n",
        "#n^k\n",
        "print(4**2)"
      ],
      "metadata": {
        "colab": {
          "base_uri": "https://localhost:8080/"
        },
        "id": "9FGJJjvJHj5t",
        "outputId": "da9fa3d6-b17e-4d95-d7cf-fec7fb43aecd"
      },
      "execution_count": 45,
      "outputs": [
        {
          "output_type": "stream",
          "name": "stdout",
          "text": [
            "12.0\n",
            "12.0\n",
            "ejemplo contraseña   13020.823541753425  años\n",
            "ejemplo contraseña   0.09403282191780823  años\n",
            "16\n"
          ]
        }
      ]
    },
    {
      "cell_type": "code",
      "source": [
        "perm(93,8)"
      ],
      "metadata": {
        "colab": {
          "base_uri": "https://localhost:8080/"
        },
        "id": "ipw_tBHEJiuu",
        "outputId": "ffd3a0c3-8e55-47f5-ac0e-12f21026d76e"
      },
      "execution_count": 46,
      "outputs": [
        {
          "output_type": "execute_result",
          "data": {
            "text/plain": [
              "4106246912127360.0"
            ]
          },
          "metadata": {},
          "execution_count": 46
        }
      ]
    },
    {
      "cell_type": "code",
      "source": [
        "93**8"
      ],
      "metadata": {
        "colab": {
          "base_uri": "https://localhost:8080/"
        },
        "id": "TMn4qyboJkCw",
        "outputId": "d10297bc-4f14-44dd-df26-286d32af2eed"
      },
      "execution_count": 47,
      "outputs": [
        {
          "output_type": "execute_result",
          "data": {
            "text/plain": [
              "5595818096650401"
            ]
          },
          "metadata": {},
          "execution_count": 47
        }
      ]
    },
    {
      "cell_type": "code",
      "source": [
        "##combinaciones\n",
        "\n",
        "# n!/(k (n-k)!)\n",
        "\n",
        "# a b c d\n",
        "# ab,bc,da,ca,db,cd\n",
        "#sólo tomamos 2\n",
        "print(comb(4,2))\n",
        "\n",
        "print( 4*3*2*1/(2*(2*1 )  )   )\n",
        "\n",
        "#con repetición \n",
        "# (n+k-1 )!/(k! (n-1)! )\n",
        "# n=4 k=2\n",
        "# 5!/(2! 3! ) \n",
        "# ab,bc,da,ca,db,cd,aa,bb,cc,dd\n",
        "print(factorial(5)/(2*6))\n",
        "\n",
        "comb(4,2,repetition=True)"
      ],
      "metadata": {
        "colab": {
          "base_uri": "https://localhost:8080/"
        },
        "id": "8RYui5JMP64I",
        "outputId": "d4af5ce6-7bff-49b6-d18d-f1a0cfb0db10"
      },
      "execution_count": 48,
      "outputs": [
        {
          "output_type": "stream",
          "name": "stdout",
          "text": [
            "6.0\n",
            "6.0\n",
            "10.0\n"
          ]
        },
        {
          "output_type": "execute_result",
          "data": {
            "text/plain": [
              "10.0"
            ]
          },
          "metadata": {},
          "execution_count": 48
        }
      ]
    },
    {
      "cell_type": "code",
      "source": [
        "from scipy import linalg # linear algebra"
      ],
      "metadata": {
        "id": "gqr_vZ0YRCPa"
      },
      "execution_count": 49,
      "outputs": []
    },
    {
      "cell_type": "markdown",
      "source": [
        "-0.5x+y=0\n",
        "\n",
        "-0.5x +y=4"
      ],
      "metadata": {
        "id": "oSM9PMkyh3pa"
      }
    },
    {
      "cell_type": "code",
      "source": [
        "var=[[-0.5,1],[-0.5,1]]\n",
        "res=[0,4]"
      ],
      "metadata": {
        "id": "xRivNe_who4X"
      },
      "execution_count": 56,
      "outputs": []
    },
    {
      "cell_type": "code",
      "source": [
        "linalg.solve(var,res)"
      ],
      "metadata": {
        "colab": {
          "base_uri": "https://localhost:8080/",
          "height": 329
        },
        "id": "XWcwTTZohplz",
        "outputId": "2fce4e8f-9e23-493a-b7e6-4ef945517236"
      },
      "execution_count": 57,
      "outputs": [
        {
          "output_type": "error",
          "ename": "LinAlgError",
          "evalue": "ignored",
          "traceback": [
            "\u001b[0;31m---------------------------------------------------------------------------\u001b[0m",
            "\u001b[0;31mLinAlgError\u001b[0m                               Traceback (most recent call last)",
            "\u001b[0;32m<ipython-input-57-5ee34974b8e1>\u001b[0m in \u001b[0;36m<module>\u001b[0;34m\u001b[0m\n\u001b[0;32m----> 1\u001b[0;31m \u001b[0mlinalg\u001b[0m\u001b[0;34m.\u001b[0m\u001b[0msolve\u001b[0m\u001b[0;34m(\u001b[0m\u001b[0mvar\u001b[0m\u001b[0;34m,\u001b[0m\u001b[0mres\u001b[0m\u001b[0;34m)\u001b[0m\u001b[0;34m\u001b[0m\u001b[0;34m\u001b[0m\u001b[0m\n\u001b[0m",
            "\u001b[0;32m/usr/local/lib/python3.7/dist-packages/scipy/linalg/basic.py\u001b[0m in \u001b[0;36msolve\u001b[0;34m(a, b, sym_pos, lower, overwrite_a, overwrite_b, debug, check_finite, assume_a, transposed)\u001b[0m\n\u001b[1;32m    217\u001b[0m                                                (a1, b1))\n\u001b[1;32m    218\u001b[0m         \u001b[0mlu\u001b[0m\u001b[0;34m,\u001b[0m \u001b[0mipvt\u001b[0m\u001b[0;34m,\u001b[0m \u001b[0minfo\u001b[0m \u001b[0;34m=\u001b[0m \u001b[0mgetrf\u001b[0m\u001b[0;34m(\u001b[0m\u001b[0ma1\u001b[0m\u001b[0;34m,\u001b[0m \u001b[0moverwrite_a\u001b[0m\u001b[0;34m=\u001b[0m\u001b[0moverwrite_a\u001b[0m\u001b[0;34m)\u001b[0m\u001b[0;34m\u001b[0m\u001b[0;34m\u001b[0m\u001b[0m\n\u001b[0;32m--> 219\u001b[0;31m         \u001b[0m_solve_check\u001b[0m\u001b[0;34m(\u001b[0m\u001b[0mn\u001b[0m\u001b[0;34m,\u001b[0m \u001b[0minfo\u001b[0m\u001b[0;34m)\u001b[0m\u001b[0;34m\u001b[0m\u001b[0;34m\u001b[0m\u001b[0m\n\u001b[0m\u001b[1;32m    220\u001b[0m         x, info = getrs(lu, ipvt, b1,\n\u001b[1;32m    221\u001b[0m                         trans=trans, overwrite_b=overwrite_b)\n",
            "\u001b[0;32m/usr/local/lib/python3.7/dist-packages/scipy/linalg/basic.py\u001b[0m in \u001b[0;36m_solve_check\u001b[0;34m(n, info, lamch, rcond)\u001b[0m\n\u001b[1;32m     27\u001b[0m                          '.'.format(-info))\n\u001b[1;32m     28\u001b[0m     \u001b[0;32melif\u001b[0m \u001b[0;36m0\u001b[0m \u001b[0;34m<\u001b[0m \u001b[0minfo\u001b[0m\u001b[0;34m:\u001b[0m\u001b[0;34m\u001b[0m\u001b[0;34m\u001b[0m\u001b[0m\n\u001b[0;32m---> 29\u001b[0;31m         \u001b[0;32mraise\u001b[0m \u001b[0mLinAlgError\u001b[0m\u001b[0;34m(\u001b[0m\u001b[0;34m'Matrix is singular.'\u001b[0m\u001b[0;34m)\u001b[0m\u001b[0;34m\u001b[0m\u001b[0;34m\u001b[0m\u001b[0m\n\u001b[0m\u001b[1;32m     30\u001b[0m \u001b[0;34m\u001b[0m\u001b[0m\n\u001b[1;32m     31\u001b[0m     \u001b[0;32mif\u001b[0m \u001b[0mlamch\u001b[0m \u001b[0;32mis\u001b[0m \u001b[0;32mNone\u001b[0m\u001b[0;34m:\u001b[0m\u001b[0;34m\u001b[0m\u001b[0;34m\u001b[0m\u001b[0m\n",
            "\u001b[0;31mLinAlgError\u001b[0m: Matrix is singular."
          ]
        }
      ]
    },
    {
      "cell_type": "markdown",
      "source": [
        "4x + 5y + 3z = 2\n",
        "\n",
        "3x + 2y + 4z = 3\n",
        "\n",
        "5x + 2y + z = 4"
      ],
      "metadata": {
        "id": "fLs264_SjA3c"
      }
    },
    {
      "cell_type": "code",
      "source": [
        "var=[[4,5,3],[3,2,4],[5,2,1]]\n",
        "res=[2,3,4]"
      ],
      "metadata": {
        "id": "qFyvdmY1hpi1"
      },
      "execution_count": 54,
      "outputs": []
    },
    {
      "cell_type": "code",
      "source": [
        "linalg.solve(var,res)"
      ],
      "metadata": {
        "colab": {
          "base_uri": "https://localhost:8080/"
        },
        "id": "4RI9ilwshpgV",
        "outputId": "01ef224c-f922-4452-b8c5-0dcd7b86a1cb"
      },
      "execution_count": 55,
      "outputs": [
        {
          "output_type": "execute_result",
          "data": {
            "text/plain": [
              "array([ 0.95918367, -0.55102041,  0.30612245])"
            ]
          },
          "metadata": {},
          "execution_count": 55
        }
      ]
    },
    {
      "cell_type": "code",
      "source": [
        "y=np.array([ 1.        ,  0.54030231, -0.41614684, -0.9899925 , -0.65364362,\n",
        "        0.28366219,  0.96017029,  0.75390225, -0.14550003, -0.91113026,\n",
        "       -0.83907153])\n",
        "x=np.linspace(0,1,11)\n",
        "import matplotlib.pyplot as plt"
      ],
      "metadata": {
        "id": "f0Km7xTIhpdt"
      },
      "execution_count": 62,
      "outputs": []
    },
    {
      "cell_type": "code",
      "source": [
        "plt.plot(x,y,'o')"
      ],
      "metadata": {
        "colab": {
          "base_uri": "https://localhost:8080/",
          "height": 282
        },
        "id": "_CSOyBYIhpbN",
        "outputId": "48a36007-395b-4264-f598-4eb66a7bcb86"
      },
      "execution_count": 63,
      "outputs": [
        {
          "output_type": "execute_result",
          "data": {
            "text/plain": [
              "[<matplotlib.lines.Line2D at 0x7efd283aead0>]"
            ]
          },
          "metadata": {},
          "execution_count": 63
        },
        {
          "output_type": "display_data",
          "data": {
            "text/plain": [
              "<Figure size 432x288 with 1 Axes>"
            ],
            "image/png": "[encoded data removed]"
          },
          "metadata": {
            "needs_background": "light"
          }
        }
      ]
    },
    {
      "cell_type": "code",
      "source": [
        "from scipy.interpolate import interp1d"
      ],
      "metadata": {
        "id": "jh4zAEmxhpYl"
      },
      "execution_count": 61,
      "outputs": []
    },
    {
      "cell_type": "code",
      "source": [
        "f=interp1d(x,y, kind='quadratic',fill_value=\"extrapolate\")"
      ],
      "metadata": {
        "id": "nzGx7FUShpV9"
      },
      "execution_count": 85,
      "outputs": []
    },
    {
      "cell_type": "code",
      "source": [
        "x2=np.linspace(-0.1,1,30)\n",
        "y2=f(x2)\n",
        "\n",
        "plt.plot(x2,y2,'o')\n",
        "plt.plot(x,y,'o')"
      ],
      "metadata": {
        "colab": {
          "base_uri": "https://localhost:8080/",
          "height": 282
        },
        "id": "2wQ1-pXthpTF",
        "outputId": "df828788-a661-4a0a-c3c8-23336ef271dd"
      },
      "execution_count": 90,
      "outputs": [
        {
          "output_type": "execute_result",
          "data": {
            "text/plain": [
              "[<matplotlib.lines.Line2D at 0x7efd27d02290>]"
            ]
          },
          "metadata": {},
          "execution_count": 90
        },
        {
          "output_type": "display_data",
          "data": {
            "text/plain": [
              "<Figure size 432x288 with 1 Axes>"
            ],
            "image/png": "[encoded data removed]"
          },
          "metadata": {
            "needs_background": "light"
          }
        }
      ]
    },
    {
      "cell_type": "code",
      "source": [
        "x=np.linspace(1,10,15)\n",
        "y=np.cos(x)+x-0.5*x**1.3+np.random.random(len(x))\n",
        "plt.plot(x,y)"
      ],
      "metadata": {
        "colab": {
          "base_uri": "https://localhost:8080/",
          "height": 282
        },
        "id": "b1pAeIFMme4E",
        "outputId": "4c7b1cbb-b680-44c6-c2b8-dc5de75eb75a"
      },
      "execution_count": 137,
      "outputs": [
        {
          "output_type": "execute_result",
          "data": {
            "text/plain": [
              "[<matplotlib.lines.Line2D at 0x7efd26d7afd0>]"
            ]
          },
          "metadata": {},
          "execution_count": 137
        },
        {
          "output_type": "display_data",
          "data": {
            "text/plain": [
              "<Figure size 432x288 with 1 Axes>"
            ],
            "image/png": "[encoded data removed]"
          },
          "metadata": {
            "needs_background": "light"
          }
        }
      ]
    },
    {
      "cell_type": "code",
      "source": [
        "f=interp1d(x,y,kind='cubic')\n",
        "f2=interp1d(x,y,kind='quadratic')\n",
        "x2=np.linspace(1,10,50)\n",
        "y2=f(x2)\n",
        "y3=f2(x2)\n",
        "plt.plot(x2,y2)\n",
        "plt.plot(x2,y3)\n",
        "#plt.plot(x,y)\n"
      ],
      "metadata": {
        "colab": {
          "base_uri": "https://localhost:8080/",
          "height": 286
        },
        "id": "0u2-CbMpqTVZ",
        "outputId": "7fbada7d-4ae4-486e-ebfa-0c0e44dcfbbc"
      },
      "execution_count": 139,
      "outputs": [
        {
          "output_type": "execute_result",
          "data": {
            "text/plain": [
              "[<matplotlib.lines.Line2D at 0x7efd26c21210>]"
            ]
          },
          "metadata": {},
          "execution_count": 139
        },
        {
          "output_type": "display_data",
          "data": {
            "text/plain": [
              "<Figure size 432x288 with 1 Axes>"
            ],
            "image/png": "[encoded data removed]"
          },
          "metadata": {
            "needs_background": "light"
          }
        }
      ]
    },
    {
      "cell_type": "code",
      "source": [
        "f(x)"
      ],
      "metadata": {
        "colab": {
          "base_uri": "https://localhost:8080/"
        },
        "id": "4g13Hv_xqyRx",
        "outputId": "b7ba6d36-cd4d-4d42-cf51-5f84801320d2"
      },
      "execution_count": 115,
      "outputs": [
        {
          "output_type": "execute_result",
          "data": {
            "text/plain": [
              "array([nan, nan, nan, nan, nan, nan, nan, nan, nan, nan, nan, nan, nan,\n",
              "       nan, nan])"
            ]
          },
          "metadata": {},
          "execution_count": 115
        }
      ]
    },
    {
      "cell_type": "code",
      "source": [
        "import time\n",
        "x=np.linspace(0,100,100000)\n",
        "y=np.random.random(100000)\n",
        "start=time.time()\n",
        "for i in range(100):\n",
        "  f=interp1d(x,y,kind='quadratic')\n",
        "print('el tiempo que tardó es ',time.time()-start)"
      ],
      "metadata": {
        "colab": {
          "base_uri": "https://localhost:8080/"
        },
        "id": "mK6bmY_urQ2n",
        "outputId": "62a323bc-1570-4435-c818-7a7722473c4a"
      },
      "execution_count": 149,
      "outputs": [
        {
          "output_type": "stream",
          "name": "stdout",
          "text": [
            "el tiempo que tardó es  1.9742980003356934\n"
          ]
        }
      ]
    },
    {
      "cell_type": "code",
      "source": [
        "import time\n",
        "x=np.linspace(0,100,100000)\n",
        "y=np.random.random(100000)\n",
        "start=time.time()\n",
        "for i in range(100):\n",
        "  f=interp1d(x,y,kind='cubic')\n",
        "print('el tiempo que tardó es ',time.time()-start)"
      ],
      "metadata": {
        "colab": {
          "base_uri": "https://localhost:8080/"
        },
        "id": "3NGfi9Imr5YO",
        "outputId": "f1ac9891-9d33-47d8-e6db-1c7fee269d66"
      },
      "execution_count": 148,
      "outputs": [
        {
          "output_type": "stream",
          "name": "stdout",
          "text": [
            "el tiempo que tardó es  2.395240068435669\n"
          ]
        }
      ]
    },
    {
      "cell_type": "code",
      "source": [],
      "metadata": {
        "id": "JBVTixJDs2Bn"
      },
      "execution_count": null,
      "outputs": []
    }
  ]
}