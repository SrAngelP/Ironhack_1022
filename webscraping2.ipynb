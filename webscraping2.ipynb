{
 "cells": [
  {
   "cell_type": "code",
   "execution_count": 3,
   "id": "b5c42618-b0e6-4dc0-b351-7cd2c6498494",
   "metadata": {},
   "outputs": [],
   "source": [
    "#crawler, que es un \"cangrejo\" para scrapear de manera avanza a través de un \"navegador\" \n",
    "# de manera automática\n",
    "#selenium nos permite interaccionar con la web a través de un navegador\n",
    "#!pip install selenium\n",
    "import selenium\n",
    "import warnings"
   ]
  },
  {
   "cell_type": "code",
   "execution_count": 6,
   "id": "1ae42c81-8d70-4424-a26b-702300f08b04",
   "metadata": {},
   "outputs": [],
   "source": [
    "selenium.__version__\n",
    "warnings.simplefilter('ignore')"
   ]
  },
  {
   "cell_type": "code",
   "execution_count": 9,
   "id": "e7a87415-e302-415f-ad6f-a7f231f919cc",
   "metadata": {},
   "outputs": [
    {
     "name": "stdout",
     "output_type": "stream",
     "text": [
      "hola\n",
      "mundo\n"
     ]
    }
   ],
   "source": [
    "import time\n",
    "print('hola')\n",
    "time.sleep(5)\n",
    "print('mundo')"
   ]
  },
  {
   "cell_type": "code",
   "execution_count": 12,
   "id": "3e0eed09-a181-4821-8ff2-d379c8bd6795",
   "metadata": {},
   "outputs": [],
   "source": [
    "from selenium import webdriver\n",
    "from selenium.webdriver.common.keys import Keys\n",
    "from selenium.webdriver.common.by import By"
   ]
  },
  {
   "cell_type": "code",
   "execution_count": 35,
   "id": "b4281119-741f-4fb4-a633-9c184fadc818",
   "metadata": {},
   "outputs": [],
   "source": [
    "driver=webdriver.Chrome('./chromedriver')\n",
    "driver.get(\"http://www.google.com\")\n",
    "assert \"Google\" in driver.title\n",
    "time.sleep(4)\n",
    "elem=driver.find_element(By.NAME,\"q\")\n",
    "elem.clear()\n",
    "elem.send_keys(\"gatos chidos\")\n",
    "elem.send_keys(Keys.RETURN)\n",
    "time.sleep(5)\n",
    "driver.close()"
   ]
  },
  {
   "cell_type": "code",
   "execution_count": 38,
   "id": "3ec2f47d-9508-4faf-ba51-3d9a755853fa",
   "metadata": {},
   "outputs": [],
   "source": [
    "#######################\n",
    "import time \n",
    "import re \n",
    "import sys\n",
    "import requests \n",
    "from pathlib import Path\n",
    "\n",
    "import numpy as np\n",
    "import pandas as pd \n",
    "\n",
    "from bs4 import BeautifulSoup\n",
    "\n",
    "from selenium.webdriver.common.by import By\n",
    "from selenium import webdriver\n",
    "from selenium.webdriver.common.keys import Keys\n",
    "from selenium.webdriver.common.action_chains import ActionChains\n"
   ]
  },
  {
   "cell_type": "code",
   "execution_count": 39,
   "id": "9af24394-fb15-48e4-a513-ec7058c043ee",
   "metadata": {},
   "outputs": [],
   "source": [
    "url='https://es.aliexpress.com/category/204011178/smart-electronics.html'"
   ]
  },
  {
   "cell_type": "code",
   "execution_count": 43,
   "id": "f4af977c-2e8f-4553-94e2-8e4a26877146",
   "metadata": {},
   "outputs": [],
   "source": [
    "aliexpress=requests.get(url).content\n",
    "#aliexpress\n"
   ]
  },
  {
   "cell_type": "code",
   "execution_count": 87,
   "id": "f737d937-f15b-4dde-875a-7fbe754caef0",
   "metadata": {},
   "outputs": [],
   "source": [
    "driver=webdriver.Chrome('./chromedriver')\n",
    "driver.get(url)\n",
    "time.sleep(3)\n",
    "pagweb=driver.page_source\n",
    "#driver.quit()\n"
   ]
  },
  {
   "cell_type": "code",
   "execution_count": 46,
   "id": "1ec43a1b-8f6c-4d1f-834e-3b2ad90292ce",
   "metadata": {},
   "outputs": [],
   "source": [
    "#pagweb #similar a requests.get(url).content pero a través de un \"navegador\""
   ]
  },
  {
   "cell_type": "code",
   "execution_count": 83,
   "id": "6e5bac3d-380c-4c55-a812-6f9fcfc40a5d",
   "metadata": {},
   "outputs": [],
   "source": [
    "electronicos=BeautifulSoup(pagweb,'html')"
   ]
  },
  {
   "cell_type": "code",
   "execution_count": 84,
   "id": "687679ca-6afe-4f0d-afe5-dad3668b6021",
   "metadata": {
    "tags": []
   },
   "outputs": [
    {
     "data": {
      "text/plain": [
       "10"
      ]
     },
     "execution_count": 84,
     "metadata": {},
     "output_type": "execute_result"
    }
   ],
   "source": [
    "link_to_products=electronicos.select('a._3t7zg._2f4Ho')\n",
    "len(link_to_products)"
   ]
  },
  {
   "cell_type": "code",
   "execution_count": 61,
   "id": "c76a9d06-dbcf-46d0-95e9-fc24e10cc000",
   "metadata": {
    "collapsed": true,
    "jupyter": {
     "outputs_hidden": true
    },
    "tags": []
   },
   "outputs": [
    {
     "data": {
      "text/plain": [
       "['//es.aliexpress.com/item/1005004737237352.html?algo_pvid=fc8bcb19-7f0d-4191-8e2a-410b38ecb938&algo_exp_id=fc8bcb19-7f0d-4191-8e2a-410b38ecb938-0&pdp_ext_f=%7B%22sku_id%22%3A%2212000030290949785%22%7D&pdp_npi=2%40dis%21MXN%21139.16%2168.17%21%21%21%21%21%40210318bb16674290380842501ed7ad%2112000030290949785%21sea&curPageLogUid=jPpVgSeXQHdi',\n",
       " '//es.aliexpress.com/item/1005004750033579.html?algo_pvid=fc8bcb19-7f0d-4191-8e2a-410b38ecb938&algo_exp_id=fc8bcb19-7f0d-4191-8e2a-410b38ecb938-1&pdp_ext_f=%7B%22sku_id%22%3A%2212000030333828719%22%7D&pdp_npi=2%40dis%21MXN%21692.61%21692.61%21%21%21%21%21%40210318bb16674290380842501ed7ad%2112000030333828719%21sea&curPageLogUid=LbkVwooYq288',\n",
       " '//es.aliexpress.com/item/1005004750162699.html?algo_pvid=fc8bcb19-7f0d-4191-8e2a-410b38ecb938&algo_exp_id=fc8bcb19-7f0d-4191-8e2a-410b38ecb938-2&pdp_ext_f=%7B%22sku_id%22%3A%2212000030334423361%22%7D&pdp_npi=2%40dis%21MXN%21423.93%21423.93%21%21%21%21%21%40210318bb16674290380842501ed7ad%2112000030334423361%21sea&curPageLogUid=FVcrplw4gZGu',\n",
       " '//es.aliexpress.com/item/1005004749968333.html?algo_pvid=fc8bcb19-7f0d-4191-8e2a-410b38ecb938&algo_exp_id=fc8bcb19-7f0d-4191-8e2a-410b38ecb938-3&pdp_ext_f=%7B%22sku_id%22%3A%2212000030333612516%22%7D&pdp_npi=2%40dis%21MXN%21692.61%21692.61%21%21%21%21%21%40210318bb16674290380842501ed7ad%2112000030333612516%21sea&curPageLogUid=SsGSYyLRjENw',\n",
       " '//es.aliexpress.com/item/1005004765417885.html?algo_pvid=fc8bcb19-7f0d-4191-8e2a-410b38ecb938&aem_p4p_detail=202211021543582951699166679480011892958&algo_exp_id=fc8bcb19-7f0d-4191-8e2a-410b38ecb938-4&pdp_ext_f=%7B%22sku_id%22%3A%2212000030840684548%22%7D&pdp_npi=2%40dis%21MXN%212119.24%21614.58%21%21%21%21%21%40210318bb16674290380842501ed7ad%2112000030840684548%21sea&curPageLogUid=q9IOOFp0ywOz&ad_pvid=202211021543582951699166679480011892958_1',\n",
       " '//es.aliexpress.com/item/1005004826401542.html?algo_pvid=fc8bcb19-7f0d-4191-8e2a-410b38ecb938&algo_exp_id=fc8bcb19-7f0d-4191-8e2a-410b38ecb938-5&pdp_ext_f=%7B%22sku_id%22%3A%2212000030632889914%22%7D&pdp_npi=2%40dis%21MXN%21552.84%21251.18%21%21%21%21%21%40210318bb16674290380842501ed7ad%2112000030632889914%21sea&curPageLogUid=sBorXFZo10HV',\n",
       " '//es.aliexpress.com/item/1005004749989111.html?algo_pvid=fc8bcb19-7f0d-4191-8e2a-410b38ecb938&algo_exp_id=fc8bcb19-7f0d-4191-8e2a-410b38ecb938-6&pdp_ext_f=%7B%22sku_id%22%3A%2212000030333675318%22%7D&pdp_npi=2%40dis%21MXN%211209.85%211209.85%21%21%21%21%21%40210318bb16674290380842501ed7ad%2112000030333675318%21sea&curPageLogUid=KnUa4pltMaWf',\n",
       " '//es.aliexpress.com/item/1005004837642272.html?algo_pvid=fc8bcb19-7f0d-4191-8e2a-410b38ecb938&algo_exp_id=fc8bcb19-7f0d-4191-8e2a-410b38ecb938-7&pdp_ext_f=%7B%22sku_id%22%3A%2212000030682437227%22%7D&pdp_npi=2%40dis%21MXN%21363.2%21181.6%21%21%21%21%21%40210318bb16674290380842501ed7ad%2112000030682437227%21sea&curPageLogUid=0l6yXuXkhcy0',\n",
       " '//es.aliexpress.com/item/1005004495296995.html?algo_pvid=fc8bcb19-7f0d-4191-8e2a-410b38ecb938&algo_exp_id=fc8bcb19-7f0d-4191-8e2a-410b38ecb938-8&pdp_ext_f=%7B%22sku_id%22%3A%2212000029359809461%22%7D&pdp_npi=2%40dis%21MXN%2180.84%2143.64%21%21%218.45%21%21%40210318bb16674290380842501ed7ad%2112000029359809461%21sea&curPageLogUid=aZK7IkyhZapE',\n",
       " '//es.aliexpress.com/item/1005004592310180.html?algo_pvid=fc8bcb19-7f0d-4191-8e2a-410b38ecb938&aem_p4p_detail=202211021543582951699166679480011892958&algo_exp_id=fc8bcb19-7f0d-4191-8e2a-410b38ecb938-9&pdp_ext_f=%7B%22sku_id%22%3A%2212000030775096312%22%7D&pdp_npi=2%40dis%21MXN%211271.59%21623.02%21%21%21%21%21%40210318bb16674290380842501ed7ad%2112000030775096312%21sea&curPageLogUid=uc8tRdlwq8u1&ad_pvid=202211021543582951699166679480011892958_2',\n",
       " '//es.aliexpress.com/item/1005004750054339.html?algo_pvid=fc8bcb19-7f0d-4191-8e2a-410b38ecb938&algo_exp_id=fc8bcb19-7f0d-4191-8e2a-410b38ecb938-10&pdp_ext_f=%7B%22sku_id%22%3A%2212000030333924485%22%7D&pdp_npi=2%40dis%21MXN%211209.85%211209.85%21%21%21%21%21%40210318bb16674290380842501ed7ad%2112000030333924485%21sea&curPageLogUid=8PmEXSgmDTu7',\n",
       " '//es.aliexpress.com/item/1005004818936457.html?algo_pvid=fc8bcb19-7f0d-4191-8e2a-410b38ecb938&algo_exp_id=fc8bcb19-7f0d-4191-8e2a-410b38ecb938-11&pdp_ext_f=%7B%22sku_id%22%3A%2212000030876026361%22%7D&pdp_npi=2%40dis%21MXN%21744.09%21513.42%21%21%2169.78%21%21%40210318bb16674290380842501ed7ad%2112000030876026361%21sea&curPageLogUid=DejDanVKQ5OA']"
      ]
     },
     "execution_count": 61,
     "metadata": {},
     "output_type": "execute_result"
    }
   ],
   "source": [
    "links=[link['href'] for link in link_to_products ]\n",
    "links"
   ]
  },
  {
   "cell_type": "code",
   "execution_count": 102,
   "id": "78a0c91b-3355-425a-abe4-f8eb5a0cd4a4",
   "metadata": {
    "collapsed": true,
    "jupyter": {
     "outputs_hidden": true
    },
    "tags": []
   },
   "outputs": [
    {
     "ename": "WebDriverException",
     "evalue": "Message: chrome not reachable\n  (Session info: chrome=106.0.5249.119)\nStacktrace:\n#0 0x565315d212d3 <unknown>\n#1 0x565315b2b2cb <unknown>\n#2 0x565315b1b204 <unknown>\n#3 0x565315b0bc01 <unknown>\n#4 0x565315b1099d <unknown>\n#5 0x565315b15bb6 <unknown>\n#6 0x565315b2c962 <unknown>\n#7 0x565315b94378 <unknown>\n#8 0x565315b80fe3 <unknown>\n#9 0x565315b56e33 <unknown>\n#10 0x565315b58015 <unknown>\n#11 0x565315d6d3fd <unknown>\n#12 0x565315d7099c <unknown>\n#13 0x565315d5439e <unknown>\n#14 0x565315d715d3 <unknown>\n#15 0x565315d4828f <unknown>\n#16 0x565315d8f728 <unknown>\n#17 0x565315d8f8d2 <unknown>\n#18 0x565315da999f <unknown>\n#19 0x7f327199db43 <unknown>\n",
     "output_type": "error",
     "traceback": [
      "\u001b[0;31m---------------------------------------------------------------------------\u001b[0m",
      "\u001b[0;31mWebDriverException\u001b[0m                        Traceback (most recent call last)",
      "Input \u001b[0;32mIn [102]\u001b[0m, in \u001b[0;36m<cell line: 4>\u001b[0;34m()\u001b[0m\n\u001b[1;32m      2\u001b[0m driver\u001b[38;5;241m.\u001b[39mget(url)\n\u001b[1;32m      3\u001b[0m time\u001b[38;5;241m.\u001b[39msleep(\u001b[38;5;241m6\u001b[39m)\n\u001b[0;32m----> 4\u001b[0m \u001b[43mActionChains\u001b[49m\u001b[43m(\u001b[49m\u001b[43mdriver\u001b[49m\u001b[43m)\u001b[49m\u001b[38;5;241;43m.\u001b[39;49m\u001b[43msend_keys\u001b[49m\u001b[43m(\u001b[49m\u001b[43mKeys\u001b[49m\u001b[38;5;241;43m.\u001b[39;49m\u001b[43mEND\u001b[49m\u001b[43m)\u001b[49m\u001b[38;5;241;43m.\u001b[39;49m\u001b[43mperform\u001b[49m\u001b[43m(\u001b[49m\u001b[43m)\u001b[49m\n\u001b[1;32m      5\u001b[0m time\u001b[38;5;241m.\u001b[39msleep(\u001b[38;5;241m3\u001b[39m)\n\u001b[1;32m      6\u001b[0m ActionChains(driver)\u001b[38;5;241m.\u001b[39msend_keys(Keys\u001b[38;5;241m.\u001b[39mEND)\u001b[38;5;241m.\u001b[39mperform()\n",
      "File \u001b[0;32m~/.local/lib/python3.10/site-packages/selenium/webdriver/common/action_chains.py:78\u001b[0m, in \u001b[0;36mActionChains.perform\u001b[0;34m(self)\u001b[0m\n\u001b[1;32m     74\u001b[0m \u001b[38;5;28;01mdef\u001b[39;00m \u001b[38;5;21mperform\u001b[39m(\u001b[38;5;28mself\u001b[39m):\n\u001b[1;32m     75\u001b[0m     \u001b[38;5;124;03m\"\"\"\u001b[39;00m\n\u001b[1;32m     76\u001b[0m \u001b[38;5;124;03m    Performs all stored actions.\u001b[39;00m\n\u001b[1;32m     77\u001b[0m \u001b[38;5;124;03m    \"\"\"\u001b[39;00m\n\u001b[0;32m---> 78\u001b[0m     \u001b[38;5;28;43mself\u001b[39;49m\u001b[38;5;241;43m.\u001b[39;49m\u001b[43mw3c_actions\u001b[49m\u001b[38;5;241;43m.\u001b[39;49m\u001b[43mperform\u001b[49m\u001b[43m(\u001b[49m\u001b[43m)\u001b[49m\n",
      "File \u001b[0;32m~/.local/lib/python3.10/site-packages/selenium/webdriver/common/actions/action_builder.py:88\u001b[0m, in \u001b[0;36mActionBuilder.perform\u001b[0;34m(self)\u001b[0m\n\u001b[1;32m     86\u001b[0m         enc[\u001b[38;5;124m\"\u001b[39m\u001b[38;5;124mactions\u001b[39m\u001b[38;5;124m\"\u001b[39m]\u001b[38;5;241m.\u001b[39mappend(encoded)\n\u001b[1;32m     87\u001b[0m         device\u001b[38;5;241m.\u001b[39mactions \u001b[38;5;241m=\u001b[39m []\n\u001b[0;32m---> 88\u001b[0m \u001b[38;5;28;43mself\u001b[39;49m\u001b[38;5;241;43m.\u001b[39;49m\u001b[43mdriver\u001b[49m\u001b[38;5;241;43m.\u001b[39;49m\u001b[43mexecute\u001b[49m\u001b[43m(\u001b[49m\u001b[43mCommand\u001b[49m\u001b[38;5;241;43m.\u001b[39;49m\u001b[43mW3C_ACTIONS\u001b[49m\u001b[43m,\u001b[49m\u001b[43m \u001b[49m\u001b[43menc\u001b[49m\u001b[43m)\u001b[49m\n",
      "File \u001b[0;32m~/.local/lib/python3.10/site-packages/selenium/webdriver/remote/webdriver.py:428\u001b[0m, in \u001b[0;36mWebDriver.execute\u001b[0;34m(self, driver_command, params)\u001b[0m\n\u001b[1;32m    426\u001b[0m response \u001b[38;5;241m=\u001b[39m \u001b[38;5;28mself\u001b[39m\u001b[38;5;241m.\u001b[39mcommand_executor\u001b[38;5;241m.\u001b[39mexecute(driver_command, params)\n\u001b[1;32m    427\u001b[0m \u001b[38;5;28;01mif\u001b[39;00m response:\n\u001b[0;32m--> 428\u001b[0m     \u001b[38;5;28;43mself\u001b[39;49m\u001b[38;5;241;43m.\u001b[39;49m\u001b[43merror_handler\u001b[49m\u001b[38;5;241;43m.\u001b[39;49m\u001b[43mcheck_response\u001b[49m\u001b[43m(\u001b[49m\u001b[43mresponse\u001b[49m\u001b[43m)\u001b[49m\n\u001b[1;32m    429\u001b[0m     response[\u001b[38;5;124m'\u001b[39m\u001b[38;5;124mvalue\u001b[39m\u001b[38;5;124m'\u001b[39m] \u001b[38;5;241m=\u001b[39m \u001b[38;5;28mself\u001b[39m\u001b[38;5;241m.\u001b[39m_unwrap_value(\n\u001b[1;32m    430\u001b[0m         response\u001b[38;5;241m.\u001b[39mget(\u001b[38;5;124m'\u001b[39m\u001b[38;5;124mvalue\u001b[39m\u001b[38;5;124m'\u001b[39m, \u001b[38;5;28;01mNone\u001b[39;00m))\n\u001b[1;32m    431\u001b[0m     \u001b[38;5;28;01mreturn\u001b[39;00m response\n",
      "File \u001b[0;32m~/.local/lib/python3.10/site-packages/selenium/webdriver/remote/errorhandler.py:243\u001b[0m, in \u001b[0;36mErrorHandler.check_response\u001b[0;34m(self, response)\u001b[0m\n\u001b[1;32m    241\u001b[0m         alert_text \u001b[38;5;241m=\u001b[39m value[\u001b[38;5;124m'\u001b[39m\u001b[38;5;124malert\u001b[39m\u001b[38;5;124m'\u001b[39m]\u001b[38;5;241m.\u001b[39mget(\u001b[38;5;124m'\u001b[39m\u001b[38;5;124mtext\u001b[39m\u001b[38;5;124m'\u001b[39m)\n\u001b[1;32m    242\u001b[0m     \u001b[38;5;28;01mraise\u001b[39;00m exception_class(message, screen, stacktrace, alert_text)  \u001b[38;5;66;03m# type: ignore[call-arg]  # mypy is not smart enough here\u001b[39;00m\n\u001b[0;32m--> 243\u001b[0m \u001b[38;5;28;01mraise\u001b[39;00m exception_class(message, screen, stacktrace)\n",
      "\u001b[0;31mWebDriverException\u001b[0m: Message: chrome not reachable\n  (Session info: chrome=106.0.5249.119)\nStacktrace:\n#0 0x565315d212d3 <unknown>\n#1 0x565315b2b2cb <unknown>\n#2 0x565315b1b204 <unknown>\n#3 0x565315b0bc01 <unknown>\n#4 0x565315b1099d <unknown>\n#5 0x565315b15bb6 <unknown>\n#6 0x565315b2c962 <unknown>\n#7 0x565315b94378 <unknown>\n#8 0x565315b80fe3 <unknown>\n#9 0x565315b56e33 <unknown>\n#10 0x565315b58015 <unknown>\n#11 0x565315d6d3fd <unknown>\n#12 0x565315d7099c <unknown>\n#13 0x565315d5439e <unknown>\n#14 0x565315d715d3 <unknown>\n#15 0x565315d4828f <unknown>\n#16 0x565315d8f728 <unknown>\n#17 0x565315d8f8d2 <unknown>\n#18 0x565315da999f <unknown>\n#19 0x7f327199db43 <unknown>\n"
     ]
    }
   ],
   "source": [
    "driver=webdriver.Chrome('./chromedriver')\n",
    "driver.get(url)\n",
    "time.sleep(6)\n",
    "ActionChains(driver).send_keys(Keys.END).perform()\n",
    "time.sleep(3)\n",
    "ActionChains(driver).send_keys(Keys.END).perform()\n",
    "time.sleep(2)\n",
    "pagweb=driver.page_source\n",
    "driver.quit()"
   ]
  },
  {
   "cell_type": "code",
   "execution_count": 89,
   "id": "1eb259a4-c46e-4288-8d2a-1ef26d819587",
   "metadata": {},
   "outputs": [
    {
     "data": {
      "text/plain": [
       "60"
      ]
     },
     "execution_count": 89,
     "metadata": {},
     "output_type": "execute_result"
    }
   ],
   "source": [
    "electronicos=BeautifulSoup(pagweb,'html')\n",
    "link_to_products=electronicos.select('a._3t7zg._2f4Ho')\n",
    "len(link_to_products)"
   ]
  },
  {
   "cell_type": "code",
   "execution_count": 135,
   "id": "c9ca543c-f7a5-4fb6-b013-f066e8fc3d16",
   "metadata": {},
   "outputs": [
    {
     "data": {
      "text/plain": [
       "'https://es.aliexpress.com/item/1005004750033579.html?algo_pvid=fc8bcb19-7f0d-4191-8e2a-410b38ecb938&algo_exp_id=fc8bcb19-7f0d-4191-8e2a-410b38ecb938-1&pdp_ext_f=%7B%22sku_id%22%3A%2212000030333828719%22%7D&pdp_npi=2%40dis%21MXN%21692.61%21692.61%21%21%21%21%21%40210318bb16674290380842501ed7ad%2112000030333828719%21sea&curPageLogUid=LbkVwooYq288'"
      ]
     },
     "execution_count": 135,
     "metadata": {},
     "output_type": "execute_result"
    }
   ],
   "source": [
    "protocolo='https:'\n",
    "link_w_protocolo=[protocolo+i for i in links]\n",
    "link_w_protocolo[1]"
   ]
  },
  {
   "cell_type": "code",
   "execution_count": 134,
   "id": "27526651-ecbc-429c-aa3c-62950367734b",
   "metadata": {},
   "outputs": [
    {
     "data": {
      "text/plain": [
       "'Reloj inteligente 8 ultra 49mm para hombre y mujer, nuevo accesorio de pulsera resistente al agua con llamadas, Bluetooth, 8 cargas inalámbricas, 2022'"
      ]
     },
     "execution_count": 134,
     "metadata": {},
     "output_type": "execute_result"
    }
   ],
   "source": [
    "\n",
    "driver=webdriver.Chrome('./chromedriver')\n",
    "driver.get(link_w_protocolo[5])\n",
    "time.sleep(1)\n",
    "pagweb = driver.page_source\n",
    "driver.quit()\n",
    "product = BeautifulSoup(pagweb , 'html')\n",
    "product_name=product.select('h1.product-title-text')[0]\n",
    "product_name.get_text()"
   ]
  },
  {
   "cell_type": "code",
   "execution_count": 110,
   "id": "956144a9-e9a7-4507-a7c4-c7d213878967",
   "metadata": {},
   "outputs": [
    {
     "data": {
      "text/plain": [
       "'Reloj inteligente 8 ultra 49mm para hombre y mujer, nuevo accesorio de pulsera resistente al agua con llamadas, Bluetooth, 8 cargas inalámbricas, 2022'"
      ]
     },
     "execution_count": 110,
     "metadata": {},
     "output_type": "execute_result"
    }
   ],
   "source": [
    "product_name=product.select('h1.product-title-text')[0]\n",
    "product_name.get_text()"
   ]
  },
  {
   "cell_type": "code",
   "execution_count": 112,
   "id": "49fb7eef-c145-4704-8128-e64537ddf30e",
   "metadata": {},
   "outputs": [
    {
     "data": {
      "text/plain": [
       "'4.225 Valoraciones1113 vendidos'"
      ]
     },
     "execution_count": 112,
     "metadata": {},
     "output_type": "execute_result"
    }
   ],
   "source": [
    "driver=webdriver.Chrome('./chromedriver')\n",
    "driver.get(link_w_protocolo[5])\n",
    "time.sleep(6)\n",
    "pagweb = driver.page_source\n",
    "driver.quit()\n",
    "product = BeautifulSoup(pagweb , 'html')\n",
    "\n",
    "product_review=product.select('div.product-reviewer')[0]\n",
    "product_review.get_text()"
   ]
  },
  {
   "cell_type": "code",
   "execution_count": 116,
   "id": "8e269e42-6216-4182-b6e4-7bf48dac1405",
   "metadata": {},
   "outputs": [
    {
     "data": {
      "text/plain": [
       "'4.225 Valoraciones1113 vendidos'"
      ]
     },
     "execution_count": 116,
     "metadata": {},
     "output_type": "execute_result"
    }
   ],
   "source": [
    "product_review=product.select('div.product-reviewer')[0]\n",
    "product_review.get_text()"
   ]
  },
  {
   "cell_type": "code",
   "execution_count": 117,
   "id": "b8bfe52c-ab74-4b36-8ea2-93cedb4fe06a",
   "metadata": {},
   "outputs": [
    {
     "data": {
      "text/plain": [
       "['4.2', '25 Valoraciones', '1113 vendidos']"
      ]
     },
     "execution_count": 117,
     "metadata": {},
     "output_type": "execute_result"
    }
   ],
   "source": [
    "texto=[i.text for i in product_review ]\n",
    "texto"
   ]
  },
  {
   "cell_type": "code",
   "execution_count": 238,
   "id": "12ecac45-9126-47bd-a3be-df6da376c921",
   "metadata": {},
   "outputs": [],
   "source": [
    "import numpy as np\n",
    "def get_page_source(url):\n",
    "    \"\"\"\n",
    "    Esta función extrae el código fuente\n",
    "    de una página; en este caso, de Aliexpress\n",
    "    \"\"\"\n",
    "    options=webdriver.ChromeOptions()\n",
    "    options.add_argument('--ignore-certificate-errors')\n",
    "    options.add_argument('--incognito')\n",
    "    driver=webdriver.Chrome('./chromedriver',chrome_options=options)\n",
    "    driver.get(url)\n",
    "    time.sleep(np.random.randint(3,high=7))\n",
    "    ActionChains(driver).send_keys(Keys.END).perform()\n",
    "    time.sleep(np.random.randint(3,high=7))\n",
    "    ActionChains(driver).send_keys(Keys.END).perform()\n",
    "    page_source=driver.page_source\n",
    "    \n",
    "    driver.quit()\n",
    "    \n",
    "    return page_source\n",
    "    "
   ]
  },
  {
   "cell_type": "code",
   "execution_count": 243,
   "id": "7d3da1ab-9848-4045-a85d-87fafa39fe5b",
   "metadata": {
    "tags": []
   },
   "outputs": [],
   "source": [
    "def get_links(page_source):\n",
    "    \"\"\"\n",
    "    Recibe el código fuente de una página\n",
    "    extrae las url y las regresa\n",
    "    \"\"\"\n",
    "    soup=BeautifulSoup(page_source,'html')\n",
    "    link_to_product=soup.select('a[class=\"_3t7zg _2f4Ho\"]')\n",
    "    links=[i['href'] for i in link_to_product]\n",
    "    protocol='https:'\n",
    "    links_w_protocol=[protocol+i for i in links]\n",
    "    return links_w_protocol\n",
    "    \n",
    "    "
   ]
  },
  {
   "cell_type": "code",
   "execution_count": 255,
   "id": "2161ed36-7fc8-44e9-9d60-db6ea08dd488",
   "metadata": {},
   "outputs": [],
   "source": [
    "def random_keypress_generator():\n",
    "    #probs %    40                5              5                10             20           20\n",
    "    keys=[Keys.ARROW_DOWN, Keys.ARROW_LEFT, Keys.ARROW_UP, Keys.ARROW_RIGHT, Keys.PAGE_UP, Keys.END ]\n",
    "    action=np.random.choice(keys,p=[0.4,0.05,0.05,0.1,0.2,0.2])\n",
    "    return action"
   ]
  },
  {
   "cell_type": "code",
   "execution_count": 259,
   "id": "7fb8b085-2d9b-4f08-ba07-0b8957dc6f31",
   "metadata": {},
   "outputs": [],
   "source": [
    "def web_content(link):\n",
    "    \"\"\"\n",
    "    Recibe la url de un producto\n",
    "    y extrae el código fuente y lo devuelve\n",
    "    \"\"\"\n",
    "    options=webdriver.ChromeOptions()\n",
    "    options.add_argument('--ignore-certificate-errors')\n",
    "    options.add_argument('--incognito')\n",
    "    driver=webdriver.Chrome('./chromedriver',chrome_options=options)\n",
    "    driver.get(link)\n",
    "    time.sleep(np.random.randint(3,high=4))\n",
    "    \n",
    "    for i in range(np.random.randint(3,high=4)):\n",
    "        ActionChains(driver).send_keys(random_keypress_generator()).perform()\n",
    "        time.sleep(np.random.randint(3,high=4))\n",
    "    page_source=driver.page_source\n",
    "    driver.quit()\n",
    "    return page_source"
   ]
  },
  {
   "cell_type": "code",
   "execution_count": 275,
   "id": "f58eda04-0370-4b1c-b748-eb9204990a61",
   "metadata": {},
   "outputs": [],
   "source": [
    "def alies_parser(page_source):\n",
    "    \"\"\"\n",
    "    recibe una url, y extrae lo siguiente:\n",
    "        -nombre del producto\n",
    "        -precio\n",
    "        -calificación\n",
    "        -núm de calificaciones\n",
    "        -núm de productos vendidos\n",
    "    \"\"\"\n",
    "    product=BeautifulSoup(page_source,'html')\n",
    "    product_name=product.select('h1.product-title-text')\n",
    "    product_name=product_name[0].get_text()\n",
    "    product_review=product.find('div',class_='product-reviewer')\n",
    "    text=[i.text for i in product_review ]\n",
    "    try:\n",
    "        avg_rating=text[0]\n",
    "        num_reviews=re.findall(r'[0-9].+?' ,text[1])\n",
    "        orders_made=re.findall(r'\\d+',text[2])\n",
    "    except IndexError:\n",
    "        avg_rating=0\n",
    "        num_reviews=0\n",
    "        orders_made=0\n",
    "    try:\n",
    "        price=product.find('span',class_='product-price-value').get_text()\n",
    "    except AttributeError:\n",
    "        price=product.find('span',class_='unifrom-banner-box-price').get_text()\n",
    "    return product_name,price,orders_made,avg_rating,num_reviews"
   ]
  },
  {
   "cell_type": "code",
   "execution_count": 277,
   "id": "b067584f-3e40-4592-8b76-60d1b87fb902",
   "metadata": {},
   "outputs": [],
   "source": [
    "def alis_project():\n",
    "    url = \"https://es.aliexpress.com/category/204011178/smart-electronics.html\"\n",
    "    page_source = get_page_source(url)\n",
    "    links = get_links(page_source)\n",
    "    print(len(links))\n",
    "    for num,link in enumerate (links,start=1):\n",
    "        print('vamos en el link número',num)\n",
    "        filename=f\"product_{num}_aliexpress.csv\"\n",
    "        filename=\"project/\"+filename\n",
    "        print('el documento se guardará en',filename)\n",
    "        \n",
    "        if not Path(filename).is_file():\n",
    "            page_source=web_content(link)\n",
    "            print(link)\n",
    "            print('Se terminó de extraer el código fuente de la página del art')\n",
    "            info=alies_parser(page_source)\n",
    "            info=list(info)+[link]\n",
    "            df=pd.DataFrame([info], columns=[\"Product_Name\", \"Price\",\n",
    "                                     \"Orders\", \"Avg_Review_Rating\", \n",
    "                                     \"Total_Reviews\", \n",
    "                                     \"Link\"],\n",
    "                          dtype=object)\n",
    "            df.to_csv(filename,index=False)\n",
    "            print('ya se guardó la info')\n",
    "    print('Proyecto terminado')"
   ]
  },
  {
   "cell_type": "code",
   "execution_count": 278,
   "id": "7f574e55-203c-42d8-9c5d-c2bcf4f9cb6c",
   "metadata": {},
   "outputs": [
    {
     "name": "stdout",
     "output_type": "stream",
     "text": [
      "52\n",
      "vamos en el link número 1\n",
      "el documento se guardará en project/product_1_aliexpress.csv\n",
      "https://es.aliexpress.com/item/1005004737237352.html?algo_pvid=271505be-5f84-4038-8afa-974992fc7699&algo_exp_id=271505be-5f84-4038-8afa-974992fc7699-0&pdp_ext_f=%7B%22sku_id%22%3A%2212000030290949785%22%7D&pdp_npi=2%40dis%21MXN%21138.76%2167.98%21%21%21%21%21%40210318c916674991363693667e3ce5%2112000030290949785%21sea&curPageLogUid=00YdId63CKHZ\n",
      "Se terminó de extraer el código fuente de la página del art\n",
      "ya se guardó la info\n",
      "vamos en el link número 2\n",
      "el documento se guardará en project/product_2_aliexpress.csv\n",
      "https://es.aliexpress.com/item/1005004750201335.html?algo_pvid=271505be-5f84-4038-8afa-974992fc7699&algo_exp_id=271505be-5f84-4038-8afa-974992fc7699-1&pdp_ext_f=%7B%22sku_id%22%3A%2212000030334466431%22%7D&pdp_npi=2%40dis%21MXN%21690.58%21690.58%21%21%21%21%21%40210318c916674991363693667e3ce5%2112000030334466431%21sea&curPageLogUid=jkgvzIRRcJjQ\n",
      "Se terminó de extraer el código fuente de la página del art\n",
      "ya se guardó la info\n",
      "vamos en el link número 3\n",
      "el documento se guardará en project/product_3_aliexpress.csv\n",
      "https://es.aliexpress.com/item/1005004749968333.html?algo_pvid=271505be-5f84-4038-8afa-974992fc7699&algo_exp_id=271505be-5f84-4038-8afa-974992fc7699-2&pdp_ext_f=%7B%22sku_id%22%3A%2212000030333612516%22%7D&pdp_npi=2%40dis%21MXN%21690.58%21690.58%21%21%21%21%21%40210318c916674991363693667e3ce5%2112000030333612516%21sea&curPageLogUid=skn7hGRi2RUb\n",
      "Se terminó de extraer el código fuente de la página del art\n",
      "ya se guardó la info\n",
      "vamos en el link número 4\n",
      "el documento se guardará en project/product_4_aliexpress.csv\n"
     ]
    },
    {
     "ename": "WebDriverException",
     "evalue": "Message: chrome not reachable\n  (Session info: chrome=106.0.5249.119)\nStacktrace:\n#0 0x55ac9cb4d2d3 <unknown>\n#1 0x55ac9c9572cb <unknown>\n#2 0x55ac9c947204 <unknown>\n#3 0x55ac9c937c01 <unknown>\n#4 0x55ac9c93c99d <unknown>\n#5 0x55ac9c941bb6 <unknown>\n#6 0x55ac9c958962 <unknown>\n#7 0x55ac9c9c0378 <unknown>\n#8 0x55ac9c9acfe3 <unknown>\n#9 0x55ac9c982e33 <unknown>\n#10 0x55ac9c984015 <unknown>\n#11 0x55ac9cb993fd <unknown>\n#12 0x55ac9cb9c99c <unknown>\n#13 0x55ac9cb8039e <unknown>\n#14 0x55ac9cb9d5d3 <unknown>\n#15 0x55ac9cb7428f <unknown>\n#16 0x55ac9cbbb728 <unknown>\n#17 0x55ac9cbbb8d2 <unknown>\n#18 0x55ac9cbd599f <unknown>\n#19 0x7f81cc504b43 <unknown>\n",
     "output_type": "error",
     "traceback": [
      "\u001b[0;31m---------------------------------------------------------------------------\u001b[0m",
      "\u001b[0;31mWebDriverException\u001b[0m                        Traceback (most recent call last)",
      "Input \u001b[0;32mIn [278]\u001b[0m, in \u001b[0;36m<cell line: 1>\u001b[0;34m()\u001b[0m\n\u001b[0;32m----> 1\u001b[0m \u001b[43malis_project\u001b[49m\u001b[43m(\u001b[49m\u001b[43m)\u001b[49m\n",
      "Input \u001b[0;32mIn [277]\u001b[0m, in \u001b[0;36malis_project\u001b[0;34m()\u001b[0m\n\u001b[1;32m     10\u001b[0m \u001b[38;5;28mprint\u001b[39m(\u001b[38;5;124m'\u001b[39m\u001b[38;5;124mel documento se guardará en\u001b[39m\u001b[38;5;124m'\u001b[39m,filename)\n\u001b[1;32m     12\u001b[0m \u001b[38;5;28;01mif\u001b[39;00m \u001b[38;5;129;01mnot\u001b[39;00m Path(filename)\u001b[38;5;241m.\u001b[39mis_file():\n\u001b[0;32m---> 13\u001b[0m     page_source\u001b[38;5;241m=\u001b[39m\u001b[43mweb_content\u001b[49m\u001b[43m(\u001b[49m\u001b[43mlink\u001b[49m\u001b[43m)\u001b[49m\n\u001b[1;32m     14\u001b[0m     \u001b[38;5;28mprint\u001b[39m(link)\n\u001b[1;32m     15\u001b[0m     \u001b[38;5;28mprint\u001b[39m(\u001b[38;5;124m'\u001b[39m\u001b[38;5;124mSe terminó de extraer el código fuente de la página del art\u001b[39m\u001b[38;5;124m'\u001b[39m)\n",
      "Input \u001b[0;32mIn [259]\u001b[0m, in \u001b[0;36mweb_content\u001b[0;34m(link)\u001b[0m\n\u001b[1;32m     11\u001b[0m time\u001b[38;5;241m.\u001b[39msleep(np\u001b[38;5;241m.\u001b[39mrandom\u001b[38;5;241m.\u001b[39mrandint(\u001b[38;5;241m3\u001b[39m,high\u001b[38;5;241m=\u001b[39m\u001b[38;5;241m4\u001b[39m))\n\u001b[1;32m     13\u001b[0m \u001b[38;5;28;01mfor\u001b[39;00m i \u001b[38;5;129;01min\u001b[39;00m \u001b[38;5;28mrange\u001b[39m(np\u001b[38;5;241m.\u001b[39mrandom\u001b[38;5;241m.\u001b[39mrandint(\u001b[38;5;241m3\u001b[39m,high\u001b[38;5;241m=\u001b[39m\u001b[38;5;241m4\u001b[39m)):\n\u001b[0;32m---> 14\u001b[0m     \u001b[43mActionChains\u001b[49m\u001b[43m(\u001b[49m\u001b[43mdriver\u001b[49m\u001b[43m)\u001b[49m\u001b[38;5;241;43m.\u001b[39;49m\u001b[43msend_keys\u001b[49m\u001b[43m(\u001b[49m\u001b[43mrandom_keypress_generator\u001b[49m\u001b[43m(\u001b[49m\u001b[43m)\u001b[49m\u001b[43m)\u001b[49m\u001b[38;5;241;43m.\u001b[39;49m\u001b[43mperform\u001b[49m\u001b[43m(\u001b[49m\u001b[43m)\u001b[49m\n\u001b[1;32m     15\u001b[0m     time\u001b[38;5;241m.\u001b[39msleep(np\u001b[38;5;241m.\u001b[39mrandom\u001b[38;5;241m.\u001b[39mrandint(\u001b[38;5;241m3\u001b[39m,high\u001b[38;5;241m=\u001b[39m\u001b[38;5;241m4\u001b[39m))\n\u001b[1;32m     16\u001b[0m page_source\u001b[38;5;241m=\u001b[39mdriver\u001b[38;5;241m.\u001b[39mpage_source\n",
      "File \u001b[0;32m~/.local/lib/python3.10/site-packages/selenium/webdriver/common/action_chains.py:78\u001b[0m, in \u001b[0;36mActionChains.perform\u001b[0;34m(self)\u001b[0m\n\u001b[1;32m     74\u001b[0m \u001b[38;5;28;01mdef\u001b[39;00m \u001b[38;5;21mperform\u001b[39m(\u001b[38;5;28mself\u001b[39m):\n\u001b[1;32m     75\u001b[0m     \u001b[38;5;124;03m\"\"\"\u001b[39;00m\n\u001b[1;32m     76\u001b[0m \u001b[38;5;124;03m    Performs all stored actions.\u001b[39;00m\n\u001b[1;32m     77\u001b[0m \u001b[38;5;124;03m    \"\"\"\u001b[39;00m\n\u001b[0;32m---> 78\u001b[0m     \u001b[38;5;28;43mself\u001b[39;49m\u001b[38;5;241;43m.\u001b[39;49m\u001b[43mw3c_actions\u001b[49m\u001b[38;5;241;43m.\u001b[39;49m\u001b[43mperform\u001b[49m\u001b[43m(\u001b[49m\u001b[43m)\u001b[49m\n",
      "File \u001b[0;32m~/.local/lib/python3.10/site-packages/selenium/webdriver/common/actions/action_builder.py:88\u001b[0m, in \u001b[0;36mActionBuilder.perform\u001b[0;34m(self)\u001b[0m\n\u001b[1;32m     86\u001b[0m         enc[\u001b[38;5;124m\"\u001b[39m\u001b[38;5;124mactions\u001b[39m\u001b[38;5;124m\"\u001b[39m]\u001b[38;5;241m.\u001b[39mappend(encoded)\n\u001b[1;32m     87\u001b[0m         device\u001b[38;5;241m.\u001b[39mactions \u001b[38;5;241m=\u001b[39m []\n\u001b[0;32m---> 88\u001b[0m \u001b[38;5;28;43mself\u001b[39;49m\u001b[38;5;241;43m.\u001b[39;49m\u001b[43mdriver\u001b[49m\u001b[38;5;241;43m.\u001b[39;49m\u001b[43mexecute\u001b[49m\u001b[43m(\u001b[49m\u001b[43mCommand\u001b[49m\u001b[38;5;241;43m.\u001b[39;49m\u001b[43mW3C_ACTIONS\u001b[49m\u001b[43m,\u001b[49m\u001b[43m \u001b[49m\u001b[43menc\u001b[49m\u001b[43m)\u001b[49m\n",
      "File \u001b[0;32m~/.local/lib/python3.10/site-packages/selenium/webdriver/remote/webdriver.py:428\u001b[0m, in \u001b[0;36mWebDriver.execute\u001b[0;34m(self, driver_command, params)\u001b[0m\n\u001b[1;32m    426\u001b[0m response \u001b[38;5;241m=\u001b[39m \u001b[38;5;28mself\u001b[39m\u001b[38;5;241m.\u001b[39mcommand_executor\u001b[38;5;241m.\u001b[39mexecute(driver_command, params)\n\u001b[1;32m    427\u001b[0m \u001b[38;5;28;01mif\u001b[39;00m response:\n\u001b[0;32m--> 428\u001b[0m     \u001b[38;5;28;43mself\u001b[39;49m\u001b[38;5;241;43m.\u001b[39;49m\u001b[43merror_handler\u001b[49m\u001b[38;5;241;43m.\u001b[39;49m\u001b[43mcheck_response\u001b[49m\u001b[43m(\u001b[49m\u001b[43mresponse\u001b[49m\u001b[43m)\u001b[49m\n\u001b[1;32m    429\u001b[0m     response[\u001b[38;5;124m'\u001b[39m\u001b[38;5;124mvalue\u001b[39m\u001b[38;5;124m'\u001b[39m] \u001b[38;5;241m=\u001b[39m \u001b[38;5;28mself\u001b[39m\u001b[38;5;241m.\u001b[39m_unwrap_value(\n\u001b[1;32m    430\u001b[0m         response\u001b[38;5;241m.\u001b[39mget(\u001b[38;5;124m'\u001b[39m\u001b[38;5;124mvalue\u001b[39m\u001b[38;5;124m'\u001b[39m, \u001b[38;5;28;01mNone\u001b[39;00m))\n\u001b[1;32m    431\u001b[0m     \u001b[38;5;28;01mreturn\u001b[39;00m response\n",
      "File \u001b[0;32m~/.local/lib/python3.10/site-packages/selenium/webdriver/remote/errorhandler.py:243\u001b[0m, in \u001b[0;36mErrorHandler.check_response\u001b[0;34m(self, response)\u001b[0m\n\u001b[1;32m    241\u001b[0m         alert_text \u001b[38;5;241m=\u001b[39m value[\u001b[38;5;124m'\u001b[39m\u001b[38;5;124malert\u001b[39m\u001b[38;5;124m'\u001b[39m]\u001b[38;5;241m.\u001b[39mget(\u001b[38;5;124m'\u001b[39m\u001b[38;5;124mtext\u001b[39m\u001b[38;5;124m'\u001b[39m)\n\u001b[1;32m    242\u001b[0m     \u001b[38;5;28;01mraise\u001b[39;00m exception_class(message, screen, stacktrace, alert_text)  \u001b[38;5;66;03m# type: ignore[call-arg]  # mypy is not smart enough here\u001b[39;00m\n\u001b[0;32m--> 243\u001b[0m \u001b[38;5;28;01mraise\u001b[39;00m exception_class(message, screen, stacktrace)\n",
      "\u001b[0;31mWebDriverException\u001b[0m: Message: chrome not reachable\n  (Session info: chrome=106.0.5249.119)\nStacktrace:\n#0 0x55ac9cb4d2d3 <unknown>\n#1 0x55ac9c9572cb <unknown>\n#2 0x55ac9c947204 <unknown>\n#3 0x55ac9c937c01 <unknown>\n#4 0x55ac9c93c99d <unknown>\n#5 0x55ac9c941bb6 <unknown>\n#6 0x55ac9c958962 <unknown>\n#7 0x55ac9c9c0378 <unknown>\n#8 0x55ac9c9acfe3 <unknown>\n#9 0x55ac9c982e33 <unknown>\n#10 0x55ac9c984015 <unknown>\n#11 0x55ac9cb993fd <unknown>\n#12 0x55ac9cb9c99c <unknown>\n#13 0x55ac9cb8039e <unknown>\n#14 0x55ac9cb9d5d3 <unknown>\n#15 0x55ac9cb7428f <unknown>\n#16 0x55ac9cbbb728 <unknown>\n#17 0x55ac9cbbb8d2 <unknown>\n#18 0x55ac9cbd599f <unknown>\n#19 0x7f81cc504b43 <unknown>\n"
     ]
    }
   ],
   "source": [
    "alis_project()"
   ]
  },
  {
   "cell_type": "code",
   "execution_count": null,
   "id": "d3e16b5e-a086-4833-80ff-5ebf2b59ffa7",
   "metadata": {},
   "outputs": [],
   "source": []
  },
  {
   "cell_type": "code",
   "execution_count": null,
   "id": "8f252663-7b73-48cc-86cc-716bbf8b2442",
   "metadata": {},
   "outputs": [],
   "source": []
  },
  {
   "cell_type": "code",
   "execution_count": null,
   "id": "85fab9a7-3b29-4ece-8598-39ad4b2b4653",
   "metadata": {},
   "outputs": [],
   "source": []
  },
  {
   "cell_type": "code",
   "execution_count": null,
   "id": "450d2bfd-6d28-49c4-9f34-a2c52a810150",
   "metadata": {},
   "outputs": [],
   "source": []
  },
  {
   "cell_type": "code",
   "execution_count": null,
   "id": "3caf6215-6402-443d-bc4c-ea10321df898",
   "metadata": {},
   "outputs": [],
   "source": [
    "# t=np.linspace(0,5,1000000)\n",
    "# x=np.sin(2*np.pi*t)+np.sin(20*np.pi*t)+np.sin(250*np.pi*t)\n",
    "# x_r=np.zeros(int(len(x)/2))\n",
    "# inicio=time.time()\n",
    "# for i in range(0,int(len(x)/2)):\n",
    "#     for ii in range (len(x)):\n",
    "#         x_r[i]+=x[ii]*np.exp(-2j*np.pi*i*ii/len(x))\n",
    "# print(time.time()-inicio,'segundos')\n",
    "# import matplotlib.pyplot as plt\n",
    "# inicio=time.time()\n",
    "# x_rapi=np.fft.fft(x)\n",
    "# print(time.time()-inicio,'segundos')\n",
    "# plt.plot(x_r)\n",
    "# plt.plot(np.fft.fft(x)[:int(len(x)/2)])"
   ]
  }
 ],
 "metadata": {
  "kernelspec": {
   "display_name": "Python 3 (ipykernel)",
   "language": "python",
   "name": "python3"
  },
  "language_info": {
   "codemirror_mode": {
    "name": "ipython",
    "version": 3
   },
   "file_extension": ".py",
   "mimetype": "text/x-python",
   "name": "python",
   "nbconvert_exporter": "python",
   "pygments_lexer": "ipython3",
   "version": "3.10.6"
  }
 },
 "nbformat": 4,
 "nbformat_minor": 5
}
