{
  "nbformat": 4,
  "nbformat_minor": 0,
  "metadata": {
    "colab": {
      "provenance": []
    },
    "kernelspec": {
      "name": "python3",
      "display_name": "Python 3"
    },
    "language_info": {
      "name": "python"
    }
  },
  "cells": [
    {
      "cell_type": "code",
      "execution_count": 1,
      "metadata": {
        "id": "w9QDrD1YwbQX"
      },
      "outputs": [],
      "source": [
        "%load_ext sql"
      ]
    },
    {
      "cell_type": "code",
      "source": [
        "%sql sqlite:///publications.db\n",
        "#se conecta a la base de datos si existe, y si no, la crea"
      ],
      "metadata": {
        "colab": {
          "base_uri": "https://localhost:8080/",
          "height": 36
        },
        "id": "reYEsoHHxhBh",
        "outputId": "ae5daee8-1f4f-417f-f4b9-8c6d9385c7ce"
      },
      "execution_count": 25,
      "outputs": [
        {
          "output_type": "execute_result",
          "data": {
            "text/plain": [
              "'Connected: @publications.db'"
            ],
            "application/vnd.google.colaboratory.intrinsic+json": {
              "type": "string"
            }
          },
          "metadata": {},
          "execution_count": 25
        }
      ]
    },
    {
      "cell_type": "code",
      "source": [
        "%%sql \n",
        "SELECT * FROM stores;\n"
      ],
      "metadata": {
        "colab": {
          "base_uri": "https://localhost:8080/",
          "height": 240
        },
        "id": "GsZDKGzlxiWH",
        "outputId": "7f8451e3-2be3-4e35-9608-a6aff2eab24e"
      },
      "execution_count": 26,
      "outputs": [
        {
          "output_type": "stream",
          "name": "stdout",
          "text": [
            " * sqlite:///publications.db\n",
            "   sqlite:///publications_prueba.db\n",
            "   sqlite:///publifdsfsdcations.db\n",
            "Done.\n"
          ]
        },
        {
          "output_type": "execute_result",
          "data": {
            "text/plain": [
              "[('6380', 'Eric the Read Books', '788 Catamaugus Ave.', 'Seattle', 'WA', '98056'),\n",
              " ('7066', \"Barnum's\", '567 Pasadena Ave.', 'Tustin', 'CA', '92789'),\n",
              " ('7067', 'News & Brews', '577 First St.', 'Los Gatos', 'CA', '96745'),\n",
              " ('7131', 'Doc-U-Mat: Quality Laundry and Books', '24-A Avogadro Way', 'Remulade', 'WA', '98014'),\n",
              " ('7896', 'Fricative Bookshop', '89 Madison St.', 'Fremont', 'CA', '90019'),\n",
              " ('8042', 'Bookbeat', '679 Carson St.', 'Portland', 'OR', '89076')]"
            ],
            "text/html": [
              "<table>\n",
              "    <thead>\n",
              "        <tr>\n",
              "            <th>stor_id</th>\n",
              "            <th>stor_name</th>\n",
              "            <th>stor_address</th>\n",
              "            <th>city</th>\n",
              "            <th>state</th>\n",
              "            <th>zip</th>\n",
              "        </tr>\n",
              "    </thead>\n",
              "    <tbody>\n",
              "        <tr>\n",
              "            <td>6380</td>\n",
              "            <td>Eric the Read Books</td>\n",
              "            <td>788 Catamaugus Ave.</td>\n",
              "            <td>Seattle</td>\n",
              "            <td>WA</td>\n",
              "            <td>98056</td>\n",
              "        </tr>\n",
              "        <tr>\n",
              "            <td>7066</td>\n",
              "            <td>Barnum&#x27;s</td>\n",
              "            <td>567 Pasadena Ave.</td>\n",
              "            <td>Tustin</td>\n",
              "            <td>CA</td>\n",
              "            <td>92789</td>\n",
              "        </tr>\n",
              "        <tr>\n",
              "            <td>7067</td>\n",
              "            <td>News &amp; Brews</td>\n",
              "            <td>577 First St.</td>\n",
              "            <td>Los Gatos</td>\n",
              "            <td>CA</td>\n",
              "            <td>96745</td>\n",
              "        </tr>\n",
              "        <tr>\n",
              "            <td>7131</td>\n",
              "            <td>Doc-U-Mat: Quality Laundry and Books</td>\n",
              "            <td>24-A Avogadro Way</td>\n",
              "            <td>Remulade</td>\n",
              "            <td>WA</td>\n",
              "            <td>98014</td>\n",
              "        </tr>\n",
              "        <tr>\n",
              "            <td>7896</td>\n",
              "            <td>Fricative Bookshop</td>\n",
              "            <td>89 Madison St.</td>\n",
              "            <td>Fremont</td>\n",
              "            <td>CA</td>\n",
              "            <td>90019</td>\n",
              "        </tr>\n",
              "        <tr>\n",
              "            <td>8042</td>\n",
              "            <td>Bookbeat</td>\n",
              "            <td>679 Carson St.</td>\n",
              "            <td>Portland</td>\n",
              "            <td>OR</td>\n",
              "            <td>89076</td>\n",
              "        </tr>\n",
              "    </tbody>\n",
              "</table>"
            ]
          },
          "metadata": {},
          "execution_count": 26
        }
      ]
    },
    {
      "cell_type": "code",
      "source": [
        "%%sql\n",
        "select * from authors\n",
        "limit 10;"
      ],
      "metadata": {
        "colab": {
          "base_uri": "https://localhost:8080/",
          "height": 306
        },
        "id": "hsZx78jGxiTR",
        "outputId": "584d78eb-9061-480d-b27f-43c46ba30e2e"
      },
      "execution_count": 10,
      "outputs": [
        {
          "output_type": "stream",
          "name": "stdout",
          "text": [
            " * sqlite:///publications.db\n",
            "   sqlite:///publications_prueba.db\n",
            "Done.\n"
          ]
        },
        {
          "output_type": "execute_result",
          "data": {
            "text/plain": [
              "[('172-32-1176', 'White', 'Johnson', '408 496-7223', '10932 Bigge Rd.', 'Menlo Park', 'CA', '94025', 1),\n",
              " ('213-46-8915', 'Green', 'Marjorie', '415 986-7020', '309 63rd St. #411', 'Oakland', 'CA', '94618', 1),\n",
              " ('238-95-7766', 'Carson', 'Cheryl', '415 548-7723', '589 Darwin Ln.', 'Berkeley', 'CA', '94705', 1),\n",
              " ('267-41-2394', \"O'Leary\", 'Michael', '408 286-2428', '22 Cleveland Av. #14', 'San Jose', 'CA', '95128', 1),\n",
              " ('274-80-9391', 'Straight', 'Dean', '415 834-2919', '5420 College Av.', 'Oakland', 'CA', '94609', 1),\n",
              " ('341-22-1782', 'Smith', 'Meander', '913 843-0462', '10 Mississippi Dr.', 'Lawrence', 'KS', '66044', 0),\n",
              " ('409-56-7008', 'Bennet', 'Abraham', '415 658-9932', '6223 Bateman St.', 'Berkeley', 'CA', '94705', 1),\n",
              " ('427-17-2319', 'Dull', 'Ann', '415 836-7128', '3410 Blonde St.', 'Palo Alto', 'CA', '94301', 1),\n",
              " ('472-27-2349', 'Gringlesby', 'Burt', '707 938-6445', 'PO Box 792', 'Covelo', 'CA', '95428', 1),\n",
              " ('486-29-1786', 'Locksley', 'Charlene', '415 585-4620', '18 Broadway Av.', 'San Francisco', 'CA', '94130', 1)]"
            ],
            "text/html": [
              "<table>\n",
              "    <thead>\n",
              "        <tr>\n",
              "            <th>au_id</th>\n",
              "            <th>au_lname</th>\n",
              "            <th>au_fname</th>\n",
              "            <th>phone</th>\n",
              "            <th>address</th>\n",
              "            <th>city</th>\n",
              "            <th>state</th>\n",
              "            <th>zip</th>\n",
              "            <th>contract</th>\n",
              "        </tr>\n",
              "    </thead>\n",
              "    <tbody>\n",
              "        <tr>\n",
              "            <td>172-32-1176</td>\n",
              "            <td>White</td>\n",
              "            <td>Johnson</td>\n",
              "            <td>408 496-7223</td>\n",
              "            <td>10932 Bigge Rd.</td>\n",
              "            <td>Menlo Park</td>\n",
              "            <td>CA</td>\n",
              "            <td>94025</td>\n",
              "            <td>1</td>\n",
              "        </tr>\n",
              "        <tr>\n",
              "            <td>213-46-8915</td>\n",
              "            <td>Green</td>\n",
              "            <td>Marjorie</td>\n",
              "            <td>415 986-7020</td>\n",
              "            <td>309 63rd St. #411</td>\n",
              "            <td>Oakland</td>\n",
              "            <td>CA</td>\n",
              "            <td>94618</td>\n",
              "            <td>1</td>\n",
              "        </tr>\n",
              "        <tr>\n",
              "            <td>238-95-7766</td>\n",
              "            <td>Carson</td>\n",
              "            <td>Cheryl</td>\n",
              "            <td>415 548-7723</td>\n",
              "            <td>589 Darwin Ln.</td>\n",
              "            <td>Berkeley</td>\n",
              "            <td>CA</td>\n",
              "            <td>94705</td>\n",
              "            <td>1</td>\n",
              "        </tr>\n",
              "        <tr>\n",
              "            <td>267-41-2394</td>\n",
              "            <td>O&#x27;Leary</td>\n",
              "            <td>Michael</td>\n",
              "            <td>408 286-2428</td>\n",
              "            <td>22 Cleveland Av. #14</td>\n",
              "            <td>San Jose</td>\n",
              "            <td>CA</td>\n",
              "            <td>95128</td>\n",
              "            <td>1</td>\n",
              "        </tr>\n",
              "        <tr>\n",
              "            <td>274-80-9391</td>\n",
              "            <td>Straight</td>\n",
              "            <td>Dean</td>\n",
              "            <td>415 834-2919</td>\n",
              "            <td>5420 College Av.</td>\n",
              "            <td>Oakland</td>\n",
              "            <td>CA</td>\n",
              "            <td>94609</td>\n",
              "            <td>1</td>\n",
              "        </tr>\n",
              "        <tr>\n",
              "            <td>341-22-1782</td>\n",
              "            <td>Smith</td>\n",
              "            <td>Meander</td>\n",
              "            <td>913 843-0462</td>\n",
              "            <td>10 Mississippi Dr.</td>\n",
              "            <td>Lawrence</td>\n",
              "            <td>KS</td>\n",
              "            <td>66044</td>\n",
              "            <td>0</td>\n",
              "        </tr>\n",
              "        <tr>\n",
              "            <td>409-56-7008</td>\n",
              "            <td>Bennet</td>\n",
              "            <td>Abraham</td>\n",
              "            <td>415 658-9932</td>\n",
              "            <td>6223 Bateman St.</td>\n",
              "            <td>Berkeley</td>\n",
              "            <td>CA</td>\n",
              "            <td>94705</td>\n",
              "            <td>1</td>\n",
              "        </tr>\n",
              "        <tr>\n",
              "            <td>427-17-2319</td>\n",
              "            <td>Dull</td>\n",
              "            <td>Ann</td>\n",
              "            <td>415 836-7128</td>\n",
              "            <td>3410 Blonde St.</td>\n",
              "            <td>Palo Alto</td>\n",
              "            <td>CA</td>\n",
              "            <td>94301</td>\n",
              "            <td>1</td>\n",
              "        </tr>\n",
              "        <tr>\n",
              "            <td>472-27-2349</td>\n",
              "            <td>Gringlesby</td>\n",
              "            <td>Burt</td>\n",
              "            <td>707 938-6445</td>\n",
              "            <td>PO Box 792</td>\n",
              "            <td>Covelo</td>\n",
              "            <td>CA</td>\n",
              "            <td>95428</td>\n",
              "            <td>1</td>\n",
              "        </tr>\n",
              "        <tr>\n",
              "            <td>486-29-1786</td>\n",
              "            <td>Locksley</td>\n",
              "            <td>Charlene</td>\n",
              "            <td>415 585-4620</td>\n",
              "            <td>18 Broadway Av.</td>\n",
              "            <td>San Francisco</td>\n",
              "            <td>CA</td>\n",
              "            <td>94130</td>\n",
              "            <td>1</td>\n",
              "        </tr>\n",
              "    </tbody>\n",
              "</table>"
            ]
          },
          "metadata": {},
          "execution_count": 10
        }
      ]
    },
    {
      "cell_type": "code",
      "source": [
        "%%sql variable_SQL <<\n",
        "SELECT name FROM sqlite_master\n",
        "WHERE type='table'\n",
        "ORDER BY name;"
      ],
      "metadata": {
        "colab": {
          "base_uri": "https://localhost:8080/"
        },
        "id": "WMYHqUeWxiQp",
        "outputId": "00d90211-9b9b-4e64-d690-3c16d6062ae7"
      },
      "execution_count": 28,
      "outputs": [
        {
          "output_type": "stream",
          "name": "stdout",
          "text": [
            " * sqlite:///publications.db\n",
            "   sqlite:///publications_prueba.db\n",
            "   sqlite:///publifdsfsdcations.db\n",
            "Done.\n",
            "Returning data to local variable variable_SQL\n"
          ]
        }
      ]
    },
    {
      "cell_type": "code",
      "source": [
        "import pandas as pd\n",
        "df=pd.DataFrame(variable_SQL)"
      ],
      "metadata": {
        "id": "BhKAH61VxiOA"
      },
      "execution_count": 29,
      "outputs": []
    },
    {
      "cell_type": "code",
      "source": [
        "df"
      ],
      "metadata": {
        "colab": {
          "base_uri": "https://localhost:8080/",
          "height": 394
        },
        "id": "vif904o1xiLb",
        "outputId": "568dd750-ca8b-43cd-ea69-1a88253d66a9"
      },
      "execution_count": 30,
      "outputs": [
        {
          "output_type": "execute_result",
          "data": {
            "text/plain": [
              "              0\n",
              "0       authors\n",
              "1     discounts\n",
              "2      employee\n",
              "3          jobs\n",
              "4      pub_info\n",
              "5    publishers\n",
              "6      roysched\n",
              "7         sales\n",
              "8        stores\n",
              "9   titleauthor\n",
              "10       titles"
            ],
            "text/html": [
              "\n",
              "  <div id=\"df-b4ed7456-c51b-463a-857f-909dbb607441\">\n",
              "    <div class=\"colab-df-container\">\n",
              "      <div>\n",
              "<style scoped>\n",
              "    .dataframe tbody tr th:only-of-type {\n",
              "        vertical-align: middle;\n",
              "    }\n",
              "\n",
              "    .dataframe tbody tr th {\n",
              "        vertical-align: top;\n",
              "    }\n",
              "\n",
              "    .dataframe thead th {\n",
              "        text-align: right;\n",
              "    }\n",
              "</style>\n",
              "<table border=\"1\" class=\"dataframe\">\n",
              "  <thead>\n",
              "    <tr style=\"text-align: right;\">\n",
              "      <th></th>\n",
              "      <th>0</th>\n",
              "    </tr>\n",
              "  </thead>\n",
              "  <tbody>\n",
              "    <tr>\n",
              "      <th>0</th>\n",
              "      <td>authors</td>\n",
              "    </tr>\n",
              "    <tr>\n",
              "      <th>1</th>\n",
              "      <td>discounts</td>\n",
              "    </tr>\n",
              "    <tr>\n",
              "      <th>2</th>\n",
              "      <td>employee</td>\n",
              "    </tr>\n",
              "    <tr>\n",
              "      <th>3</th>\n",
              "      <td>jobs</td>\n",
              "    </tr>\n",
              "    <tr>\n",
              "      <th>4</th>\n",
              "      <td>pub_info</td>\n",
              "    </tr>\n",
              "    <tr>\n",
              "      <th>5</th>\n",
              "      <td>publishers</td>\n",
              "    </tr>\n",
              "    <tr>\n",
              "      <th>6</th>\n",
              "      <td>roysched</td>\n",
              "    </tr>\n",
              "    <tr>\n",
              "      <th>7</th>\n",
              "      <td>sales</td>\n",
              "    </tr>\n",
              "    <tr>\n",
              "      <th>8</th>\n",
              "      <td>stores</td>\n",
              "    </tr>\n",
              "    <tr>\n",
              "      <th>9</th>\n",
              "      <td>titleauthor</td>\n",
              "    </tr>\n",
              "    <tr>\n",
              "      <th>10</th>\n",
              "      <td>titles</td>\n",
              "    </tr>\n",
              "  </tbody>\n",
              "</table>\n",
              "</div>\n",
              "      <button class=\"colab-df-convert\" onclick=\"convertToInteractive('df-b4ed7456-c51b-463a-857f-909dbb607441')\"\n",
              "              title=\"Convert this dataframe to an interactive table.\"\n",
              "              style=\"display:none;\">\n",
              "        \n",
              "  <svg xmlns=\"http://www.w3.org/2000/svg\" height=\"24px\"viewBox=\"0 0 24 24\"\n",
              "       width=\"24px\">\n",
              "    <path d=\"M0 0h24v24H0V0z\" fill=\"none\"/>\n",
              "    <path d=\"M18.56 5.44l.94 2.06.94-2.06 2.06-.94-2.06-.94-.94-2.06-.94 2.06-2.06.94zm-11 1L8.5 8.5l.94-2.06 2.06-.94-2.06-.94L8.5 2.5l-.94 2.06-2.06.94zm10 10l.94 2.06.94-2.06 2.06-.94-2.06-.94-.94-2.06-.94 2.06-2.06.94z\"/><path d=\"M17.41 7.96l-1.37-1.37c-.4-.4-.92-.59-1.43-.59-.52 0-1.04.2-1.43.59L10.3 9.45l-7.72 7.72c-.78.78-.78 2.05 0 2.83L4 21.41c.39.39.9.59 1.41.59.51 0 1.02-.2 1.41-.59l7.78-7.78 2.81-2.81c.8-.78.8-2.07 0-2.86zM5.41 20L4 18.59l7.72-7.72 1.47 1.35L5.41 20z\"/>\n",
              "  </svg>\n",
              "      </button>\n",
              "      \n",
              "  <style>\n",
              "    .colab-df-container {\n",
              "      display:flex;\n",
              "      flex-wrap:wrap;\n",
              "      gap: 12px;\n",
              "    }\n",
              "\n",
              "    .colab-df-convert {\n",
              "      background-color: #E8F0FE;\n",
              "      border: none;\n",
              "      border-radius: 50%;\n",
              "      cursor: pointer;\n",
              "      display: none;\n",
              "      fill: #1967D2;\n",
              "      height: 32px;\n",
              "      padding: 0 0 0 0;\n",
              "      width: 32px;\n",
              "    }\n",
              "\n",
              "    .colab-df-convert:hover {\n",
              "      background-color: #E2EBFA;\n",
              "      box-shadow: 0px 1px 2px rgba(60, 64, 67, 0.3), 0px 1px 3px 1px rgba(60, 64, 67, 0.15);\n",
              "      fill: #174EA6;\n",
              "    }\n",
              "\n",
              "    [theme=dark] .colab-df-convert {\n",
              "      background-color: #3B4455;\n",
              "      fill: #D2E3FC;\n",
              "    }\n",
              "\n",
              "    [theme=dark] .colab-df-convert:hover {\n",
              "      background-color: #434B5C;\n",
              "      box-shadow: 0px 1px 3px 1px rgba(0, 0, 0, 0.15);\n",
              "      filter: drop-shadow(0px 1px 2px rgba(0, 0, 0, 0.3));\n",
              "      fill: #FFFFFF;\n",
              "    }\n",
              "  </style>\n",
              "\n",
              "      <script>\n",
              "        const buttonEl =\n",
              "          document.querySelector('#df-b4ed7456-c51b-463a-857f-909dbb607441 button.colab-df-convert');\n",
              "        buttonEl.style.display =\n",
              "          google.colab.kernel.accessAllowed ? 'block' : 'none';\n",
              "\n",
              "        async function convertToInteractive(key) {\n",
              "          const element = document.querySelector('#df-b4ed7456-c51b-463a-857f-909dbb607441');\n",
              "          const dataTable =\n",
              "            await google.colab.kernel.invokeFunction('convertToInteractive',\n",
              "                                                     [key], {});\n",
              "          if (!dataTable) return;\n",
              "\n",
              "          const docLinkHtml = 'Like what you see? Visit the ' +\n",
              "            '<a target=\"_blank\" href=https://colab.research.google.com/notebooks/data_table.ipynb>data table notebook</a>'\n",
              "            + ' to learn more about interactive tables.';\n",
              "          element.innerHTML = '';\n",
              "          dataTable['output_type'] = 'display_data';\n",
              "          await google.colab.output.renderOutput(dataTable, element);\n",
              "          const docLink = document.createElement('div');\n",
              "          docLink.innerHTML = docLinkHtml;\n",
              "          element.appendChild(docLink);\n",
              "        }\n",
              "      </script>\n",
              "    </div>\n",
              "  </div>\n",
              "  "
            ]
          },
          "metadata": {},
          "execution_count": 30
        }
      ]
    },
    {
      "cell_type": "code",
      "source": [],
      "metadata": {
        "id": "HtBSsrkgxiI1"
      },
      "execution_count": null,
      "outputs": []
    },
    {
      "cell_type": "code",
      "source": [],
      "metadata": {
        "id": "uOirLGhFxiF7"
      },
      "execution_count": null,
      "outputs": []
    }
  ]
}