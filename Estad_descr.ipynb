{
  "nbformat": 4,
  "nbformat_minor": 0,
  "metadata": {
    "colab": {
      "provenance": []
    },
    "kernelspec": {
      "name": "python3",
      "display_name": "Python 3"
    },
    "language_info": {
      "name": "python"
    }
  },
  "cells": [
    {
      "cell_type": "markdown",
      "source": [
        "# Estadística descriptiva\n",
        "\n",
        "La estadística descriptiva es la técnica matemática para obtener, organizar presentar y describir un conjunto de datos.\n",
        "Esta área describe los datos de una manera CUANTITATIVA.\n",
        "\n",
        "## Población y muestra:\n",
        "> Población: es el conjunto completo de sujetos que cumplen ciertas características (exiten poblacionews finitas e infinitas).\n",
        "\n",
        "> Muestra: es un subconjunto de una población que siempre se pretende, sea lo más homogénea posible.\n",
        "\n",
        "## Tipo de variables estadísticas:\n",
        "> Variable cualitativas: Cuando accedemos a una cualidad del sujeto (una categoría. E.g. estado civil, color de ojos etc..).\n",
        "\n",
        "> Variables cuantitativas: Cuando tenemos la medida de una característica del sujeto (e.g. altura, distancia recorrida etc..).\n",
        "\n",
        "##Parámetros estadísticos\n",
        "> Medidas de tendencia central: Me dan información sobre el centro de conjuntos de datos. E.g. media, mediana...\n",
        "\n",
        "> Medidas de posición: Nos dan iformación de cómo se encuentran distribuídos los datos. E.g. cuantiles, cuartiles, deciles...\n",
        "\n",
        "> Medidas de dispersión: nos da información de qué tan variable son los datos. E.g. varianza,  desviación estándar, rango\n",
        "\n"
      ],
      "metadata": {
        "id": "WfGymKzZS8i7"
      }
    },
    {
      "cell_type": "markdown",
      "source": [
        "#Medidas de tendencia central\n",
        "\n",
        "**Media**\n",
        "La media aritmética, promedio o esperanza se de defino como:\n",
        "\n",
        "(LaTex)\n",
        "$$ \\overline{x} = \\frac{1}{N} \\sum_{n=1}^{N}x_n $$\n",
        "\n",
        "donde:\n",
        "\n",
        "$\\overline{x}$ := Media aritmética\n",
        "\n",
        "$x_n$:= cada elemento de la muestra\n",
        "\n",
        "$N$:= número de muestras\n",
        "\n"
      ],
      "metadata": {
        "id": "TlGs71I9aDCY"
      }
    },
    {
      "cell_type": "code",
      "execution_count": null,
      "metadata": {
        "id": "1xhhn6OUShhi"
      },
      "outputs": [],
      "source": [
        "muestra=[15,2,74,5,56,3,2,24,5,5,16,6,44]"
      ]
    },
    {
      "cell_type": "code",
      "source": [
        "N=len(muestra)"
      ],
      "metadata": {
        "id": "L6Vqlew_eHHe"
      },
      "execution_count": null,
      "outputs": []
    },
    {
      "cell_type": "code",
      "source": [
        "sumatoria=sum(muestra)"
      ],
      "metadata": {
        "id": "nHGkiykIeHEl"
      },
      "execution_count": null,
      "outputs": []
    },
    {
      "cell_type": "code",
      "source": [
        "media=sumatoria/N\n",
        "media"
      ],
      "metadata": {
        "colab": {
          "base_uri": "https://localhost:8080/"
        },
        "id": "Z2XvLzX2eX5K",
        "outputId": "f65b01e2-5016-4478-bbbf-f4d109a99dad"
      },
      "execution_count": null,
      "outputs": [
        {
          "output_type": "execute_result",
          "data": {
            "text/plain": [
              "19.76923076923077"
            ]
          },
          "metadata": {},
          "execution_count": 16
        }
      ]
    },
    {
      "cell_type": "code",
      "source": [
        "import numpy as np"
      ],
      "metadata": {
        "id": "5hj6ZhTQeYRT"
      },
      "execution_count": null,
      "outputs": []
    },
    {
      "cell_type": "code",
      "source": [
        "np.array(muestra).mean()"
      ],
      "metadata": {
        "colab": {
          "base_uri": "https://localhost:8080/"
        },
        "id": "oYItXtdjeYOk",
        "outputId": "87f7fe7f-6aba-4c97-99c8-76bc2bc3874f"
      },
      "execution_count": null,
      "outputs": [
        {
          "output_type": "execute_result",
          "data": {
            "text/plain": [
              "19.76923076923077"
            ]
          },
          "metadata": {},
          "execution_count": 14
        }
      ]
    },
    {
      "cell_type": "markdown",
      "source": [
        "**Media ponderada**\n",
        "\n",
        "Es cuando a las observaciones se les da un peso nada una importancia que se requiera:\n",
        "\n",
        "$$ \\overline{x}_p = \\frac{w_1 x_1+w_{2} x_2+...+w_Nx_N}{w_1+w_2+...+w_N}=\\frac{\\sum_{n=1}^{N}w_nx_n\n",
        "}{\\sum_{n=1}^{N}w_n\n",
        "} $$"
      ],
      "metadata": {
        "id": "5ZNf9hwue-9u"
      }
    },
    {
      "cell_type": "code",
      "source": [
        "w=[1,1,2,3,4,2,2,1,1,1,4,2,1]\n",
        "numerador=sum(np.array(w)*np.array(muestra))\n",
        "denominador=sum(w)\n",
        "media_p=numerador/denominador\n",
        "media_p"
      ],
      "metadata": {
        "colab": {
          "base_uri": "https://localhost:8080/"
        },
        "id": "wuNJvz6He-GX",
        "outputId": "aefadb3b-1b29-4a04-b6f0-06f558b7b695"
      },
      "execution_count": null,
      "outputs": [
        {
          "output_type": "execute_result",
          "data": {
            "text/plain": [
              "22.72"
            ]
          },
          "metadata": {},
          "execution_count": 18
        }
      ]
    },
    {
      "cell_type": "markdown",
      "source": [
        "**Media cuadrática**\n",
        "\n",
        "La media cuadrática o RMS (Root Mean Square) nos ayuda a calcular un promedio sin considerar el signo\n",
        "\n",
        "$$ \\overline{x}_{RMS} = \\sqrt{ \\frac{x_1^2+x_2^2...+x_n^2}{N} } = \\sqrt{ \\frac{\\sum_{n=1}^{N}x_n^2}{N} }$$\n"
      ],
      "metadata": {
        "id": "XHsvhvpwif0J"
      }
    },
    {
      "cell_type": "code",
      "source": [
        "muestra_2=[m**2 for m in muestra]\n",
        "muestra_2"
      ],
      "metadata": {
        "colab": {
          "base_uri": "https://localhost:8080/"
        },
        "id": "--7QvJ6CjCAw",
        "outputId": "5e1c4421-a7c8-4451-9b97-38c6319a32c7"
      },
      "execution_count": null,
      "outputs": [
        {
          "output_type": "execute_result",
          "data": {
            "text/plain": [
              "[225, 4, 5476, 25, 3136, 9, 4, 576, 25, 25, 256, 36, 1936]"
            ]
          },
          "metadata": {},
          "execution_count": 7
        }
      ]
    },
    {
      "cell_type": "code",
      "source": [
        "media_RMS=(sum(muestra_2)/N)**0.5\n",
        "media_RMS\n"
      ],
      "metadata": {
        "colab": {
          "base_uri": "https://localhost:8080/"
        },
        "id": "2oWnyWLUjN3w",
        "outputId": "bb9fa212-e7d8-4572-a821-da746bd3668f"
      },
      "execution_count": null,
      "outputs": [
        {
          "output_type": "execute_result",
          "data": {
            "text/plain": [
              "30.042277901957792"
            ]
          },
          "metadata": {},
          "execution_count": 9
        }
      ]
    },
    {
      "cell_type": "markdown",
      "source": [
        "**Media geométrica**  \n",
        "\n",
        "La media geométrica ($ \\overline{x}_g$) esa la que se suele usar para cuando se tienen valores muy extremos y se busca poca sensibilidad a estas grandes diferencias y también se usa para medias de porcentajes.\n",
        "\n",
        "$$ \\overline{x}_g =\\sqrt[N]{\\prod_{n=1}^{N} x_n} $$\n",
        "\n"
      ],
      "metadata": {
        "id": "gUY9cKcxmrom"
      }
    },
    {
      "cell_type": "code",
      "source": [
        "from functools import reduce \n",
        "\n",
        "\n",
        "def producto(a,b):\n",
        "  return a*b\n",
        "productorio=reduce(producto,muestra,1)\n",
        "productorio"
      ],
      "metadata": {
        "colab": {
          "base_uri": "https://localhost:8080/"
        },
        "id": "wnNFJRfIl2Ep",
        "outputId": "2b4ed2a0-08f3-4f16-8e98-98938ab3f0d2"
      },
      "execution_count": null,
      "outputs": [
        {
          "output_type": "execute_result",
          "data": {
            "text/plain": [
              "9452298240000"
            ]
          },
          "metadata": {},
          "execution_count": 10
        }
      ]
    },
    {
      "cell_type": "code",
      "source": [
        "media_g=productorio**(1/N)\n",
        "media_g"
      ],
      "metadata": {
        "colab": {
          "base_uri": "https://localhost:8080/"
        },
        "id": "LZiR0ZYioyro",
        "outputId": "0d6166ae-ef75-4500-c9e2-24c5c412e1b0"
      },
      "execution_count": null,
      "outputs": [
        {
          "output_type": "execute_result",
          "data": {
            "text/plain": [
              "9.956765132143431"
            ]
          },
          "metadata": {},
          "execution_count": 12
        }
      ]
    },
    {
      "cell_type": "code",
      "source": [
        "print('La media artimética es: ',media)\n",
        "print('La media geométrica es: ',media_g)\n",
        "print('La media ponderada es: ',media_p)\n",
        "print('La media cuadrática: ',media_RMS)"
      ],
      "metadata": {
        "colab": {
          "base_uri": "https://localhost:8080/"
        },
        "id": "zzor38iJo8jE",
        "outputId": "fa5edce4-d2a1-48c6-ae33-5edc40d801be"
      },
      "execution_count": null,
      "outputs": [
        {
          "output_type": "stream",
          "name": "stdout",
          "text": [
            "La media artimética es:  19.76923076923077\n",
            "La media geométrica es:  9.956765132143431\n",
            "La media ponderada es:  22.72\n",
            "La media cuadrática:  30.042277901957792\n"
          ]
        }
      ]
    },
    {
      "cell_type": "code",
      "source": [
        "muestra"
      ],
      "metadata": {
        "colab": {
          "base_uri": "https://localhost:8080/"
        },
        "id": "ILJhqWtapPLN",
        "outputId": "8ff9f9c7-6846-477e-fe17-1de4c7e7fbdb"
      },
      "execution_count": null,
      "outputs": [
        {
          "output_type": "execute_result",
          "data": {
            "text/plain": [
              "[15, 2, 74, 5, 56, 3, 2, 24, 5, 5, 16, 6, 44]"
            ]
          },
          "metadata": {},
          "execution_count": 20
        }
      ]
    },
    {
      "cell_type": "markdown",
      "source": [],
      "metadata": {
        "id": "pZAAFGh8pxUD"
      }
    },
    {
      "cell_type": "code",
      "source": [
        "(2+3)/2"
      ],
      "metadata": {
        "colab": {
          "base_uri": "https://localhost:8080/"
        },
        "id": "abkkISn9pcNZ",
        "outputId": "fe9a7671-c31b-4023-a65d-5d1a3ad0001d"
      },
      "execution_count": null,
      "outputs": [
        {
          "output_type": "execute_result",
          "data": {
            "text/plain": [
              "2.5"
            ]
          },
          "metadata": {},
          "execution_count": 22
        }
      ]
    },
    {
      "cell_type": "code",
      "source": [
        "((2*2+3*3)/2)**0.5"
      ],
      "metadata": {
        "colab": {
          "base_uri": "https://localhost:8080/"
        },
        "id": "3EGSOLmyp7U2",
        "outputId": "80e7c365-9905-4de6-d8ef-c1361e33c5fd"
      },
      "execution_count": null,
      "outputs": [
        {
          "output_type": "execute_result",
          "data": {
            "text/plain": [
              "2.5495097567963922"
            ]
          },
          "metadata": {},
          "execution_count": 26
        }
      ]
    },
    {
      "cell_type": "markdown",
      "source": [
        "** Mediana**\n",
        "La mediana es cuando ordenamos los valores de menos a mayor y se busa el valor que se encuentre en medio o en el centro. Si tenemos número de elementos pares, se tomará una media aritmética de los elementos centrales\n"
      ],
      "metadata": {
        "id": "8si88x9Bq0Sg"
      }
    },
    {
      "cell_type": "code",
      "source": [
        "sorted(muestra)"
      ],
      "metadata": {
        "colab": {
          "base_uri": "https://localhost:8080/"
        },
        "id": "UHzX6y12qDEw",
        "outputId": "7e1d63b5-365e-4ef8-8b16-2752933305d7"
      },
      "execution_count": null,
      "outputs": [
        {
          "output_type": "execute_result",
          "data": {
            "text/plain": [
              "[2, 2, 3, 5, 5, 5, 6, 15, 16, 24, 44, 56, 74]"
            ]
          },
          "metadata": {},
          "execution_count": 28
        }
      ]
    },
    {
      "cell_type": "code",
      "source": [
        "def mediana(muestra):\n",
        "  N=len(muestra)\n",
        "  muestra=sorted(muestra)\n",
        "\n",
        "  if N%2==0:\n",
        "    return (muestra[N//2]+muestra[N//2-1])/2.\n",
        "  else:\n",
        "    return muestra[N//2]"
      ],
      "metadata": {
        "id": "Ha1cjGturP-k"
      },
      "execution_count": null,
      "outputs": []
    },
    {
      "cell_type": "code",
      "source": [
        "mediana(muestra)"
      ],
      "metadata": {
        "colab": {
          "base_uri": "https://localhost:8080/"
        },
        "id": "7c3eUXCSraOG",
        "outputId": "65f814f0-7a76-45b9-c374-b73e4fe69429"
      },
      "execution_count": null,
      "outputs": [
        {
          "output_type": "execute_result",
          "data": {
            "text/plain": [
              "6"
            ]
          },
          "metadata": {},
          "execution_count": 42
        }
      ]
    },
    {
      "cell_type": "code",
      "source": [
        "N=5"
      ],
      "metadata": {
        "id": "IJGhn5yaraL9"
      },
      "execution_count": null,
      "outputs": []
    },
    {
      "cell_type": "code",
      "source": [
        "N//2"
      ],
      "metadata": {
        "colab": {
          "base_uri": "https://localhost:8080/"
        },
        "id": "ulDNZ6v8raJe",
        "outputId": "1d906a34-ca0b-4c51-9325-5341e58209c8"
      },
      "execution_count": null,
      "outputs": [
        {
          "output_type": "execute_result",
          "data": {
            "text/plain": [
              "2"
            ]
          },
          "metadata": {},
          "execution_count": 40
        }
      ]
    },
    {
      "cell_type": "markdown",
      "source": [
        "**Moda**\n",
        "\n",
        "La moda es el valor (o valores) que más se repite en una muestra. La muestra puede ser modal cuando el término más repetido es sólo uno. Si se tienen 2 valores de repetición máxima es bimodal, y si hay más es multrimoda"
      ],
      "metadata": {
        "id": "o_M91yJrSFAl"
      }
    },
    {
      "cell_type": "code",
      "source": [
        "muestra=[1,3,4,4,9,2,4,6,78,7,6,3,2,2,2,2,2,34,4,1]\n",
        "from scipy import stats"
      ],
      "metadata": {
        "id": "9-JE1RhNr-yI"
      },
      "execution_count": null,
      "outputs": []
    },
    {
      "cell_type": "code",
      "source": [
        "stats.mode(muestra)"
      ],
      "metadata": {
        "colab": {
          "base_uri": "https://localhost:8080/"
        },
        "id": "NytLf1PySmlm",
        "outputId": "ff65b578-e274-4399-ae72-10ad76e4845b"
      },
      "execution_count": null,
      "outputs": [
        {
          "output_type": "execute_result",
          "data": {
            "text/plain": [
              "ModeResult(mode=array([2]), count=array([6]))"
            ]
          },
          "metadata": {},
          "execution_count": 44
        }
      ]
    },
    {
      "cell_type": "code",
      "source": [
        "!pip uninstall statistics\n",
        "!pip install statistics\n",
        "import statistics"
      ],
      "metadata": {
        "colab": {
          "base_uri": "https://localhost:8080/",
          "height": 331
        },
        "id": "Xsg3MNVESmjD",
        "outputId": "60a658d8-cf10-4efa-dd57-69be788cadbc"
      },
      "execution_count": null,
      "outputs": [
        {
          "output_type": "stream",
          "name": "stdout",
          "text": [
            "\u001b[33mWARNING: Skipping statistics as it is not installed.\u001b[0m\n",
            "Looking in indexes: https://pypi.org/simple, https://us-python.pkg.dev/colab-wheels/public/simple/\n",
            "Collecting statistics\n",
            "  Downloading statistics-1.0.3.5.tar.gz (8.3 kB)\n",
            "Requirement already satisfied: docutils>=0.3 in /usr/local/lib/python3.7/dist-packages (from statistics) (0.17.1)\n",
            "Building wheels for collected packages: statistics\n",
            "  Building wheel for statistics (setup.py) ... \u001b[?25l\u001b[?25hdone\n",
            "  Created wheel for statistics: filename=statistics-1.0.3.5-py3-none-any.whl size=7452 sha256=935b07cf27f28704d4c8a73ec77f23b3668d961f8dbdc356780ba180284cc721\n",
            "  Stored in directory: /root/.cache/pip/wheels/37/09/e1/49ee45c0ce248a6e9c986aae82d32bbcba09c9f3b9d0c3406a\n",
            "Successfully built statistics\n",
            "Installing collected packages: statistics\n",
            "Successfully installed statistics-1.0.3.5\n"
          ]
        },
        {
          "output_type": "display_data",
          "data": {
            "application/vnd.colab-display-data+json": {
              "pip_warning": {
                "packages": [
                  "statistics"
                ]
              }
            }
          },
          "metadata": {}
        }
      ]
    },
    {
      "cell_type": "code",
      "source": [
        "stat.mode(muestra)"
      ],
      "metadata": {
        "colab": {
          "base_uri": "https://localhost:8080/"
        },
        "id": "gR0f3AnsSmgW",
        "outputId": "4d3ed0ce-0567-45a9-ae38-ec5f42aba697"
      },
      "execution_count": null,
      "outputs": [
        {
          "output_type": "execute_result",
          "data": {
            "text/plain": [
              "2"
            ]
          },
          "metadata": {},
          "execution_count": 46
        }
      ]
    },
    {
      "cell_type": "code",
      "source": [
        "muestra_2=[1,2,3,4,5,5,5,6,6,6,7,7,8,9,0]"
      ],
      "metadata": {
        "id": "Po8wA6PiTnhg"
      },
      "execution_count": null,
      "outputs": []
    },
    {
      "cell_type": "code",
      "source": [
        "stats.mode(muestra_2)"
      ],
      "metadata": {
        "colab": {
          "base_uri": "https://localhost:8080/"
        },
        "id": "WO62315MTvor",
        "outputId": "57955fd5-34b5-450c-a5c5-9ea2ea2a73c8"
      },
      "execution_count": null,
      "outputs": [
        {
          "output_type": "execute_result",
          "data": {
            "text/plain": [
              "ModeResult(mode=array([5]), count=array([3]))"
            ]
          },
          "metadata": {},
          "execution_count": 48
        }
      ]
    },
    {
      "cell_type": "code",
      "source": [
        "import statistics\n",
        "statistics.multimode(muestra_2)"
      ],
      "metadata": {
        "colab": {
          "base_uri": "https://localhost:8080/",
          "height": 182
        },
        "id": "sNCg0LMRTyPY",
        "outputId": "1044be27-67de-42c3-e44f-68ca752d0f83"
      },
      "execution_count": null,
      "outputs": [
        {
          "output_type": "error",
          "ename": "AttributeError",
          "evalue": "ignored",
          "traceback": [
            "\u001b[0;31m---------------------------------------------------------------------------\u001b[0m",
            "\u001b[0;31mAttributeError\u001b[0m                            Traceback (most recent call last)",
            "\u001b[0;32m<ipython-input-2-2940fe306b82>\u001b[0m in \u001b[0;36m<module>\u001b[0;34m\u001b[0m\n\u001b[1;32m      1\u001b[0m \u001b[0;32mimport\u001b[0m \u001b[0mstatistics\u001b[0m\u001b[0;34m\u001b[0m\u001b[0;34m\u001b[0m\u001b[0m\n\u001b[0;32m----> 2\u001b[0;31m \u001b[0mstatistics\u001b[0m\u001b[0;34m.\u001b[0m\u001b[0mmultimode\u001b[0m\u001b[0;34m(\u001b[0m\u001b[0mmuestra_2\u001b[0m\u001b[0;34m)\u001b[0m\u001b[0;34m\u001b[0m\u001b[0;34m\u001b[0m\u001b[0m\n\u001b[0m",
            "\u001b[0;31mAttributeError\u001b[0m: module 'statistics' has no attribute 'multimode'"
          ]
        }
      ]
    },
    {
      "cell_type": "code",
      "source": [
        "!pip show statistics"
      ],
      "metadata": {
        "colab": {
          "base_uri": "https://localhost:8080/"
        },
        "id": "E9xTePxOT7xt",
        "outputId": "ccf75b66-f385-4041-d816-c4adbef46dd2"
      },
      "execution_count": null,
      "outputs": [
        {
          "output_type": "stream",
          "name": "stdout",
          "text": [
            "Name: statistics\n",
            "Version: 1.0.3.5\n",
            "Summary: A Python 2.* port of 3.4 Statistics Module\n",
            "Home-page: https://github.com/digitalemagine/py-statistics\n",
            "Author: Stefano Crosta\n",
            "Author-email: stefano@digitalemagine.com\n",
            "License: Apache License 2.0\n",
            "Location: /usr/local/lib/python3.7/dist-packages\n",
            "Requires: docutils\n",
            "Required-by: \n"
          ]
        }
      ]
    },
    {
      "cell_type": "code",
      "source": [
        "!pip install statistics.multimode"
      ],
      "metadata": {
        "colab": {
          "base_uri": "https://localhost:8080/"
        },
        "id": "bqv53EvAUk_a",
        "outputId": "f50255bb-3711-4dd0-e638-fcb7d069951f"
      },
      "execution_count": null,
      "outputs": [
        {
          "output_type": "stream",
          "name": "stdout",
          "text": [
            "Looking in indexes: https://pypi.org/simple, https://us-python.pkg.dev/colab-wheels/public/simple/\n",
            "\u001b[31mERROR: Could not find a version that satisfies the requirement statistics.multimode (from versions: none)\u001b[0m\n",
            "\u001b[31mERROR: No matching distribution found for statistics.multimode\u001b[0m\n"
          ]
        }
      ]
    },
    {
      "cell_type": "markdown",
      "source": [
        "# Medidas de posición\n",
        "\n",
        "Las medidas de posición permiten conocer puntos caracteríticos de una serie de valores que no encesariamente tienen que ser las centrales. El fin de estas medidas es dividir el conjunto de observaciones en grupos."
      ],
      "metadata": {
        "id": "luoC6lp4XT2v"
      }
    },
    {
      "cell_type": "markdown",
      "source": [
        "**Cuartiles**\n",
        "\n",
        "Son 3 valores  que dividen una serie de datos ordenada en cuatro porciones iguales. El primer cuartil ($Q_1$)deja a la izquiera el 25% de los datos. El segundo cuartil ($Q_2$) deja entre $Q_1$ y $Q_2$ otro 25% de los datos (i.e. que todo antes de $Q_2$ es el 50% de los datos y coincide con la mediana) y $Q_3$ deja a su derecha el 25% restante"
      ],
      "metadata": {
        "id": "02ORbkcrXjeV"
      }
    },
    {
      "cell_type": "code",
      "source": [
        "import numpy as np\n",
        "#0---Q1---Q2---Q3--100%\n",
        "muestra=[1,4,5,6,7,8,8,6,4,2,2,5,7,8,98,7,5,3,2,3,5,2]\n",
        "Q1=np.quantile(muestra,0.25)\n",
        "Q2=np.quantile(muestra,0.5)\n",
        "Q3=np.quantile(muestra,0.25)"
      ],
      "metadata": {
        "id": "4Bu5_oBVWLyd"
      },
      "execution_count": null,
      "outputs": []
    },
    {
      "cell_type": "code",
      "source": [
        "Qn=np.quantile(muestra,0.6874)\n",
        "Qn"
      ],
      "metadata": {
        "colab": {
          "base_uri": "https://localhost:8080/"
        },
        "id": "wMxtjh2EXTHO",
        "outputId": "1bcf6073-728f-442e-c082-ee01b40860bb"
      },
      "execution_count": null,
      "outputs": [
        {
          "output_type": "execute_result",
          "data": {
            "text/plain": [
              "6.4354"
            ]
          },
          "metadata": {},
          "execution_count": 22
        }
      ]
    },
    {
      "cell_type": "code",
      "source": [
        "Q2"
      ],
      "metadata": {
        "colab": {
          "base_uri": "https://localhost:8080/"
        },
        "id": "EKBOHOQ4XTE3",
        "outputId": "797a7599-a1da-4bc1-aa33-e0e6fdb1ac24"
      },
      "execution_count": null,
      "outputs": [
        {
          "output_type": "execute_result",
          "data": {
            "text/plain": [
              "5.0"
            ]
          },
          "metadata": {},
          "execution_count": 23
        }
      ]
    },
    {
      "cell_type": "markdown",
      "source": [
        "**Percentiles**\n",
        "\n",
        "Funcionan de la misma manear que los cuantiles pero en porcentaje i.e. de 0 a 100"
      ],
      "metadata": {
        "id": "MYvP3QHeZzfp"
      }
    },
    {
      "cell_type": "code",
      "source": [
        "np.percentile(muestra,50)"
      ],
      "metadata": {
        "colab": {
          "base_uri": "https://localhost:8080/"
        },
        "id": "X3traP5BXTCV",
        "outputId": "5afc9aaa-e964-4b1d-adb4-1e5ed73ca1c6"
      },
      "execution_count": null,
      "outputs": [
        {
          "output_type": "execute_result",
          "data": {
            "text/plain": [
              "5.0"
            ]
          },
          "metadata": {},
          "execution_count": 24
        }
      ]
    },
    {
      "cell_type": "code",
      "source": [
        "np.percentile(sorted(muestra),68.74)"
      ],
      "metadata": {
        "colab": {
          "base_uri": "https://localhost:8080/"
        },
        "id": "J7temyg-XTAC",
        "outputId": "e1161410-a8ec-4457-f5ee-b5da17303fe7"
      },
      "execution_count": null,
      "outputs": [
        {
          "output_type": "execute_result",
          "data": {
            "text/plain": [
              "6.435399999999998"
            ]
          },
          "metadata": {},
          "execution_count": 32
        }
      ]
    },
    {
      "cell_type": "code",
      "source": [
        "sorted(muestra)"
      ],
      "metadata": {
        "colab": {
          "base_uri": "https://localhost:8080/"
        },
        "id": "Euh9ECwTXS9k",
        "outputId": "2ad49493-7384-49b5-ea89-b765bfa6cdc5"
      },
      "execution_count": null,
      "outputs": [
        {
          "output_type": "execute_result",
          "data": {
            "text/plain": [
              "[1, 2, 2, 2, 2, 3, 3, 4, 4, 5, 5, 5, 5, 6, 6, 7, 7, 7, 8, 8, 8, 98]"
            ]
          },
          "metadata": {},
          "execution_count": 26
        }
      ]
    },
    {
      "cell_type": "code",
      "source": [
        "68.74*len(muestra)/100"
      ],
      "metadata": {
        "colab": {
          "base_uri": "https://localhost:8080/"
        },
        "id": "Zxl0YT1WXS6y",
        "outputId": "4ed1c6fb-47a2-4e56-c2be-bd8ad2cd434c"
      },
      "execution_count": null,
      "outputs": [
        {
          "output_type": "execute_result",
          "data": {
            "text/plain": [
              "15.1228"
            ]
          },
          "metadata": {},
          "execution_count": 35
        }
      ]
    },
    {
      "cell_type": "markdown",
      "source": [
        "**Medidas de dispersión**\n",
        "\n",
        "Muestran qué tanto varía el conjunto de datos"
      ],
      "metadata": {
        "id": "CVPWU8Xjbes2"
      }
    },
    {
      "cell_type": "markdown",
      "source": [
        "**Rango**\n",
        "\n",
        "recorrido estdístico que marca la diferencia entre el meno y mayor valor\n",
        "\n",
        "$$Rango=max(muestra)-min(muestra)$$"
      ],
      "metadata": {
        "id": "PTalGvvsbsHj"
      }
    },
    {
      "cell_type": "code",
      "source": [
        "rango=max(muestra)-min(muestra)\n",
        "rango"
      ],
      "metadata": {
        "colab": {
          "base_uri": "https://localhost:8080/"
        },
        "id": "etyF2KfEXS4N",
        "outputId": "69eb9278-b1dc-482a-ecdc-0cd7897edeb3"
      },
      "execution_count": null,
      "outputs": [
        {
          "output_type": "execute_result",
          "data": {
            "text/plain": [
              "97"
            ]
          },
          "metadata": {},
          "execution_count": 37
        }
      ]
    },
    {
      "cell_type": "markdown",
      "source": [
        "**Varianza**\n",
        "\n",
        "La varianza mide la dispersión de los datos respecto a la media\n",
        "\n",
        "$$ \\sigma^2=\\frac{\\sum_{i=1}^N (x_i-\\overline{x})^2}{N} $$"
      ],
      "metadata": {
        "id": "tPc78cdVcH2f"
      }
    },
    {
      "cell_type": "code",
      "source": [
        "muestra=[12,0,544,2,1,3,4,5,5,45,45545,2,2]\n",
        "muestra=np.array(muestra)\n"
      ],
      "metadata": {
        "id": "UUxn45z-b8fU"
      },
      "execution_count": null,
      "outputs": []
    },
    {
      "cell_type": "code",
      "source": [
        "muestra.var()"
      ],
      "metadata": {
        "colab": {
          "base_uri": "https://localhost:8080/"
        },
        "id": "tqE7kZYBd-C5",
        "outputId": "11a0dcad-9dff-423d-81f7-c361f40b9d1b"
      },
      "execution_count": null,
      "outputs": [
        {
          "output_type": "execute_result",
          "data": {
            "text/plain": [
              "146974668.2485207"
            ]
          },
          "metadata": {},
          "execution_count": 51
        }
      ]
    },
    {
      "cell_type": "code",
      "source": [
        "muestra.mean()"
      ],
      "metadata": {
        "colab": {
          "base_uri": "https://localhost:8080/"
        },
        "id": "4iu7m6BxeAR6",
        "outputId": "105480e3-bc0f-469f-cd6f-7fbdd4b93ced"
      },
      "execution_count": null,
      "outputs": [
        {
          "output_type": "execute_result",
          "data": {
            "text/plain": [
              "3551.5384615384614"
            ]
          },
          "metadata": {},
          "execution_count": 52
        }
      ]
    },
    {
      "cell_type": "code",
      "source": [],
      "metadata": {
        "colab": {
          "base_uri": "https://localhost:8080/"
        },
        "id": "q7W9zWayeOht",
        "outputId": "111c4642-0bfa-4133-b8b9-5ea14fe98ed6"
      },
      "execution_count": null,
      "outputs": [
        {
          "output_type": "execute_result",
          "data": {
            "text/plain": [
              "909927225"
            ]
          },
          "metadata": {},
          "execution_count": 55
        }
      ]
    },
    {
      "cell_type": "markdown",
      "source": [
        "**Covarianza**\n",
        "\n",
        "La covarianza da un valor que indica el grado de variación conjunta entre 2 variables\n",
        "\n",
        "$$ Cov(x,y)=\\frac{1}{N}\\sum_{i=1}^N (x_i-\\overline{x}) (y_i-\\overline{y})$$\n",
        "\n",
        "\n",
        "**Correlación**\n",
        "\n",
        "Nos dice qué tanto incrementa o decrementa una variable respecto a otra. Este parámetro es de cero a 1\n",
        "\n",
        "$$ Corr=\\frac{Cov}{\\sigma_1 \\sigma_2} $$\n",
        "\n"
      ],
      "metadata": {
        "id": "Ifo0tdjWev4Z"
      }
    },
    {
      "cell_type": "code",
      "source": [
        "muestra=[1,2,3,5,6,4,3]\n",
        "np.cov(muestra)"
      ],
      "metadata": {
        "colab": {
          "base_uri": "https://localhost:8080/"
        },
        "id": "OEHgZpACee0g",
        "outputId": "f8b5382e-184f-482a-f5f7-7d95e749bf70"
      },
      "execution_count": null,
      "outputs": [
        {
          "output_type": "execute_result",
          "data": {
            "text/plain": [
              "array(2.95238095)"
            ]
          },
          "metadata": {},
          "execution_count": 58
        }
      ]
    },
    {
      "cell_type": "markdown",
      "source": [
        "**Desviación estandár**\n",
        "\n",
        "La desviación estándar o desviación típica es una medida de dipsersión asociada la media. Mide el promedio de las desviaciones de los datos respecto a la media de manera más suavizada que la varianza\n",
        "\n",
        "$$ \\sigma=\\sqrt{ \\frac{\\sum_{i=1}^N (x_i-\\overline{x})^2}{N}} $$"
      ],
      "metadata": {
        "id": "S_bKi2oFjW5l"
      }
    },
    {
      "cell_type": "code",
      "source": [
        "muestra=np.array(muestra)\n",
        "muestra.std()"
      ],
      "metadata": {
        "colab": {
          "base_uri": "https://localhost:8080/"
        },
        "id": "b0EDu_FOfny_",
        "outputId": "c6a98393-27ec-4094-e23c-9f22111a757b"
      },
      "execution_count": null,
      "outputs": [
        {
          "output_type": "execute_result",
          "data": {
            "text/plain": [
              "1.590789817951435"
            ]
          },
          "metadata": {},
          "execution_count": 60
        }
      ]
    },
    {
      "cell_type": "code",
      "source": [],
      "metadata": {
        "id": "sD-ZjTBnj-ol"
      },
      "execution_count": null,
      "outputs": []
    },
    {
      "cell_type": "code",
      "source": [],
      "metadata": {
        "id": "61tlwvmmkKRI"
      },
      "execution_count": null,
      "outputs": []
    }
  ]
}