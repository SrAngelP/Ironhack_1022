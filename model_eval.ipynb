{
  "nbformat": 4,
  "nbformat_minor": 0,
  "metadata": {
    "colab": {
      "provenance": []
    },
    "kernelspec": {
      "name": "python3",
      "display_name": "Python 3"
    },
    "language_info": {
      "name": "python"
    }
  },
  "cells": [
    {
      "cell_type": "code",
      "execution_count": 2,
      "metadata": {
        "id": "h76nNmK4GOge"
      },
      "outputs": [],
      "source": [
        "from sklearn import metrics\n",
        "import pandas as pd\n",
        "import numpy as np"
      ]
    },
    {
      "cell_type": "markdown",
      "source": [
        "Modelos de clasificación\n",
        "\n",
        "1.- Accuracy\n",
        "\n",
        "2.- Precisión\n",
        "\n",
        "3.- F1 \n",
        "\n",
        "4.- Gráfica ROC (Receiving Operating Characteristic) con AUC (Area under the curve)\n",
        "\n",
        "\n",
        "Modelos de regresión \n",
        "\n",
        "1.- Mean absolute error (MAE)\n",
        "\n",
        "2.- Mean squared error (MSE)\n",
        "\n",
        "3.- Root Mean squared error (RMSE)\n",
        "\n",
        "4.- R^2\n",
        "\n",
        "\n"
      ],
      "metadata": {
        "id": "2boayFIWGkAc"
      }
    },
    {
      "cell_type": "markdown",
      "source": [],
      "metadata": {
        "id": "xvqdcZRkI6Dv"
      }
    },
    {
      "cell_type": "code",
      "source": [
        "y_test=[1,1,0,1,0]\n",
        "\n",
        "#posterioemenet a tu modelo\n",
        "y_pred=[0,1,0,1,1]\n",
        "\n",
        "metrics.accuracy_score(y_test,y_pred)\n",
        "\n",
        "#esta metología se suele usar cuando tienes (aprox) la mitad +/1/V y la otra mitad -/0/F"
      ],
      "metadata": {
        "colab": {
          "base_uri": "https://localhost:8080/"
        },
        "id": "IONXYrRKGect",
        "outputId": "cd9c57b0-1cef-451c-ff84-8fb4d4037144"
      },
      "execution_count": 7,
      "outputs": [
        {
          "output_type": "execute_result",
          "data": {
            "text/plain": [
              "0.2"
            ]
          },
          "metadata": {},
          "execution_count": 7
        }
      ]
    },
    {
      "cell_type": "code",
      "source": [
        "#precisión\n",
        "import seaborn as sn\n",
        "'''\n",
        "        TP     \n",
        "P=-------------\n",
        "     TP+FP\n",
        "\n",
        "TP: True Positive\n",
        "FP: False Positive\n",
        "'''\n",
        "\n",
        "data={'y_test':[1,1,0,0,1,1,0],\n",
        "      'y_pred':[1,1,0,0,1,0,0]\n",
        "    \n",
        "}\n",
        "\n",
        "df=pd.DataFrame(data)\n",
        "\n",
        "#matrix de confusión \n",
        "\n",
        "confusion_matrix=pd.crosstab(df['y_test'],df['y_pred'])\n",
        "sn.heatmap(confusion_matrix,annot=True)\n"
      ],
      "metadata": {
        "colab": {
          "base_uri": "https://localhost:8080/",
          "height": 301
        },
        "id": "bESw5YtsJqhj",
        "outputId": "8d824fc3-c073-451d-d728-67cb469b807c"
      },
      "execution_count": 22,
      "outputs": [
        {
          "output_type": "execute_result",
          "data": {
            "text/plain": [
              "<matplotlib.axes._subplots.AxesSubplot at 0x7f3685c7d7f0>"
            ]
          },
          "metadata": {},
          "execution_count": 22
        },
        {
          "output_type": "display_data",
          "data": {
            "text/plain": [
              "<Figure size 432x288 with 2 Axes>"
            ],
            "image/png": "[encoded data removed]"
          },
          "metadata": {
            "needs_background": "light"
          }
        }
      ]
    },
    {
      "cell_type": "code",
      "source": [
        "confusion_matrix[1][1]\n",
        "\n",
        "pres=confusion_matrix[0][0]/(confusion_matrix[0][0]+confusion_matrix[1][1])\n",
        "pres"
      ],
      "metadata": {
        "colab": {
          "base_uri": "https://localhost:8080/"
        },
        "id": "NWxsHY9iMxCc",
        "outputId": "d69a7123-c5af-4914-eaff-c6b99c23d21e"
      },
      "execution_count": 23,
      "outputs": [
        {
          "output_type": "execute_result",
          "data": {
            "text/plain": [
              "0.5"
            ]
          },
          "metadata": {},
          "execution_count": 23
        }
      ]
    },
    {
      "cell_type": "code",
      "source": [
        "# Sensitivity o recall\n",
        "'''\n",
        "           TP\n",
        "Recall=-------------\n",
        "         TP+FN\n",
        "\n",
        "'''\n",
        "\n",
        "Recall= confusion_matrix[0][0]/(confusion_matrix[0][0]+confusion_matrix[0][1])\n",
        "Recall"
      ],
      "metadata": {
        "colab": {
          "base_uri": "https://localhost:8080/"
        },
        "id": "j0T3z_sTODoa",
        "outputId": "f384e46f-ecbb-44db-e287-efe2cdd45b13"
      },
      "execution_count": 35,
      "outputs": [
        {
          "output_type": "execute_result",
          "data": {
            "text/plain": [
              "0.75"
            ]
          },
          "metadata": {},
          "execution_count": 35
        }
      ]
    },
    {
      "cell_type": "code",
      "source": [
        "#F1: es una combinación entre la precisión y recall/sensitivity\n",
        "'''\n",
        "    2*P*R\n",
        "F1=----------\n",
        "     (P+R)\n",
        "'''\n",
        "\n",
        "F1=2*pres*Recall/(pres+Recall)\n",
        "F1"
      ],
      "metadata": {
        "colab": {
          "base_uri": "https://localhost:8080/"
        },
        "id": "PuHHuN7eOrLF",
        "outputId": "209e94f6-b32d-46f8-d7d0-79b3385e55f8"
      },
      "execution_count": 39,
      "outputs": [
        {
          "output_type": "execute_result",
          "data": {
            "text/plain": [
              "0.6"
            ]
          },
          "metadata": {},
          "execution_count": 39
        }
      ]
    },
    {
      "cell_type": "code",
      "source": [
        "import matplotlib.pyplot as plt\n"
      ],
      "metadata": {
        "id": "9H5IG4hMP2ke"
      },
      "execution_count": 40,
      "outputs": []
    },
    {
      "cell_type": "code",
      "source": [
        "actual= [0, 0, 0, 1, 0, 0, 1, 0, 1, 0, 1, 0]\n",
        "predictions = [0.1, 0.3, 0.2, 0.6, 0.9, 0.6, 0.7, 0.1, 0.8, 0.6, 0.2, 0.4]\n",
        "\n",
        "FP_rate,TP_rate,tresholds  =metrics.roc_curve(actual,predictions)"
      ],
      "metadata": {
        "id": "q7GzRNuiQOPR"
      },
      "execution_count": 42,
      "outputs": []
    },
    {
      "cell_type": "code",
      "source": [
        "roc_auc=metrics.auc(FP_rate, TP_rate)"
      ],
      "metadata": {
        "id": "S3M5GXHuTCFk"
      },
      "execution_count": 44,
      "outputs": []
    },
    {
      "cell_type": "code",
      "source": [
        "plt.plot(FP_rate, TP_rate,label='AUC= %0.2f' %roc_auc )\n",
        "plt.xlabel('False Positive Rate')\n",
        "plt.ylabel('True Positive Rate')\n",
        "plt.plot([0,1],[0,1],'m--')\n",
        "plt.legend()\n",
        "plt.title('ROC')"
      ],
      "metadata": {
        "colab": {
          "base_uri": "https://localhost:8080/",
          "height": 312
        },
        "id": "kH0lZRyOTOrP",
        "outputId": "3c040211-64ca-4d62-f7da-c6d318a30ea3"
      },
      "execution_count": 58,
      "outputs": [
        {
          "output_type": "execute_result",
          "data": {
            "text/plain": [
              "Text(0.5, 1.0, 'ROC')"
            ]
          },
          "metadata": {},
          "execution_count": 58
        },
        {
          "output_type": "display_data",
          "data": {
            "text/plain": [
              "<Figure size 432x288 with 1 Axes>"
            ],
            "image/png": "[encoded data removed]"
          },
          "metadata": {
            "needs_background": "light"
          }
        }
      ]
    },
    {
      "cell_type": "code",
      "source": [
        "y_true = [0, 1, 2, 0, 1, 2, 0, 1, 2, 0]\n",
        "y_pred = [0, 1, 2, 1, 1, 2, 2, 1, 2, 0]"
      ],
      "metadata": {
        "id": "UNPzYcsmTjf-"
      },
      "execution_count": 61,
      "outputs": []
    },
    {
      "cell_type": "code",
      "source": [
        "#opciones para clasificación multiclase\n",
        "#promedio Macro: clacula la precisión para todas las clases de manera individual y luego las promedia\n",
        "#promedio micro: calcula los verdaderos + y los falsos + para cada clase, y luego los promedia y calcula\n",
        "#la presición\n",
        "#precisión pesada, donde es igual que el macro, pero los pesa dependiendo la frecuencia las clases\n",
        "\n",
        "metrics.precision_score(y_true,y_pred,average='macro')"
      ],
      "metadata": {
        "colab": {
          "base_uri": "https://localhost:8080/"
        },
        "id": "VN13y_KQU16w",
        "outputId": "da5f2a37-4686-4167-b20a-608c6349a325"
      },
      "execution_count": 62,
      "outputs": [
        {
          "output_type": "execute_result",
          "data": {
            "text/plain": [
              "0.8333333333333334"
            ]
          },
          "metadata": {},
          "execution_count": 62
        }
      ]
    },
    {
      "cell_type": "code",
      "source": [
        "metrics.precision_score(y_true,y_pred,average='micro')"
      ],
      "metadata": {
        "colab": {
          "base_uri": "https://localhost:8080/"
        },
        "id": "x5lBOjk-U14J",
        "outputId": "878f64e4-40cf-4b4b-c0c6-73f0aad5b050"
      },
      "execution_count": 63,
      "outputs": [
        {
          "output_type": "execute_result",
          "data": {
            "text/plain": [
              "0.8"
            ]
          },
          "metadata": {},
          "execution_count": 63
        }
      ]
    },
    {
      "cell_type": "code",
      "source": [
        "metrics.precision_score(y_true,y_pred,average='weighted')"
      ],
      "metadata": {
        "colab": {
          "base_uri": "https://localhost:8080/"
        },
        "id": "7N6P4tKZU11o",
        "outputId": "f80d04df-d80d-476b-b9e4-b797fb6ef4c1"
      },
      "execution_count": 64,
      "outputs": [
        {
          "output_type": "execute_result",
          "data": {
            "text/plain": [
              "0.85"
            ]
          },
          "metadata": {},
          "execution_count": 64
        }
      ]
    },
    {
      "cell_type": "code",
      "source": [
        "data={'y_test': [0, 1, 2, 0, 1, 2, 0, 1, 2, 0],\n",
        "      'y_pred':[0, 1, 2, 1, 1, 2, 2, 1, 2, 0]\n",
        "    \n",
        "}\n",
        "\n",
        "df=pd.DataFrame(data)\n",
        "\n",
        "#matrix de confusión \n",
        "\n",
        "confusion_matrix=pd.crosstab(df['y_test'],df['y_pred'])\n",
        "sn.heatmap(confusion_matrix,annot=True)"
      ],
      "metadata": {
        "colab": {
          "base_uri": "https://localhost:8080/",
          "height": 301
        },
        "id": "8tdENLr8U1zA",
        "outputId": "d278b68f-4194-4041-9f20-f1f239158873"
      },
      "execution_count": 65,
      "outputs": [
        {
          "output_type": "execute_result",
          "data": {
            "text/plain": [
              "<matplotlib.axes._subplots.AxesSubplot at 0x7f36853588e0>"
            ]
          },
          "metadata": {},
          "execution_count": 65
        },
        {
          "output_type": "display_data",
          "data": {
            "text/plain": [
              "<Figure size 432x288 with 2 Axes>"
            ],
            "image/png": "[encoded data removed]"
          },
          "metadata": {
            "needs_background": "light"
          }
        }
      ]
    },
    {
      "cell_type": "code",
      "source": [],
      "metadata": {
        "id": "XuXRpQtHW530"
      },
      "execution_count": null,
      "outputs": []
    }
  ]
}