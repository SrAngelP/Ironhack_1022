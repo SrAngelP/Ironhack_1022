{
  "nbformat": 4,
  "nbformat_minor": 0,
  "metadata": {
    "colab": {
      "provenance": []
    },
    "kernelspec": {
      "name": "python3",
      "display_name": "Python 3"
    },
    "language_info": {
      "name": "python"
    }
  },
  "cells": [
    {
      "cell_type": "code",
      "execution_count": 1,
      "metadata": {
        "id": "JbpNF94GnTGH"
      },
      "outputs": [],
      "source": [
        "import matplotlib.pyplot as plt\n",
        "import numpy as np\n",
        "import pandas as pd\n",
        "%matplotlib inline\n",
        "from sklearn.datasets import load_breast_cancer"
      ]
    },
    {
      "cell_type": "code",
      "source": [
        "cancer=load_breast_cancer()"
      ],
      "metadata": {
        "id": "rhhwXfKBn5tk"
      },
      "execution_count": 2,
      "outputs": []
    },
    {
      "cell_type": "code",
      "source": [
        "cancer.keys()"
      ],
      "metadata": {
        "colab": {
          "base_uri": "https://localhost:8080/"
        },
        "id": "VlCZyEp6n6j9",
        "outputId": "d19c5d2f-fbd7-4742-c6b1-ce23d347cda8"
      },
      "execution_count": 3,
      "outputs": [
        {
          "output_type": "execute_result",
          "data": {
            "text/plain": [
              "dict_keys(['data', 'target', 'frame', 'target_names', 'DESCR', 'feature_names', 'filename', 'data_module'])"
            ]
          },
          "metadata": {},
          "execution_count": 3
        }
      ]
    },
    {
      "cell_type": "code",
      "source": [
        "print(cancer['DESCR'])"
      ],
      "metadata": {
        "colab": {
          "base_uri": "https://localhost:8080/"
        },
        "id": "qYOPHHtcn6hH",
        "outputId": "10664b6f-ddb8-4271-cce3-cb03c1a75617"
      },
      "execution_count": 4,
      "outputs": [
        {
          "output_type": "stream",
          "name": "stdout",
          "text": [
            ".. _breast_cancer_dataset:\n",
            "\n",
            "Breast cancer wisconsin (diagnostic) dataset\n",
            "--------------------------------------------\n",
            "\n",
            "**Data Set Characteristics:**\n",
            "\n",
            "    :Number of Instances: 569\n",
            "\n",
            "    :Number of Attributes: 30 numeric, predictive attributes and the class\n",
            "\n",
            "    :Attribute Information:\n",
            "        - radius (mean of distances from center to points on the perimeter)\n",
            "        - texture (standard deviation of gray-scale values)\n",
            "        - perimeter\n",
            "        - area\n",
            "        - smoothness (local variation in radius lengths)\n",
            "        - compactness (perimeter^2 / area - 1.0)\n",
            "        - concavity (severity of concave portions of the contour)\n",
            "        - concave points (number of concave portions of the contour)\n",
            "        - symmetry\n",
            "        - fractal dimension (\"coastline approximation\" - 1)\n",
            "\n",
            "        The mean, standard error, and \"worst\" or largest (mean of the three\n",
            "        worst/largest values) of these features were computed for each image,\n",
            "        resulting in 30 features.  For instance, field 0 is Mean Radius, field\n",
            "        10 is Radius SE, field 20 is Worst Radius.\n",
            "\n",
            "        - class:\n",
            "                - WDBC-Malignant\n",
            "                - WDBC-Benign\n",
            "\n",
            "    :Summary Statistics:\n",
            "\n",
            "    ===================================== ====== ======\n",
            "                                           Min    Max\n",
            "    ===================================== ====== ======\n",
            "    radius (mean):                        6.981  28.11\n",
            "    texture (mean):                       9.71   39.28\n",
            "    perimeter (mean):                     43.79  188.5\n",
            "    area (mean):                          143.5  2501.0\n",
            "    smoothness (mean):                    0.053  0.163\n",
            "    compactness (mean):                   0.019  0.345\n",
            "    concavity (mean):                     0.0    0.427\n",
            "    concave points (mean):                0.0    0.201\n",
            "    symmetry (mean):                      0.106  0.304\n",
            "    fractal dimension (mean):             0.05   0.097\n",
            "    radius (standard error):              0.112  2.873\n",
            "    texture (standard error):             0.36   4.885\n",
            "    perimeter (standard error):           0.757  21.98\n",
            "    area (standard error):                6.802  542.2\n",
            "    smoothness (standard error):          0.002  0.031\n",
            "    compactness (standard error):         0.002  0.135\n",
            "    concavity (standard error):           0.0    0.396\n",
            "    concave points (standard error):      0.0    0.053\n",
            "    symmetry (standard error):            0.008  0.079\n",
            "    fractal dimension (standard error):   0.001  0.03\n",
            "    radius (worst):                       7.93   36.04\n",
            "    texture (worst):                      12.02  49.54\n",
            "    perimeter (worst):                    50.41  251.2\n",
            "    area (worst):                         185.2  4254.0\n",
            "    smoothness (worst):                   0.071  0.223\n",
            "    compactness (worst):                  0.027  1.058\n",
            "    concavity (worst):                    0.0    1.252\n",
            "    concave points (worst):               0.0    0.291\n",
            "    symmetry (worst):                     0.156  0.664\n",
            "    fractal dimension (worst):            0.055  0.208\n",
            "    ===================================== ====== ======\n",
            "\n",
            "    :Missing Attribute Values: None\n",
            "\n",
            "    :Class Distribution: 212 - Malignant, 357 - Benign\n",
            "\n",
            "    :Creator:  Dr. William H. Wolberg, W. Nick Street, Olvi L. Mangasarian\n",
            "\n",
            "    :Donor: Nick Street\n",
            "\n",
            "    :Date: November, 1995\n",
            "\n",
            "This is a copy of UCI ML Breast Cancer Wisconsin (Diagnostic) datasets.\n",
            "https://goo.gl/U2Uwz2\n",
            "\n",
            "Features are computed from a digitized image of a fine needle\n",
            "aspirate (FNA) of a breast mass.  They describe\n",
            "characteristics of the cell nuclei present in the image.\n",
            "\n",
            "Separating plane described above was obtained using\n",
            "Multisurface Method-Tree (MSM-T) [K. P. Bennett, \"Decision Tree\n",
            "Construction Via Linear Programming.\" Proceedings of the 4th\n",
            "Midwest Artificial Intelligence and Cognitive Science Society,\n",
            "pp. 97-101, 1992], a classification method which uses linear\n",
            "programming to construct a decision tree.  Relevant features\n",
            "were selected using an exhaustive search in the space of 1-4\n",
            "features and 1-3 separating planes.\n",
            "\n",
            "The actual linear program used to obtain the separating plane\n",
            "in the 3-dimensional space is that described in:\n",
            "[K. P. Bennett and O. L. Mangasarian: \"Robust Linear\n",
            "Programming Discrimination of Two Linearly Inseparable Sets\",\n",
            "Optimization Methods and Software 1, 1992, 23-34].\n",
            "\n",
            "This database is also available through the UW CS ftp server:\n",
            "\n",
            "ftp ftp.cs.wisc.edu\n",
            "cd math-prog/cpo-dataset/machine-learn/WDBC/\n",
            "\n",
            ".. topic:: References\n",
            "\n",
            "   - W.N. Street, W.H. Wolberg and O.L. Mangasarian. Nuclear feature extraction \n",
            "     for breast tumor diagnosis. IS&T/SPIE 1993 International Symposium on \n",
            "     Electronic Imaging: Science and Technology, volume 1905, pages 861-870,\n",
            "     San Jose, CA, 1993.\n",
            "   - O.L. Mangasarian, W.N. Street and W.H. Wolberg. Breast cancer diagnosis and \n",
            "     prognosis via linear programming. Operations Research, 43(4), pages 570-577, \n",
            "     July-August 1995.\n",
            "   - W.H. Wolberg, W.N. Street, and O.L. Mangasarian. Machine learning techniques\n",
            "     to diagnose breast cancer from fine-needle aspirates. Cancer Letters 77 (1994) \n",
            "     163-171.\n"
          ]
        }
      ]
    },
    {
      "cell_type": "code",
      "source": [
        "len(cancer['data'].T)"
      ],
      "metadata": {
        "colab": {
          "base_uri": "https://localhost:8080/"
        },
        "id": "XKOQ4i89n6eh",
        "outputId": "214e5deb-eb42-45de-c9a4-bdf04f2d89bd"
      },
      "execution_count": 7,
      "outputs": [
        {
          "output_type": "execute_result",
          "data": {
            "text/plain": [
              "30"
            ]
          },
          "metadata": {},
          "execution_count": 7
        }
      ]
    },
    {
      "cell_type": "code",
      "source": [
        "cancer['feature_names']"
      ],
      "metadata": {
        "colab": {
          "base_uri": "https://localhost:8080/"
        },
        "id": "bGMsUwLPn6b-",
        "outputId": "d8722474-0dd6-49d4-9dc9-5ab318b814db"
      },
      "execution_count": 8,
      "outputs": [
        {
          "output_type": "execute_result",
          "data": {
            "text/plain": [
              "array(['mean radius', 'mean texture', 'mean perimeter', 'mean area',\n",
              "       'mean smoothness', 'mean compactness', 'mean concavity',\n",
              "       'mean concave points', 'mean symmetry', 'mean fractal dimension',\n",
              "       'radius error', 'texture error', 'perimeter error', 'area error',\n",
              "       'smoothness error', 'compactness error', 'concavity error',\n",
              "       'concave points error', 'symmetry error',\n",
              "       'fractal dimension error', 'worst radius', 'worst texture',\n",
              "       'worst perimeter', 'worst area', 'worst smoothness',\n",
              "       'worst compactness', 'worst concavity', 'worst concave points',\n",
              "       'worst symmetry', 'worst fractal dimension'], dtype='<U23')"
            ]
          },
          "metadata": {},
          "execution_count": 8
        }
      ]
    },
    {
      "cell_type": "code",
      "source": [
        "df=pd.DataFrame(cancer['data'],columns=cancer['feature_names'])\n",
        "df"
      ],
      "metadata": {
        "colab": {
          "base_uri": "https://localhost:8080/",
          "height": 522
        },
        "id": "e3M8f-6Bn6Y8",
        "outputId": "cb9ec573-7328-4e60-8fed-aad903a77c78"
      },
      "execution_count": 9,
      "outputs": [
        {
          "output_type": "execute_result",
          "data": {
            "text/plain": [
              "     mean radius  mean texture  mean perimeter  mean area  mean smoothness  \\\n",
              "0          17.99         10.38          122.80     1001.0          0.11840   \n",
              "1          20.57         17.77          132.90     1326.0          0.08474   \n",
              "2          19.69         21.25          130.00     1203.0          0.10960   \n",
              "3          11.42         20.38           77.58      386.1          0.14250   \n",
              "4          20.29         14.34          135.10     1297.0          0.10030   \n",
              "..           ...           ...             ...        ...              ...   \n",
              "564        21.56         22.39          142.00     1479.0          0.11100   \n",
              "565        20.13         28.25          131.20     1261.0          0.09780   \n",
              "566        16.60         28.08          108.30      858.1          0.08455   \n",
              "567        20.60         29.33          140.10     1265.0          0.11780   \n",
              "568         7.76         24.54           47.92      181.0          0.05263   \n",
              "\n",
              "     mean compactness  mean concavity  mean concave points  mean symmetry  \\\n",
              "0             0.27760         0.30010              0.14710         0.2419   \n",
              "1             0.07864         0.08690              0.07017         0.1812   \n",
              "2             0.15990         0.19740              0.12790         0.2069   \n",
              "3             0.28390         0.24140              0.10520         0.2597   \n",
              "4             0.13280         0.19800              0.10430         0.1809   \n",
              "..                ...             ...                  ...            ...   \n",
              "564           0.11590         0.24390              0.13890         0.1726   \n",
              "565           0.10340         0.14400              0.09791         0.1752   \n",
              "566           0.10230         0.09251              0.05302         0.1590   \n",
              "567           0.27700         0.35140              0.15200         0.2397   \n",
              "568           0.04362         0.00000              0.00000         0.1587   \n",
              "\n",
              "     mean fractal dimension  ...  worst radius  worst texture  \\\n",
              "0                   0.07871  ...        25.380          17.33   \n",
              "1                   0.05667  ...        24.990          23.41   \n",
              "2                   0.05999  ...        23.570          25.53   \n",
              "3                   0.09744  ...        14.910          26.50   \n",
              "4                   0.05883  ...        22.540          16.67   \n",
              "..                      ...  ...           ...            ...   \n",
              "564                 0.05623  ...        25.450          26.40   \n",
              "565                 0.05533  ...        23.690          38.25   \n",
              "566                 0.05648  ...        18.980          34.12   \n",
              "567                 0.07016  ...        25.740          39.42   \n",
              "568                 0.05884  ...         9.456          30.37   \n",
              "\n",
              "     worst perimeter  worst area  worst smoothness  worst compactness  \\\n",
              "0             184.60      2019.0           0.16220            0.66560   \n",
              "1             158.80      1956.0           0.12380            0.18660   \n",
              "2             152.50      1709.0           0.14440            0.42450   \n",
              "3              98.87       567.7           0.20980            0.86630   \n",
              "4             152.20      1575.0           0.13740            0.20500   \n",
              "..               ...         ...               ...                ...   \n",
              "564           166.10      2027.0           0.14100            0.21130   \n",
              "565           155.00      1731.0           0.11660            0.19220   \n",
              "566           126.70      1124.0           0.11390            0.30940   \n",
              "567           184.60      1821.0           0.16500            0.86810   \n",
              "568            59.16       268.6           0.08996            0.06444   \n",
              "\n",
              "     worst concavity  worst concave points  worst symmetry  \\\n",
              "0             0.7119                0.2654          0.4601   \n",
              "1             0.2416                0.1860          0.2750   \n",
              "2             0.4504                0.2430          0.3613   \n",
              "3             0.6869                0.2575          0.6638   \n",
              "4             0.4000                0.1625          0.2364   \n",
              "..               ...                   ...             ...   \n",
              "564           0.4107                0.2216          0.2060   \n",
              "565           0.3215                0.1628          0.2572   \n",
              "566           0.3403                0.1418          0.2218   \n",
              "567           0.9387                0.2650          0.4087   \n",
              "568           0.0000                0.0000          0.2871   \n",
              "\n",
              "     worst fractal dimension  \n",
              "0                    0.11890  \n",
              "1                    0.08902  \n",
              "2                    0.08758  \n",
              "3                    0.17300  \n",
              "4                    0.07678  \n",
              "..                       ...  \n",
              "564                  0.07115  \n",
              "565                  0.06637  \n",
              "566                  0.07820  \n",
              "567                  0.12400  \n",
              "568                  0.07039  \n",
              "\n",
              "[569 rows x 30 columns]"
            ],
            "text/html": [
              "\n",
              "  <div id=\"df-7cd17b94-c6ca-4e9d-8e3e-e10ba39b855d\">\n",
              "    <div class=\"colab-df-container\">\n",
              "      <div>\n",
              "<style scoped>\n",
              "    .dataframe tbody tr th:only-of-type {\n",
              "        vertical-align: middle;\n",
              "    }\n",
              "\n",
              "    .dataframe tbody tr th {\n",
              "        vertical-align: top;\n",
              "    }\n",
              "\n",
              "    .dataframe thead th {\n",
              "        text-align: right;\n",
              "    }\n",
              "</style>\n",
              "<table border=\"1\" class=\"dataframe\">\n",
              "  <thead>\n",
              "    <tr style=\"text-align: right;\">\n",
              "      <th></th>\n",
              "      <th>mean radius</th>\n",
              "      <th>mean texture</th>\n",
              "      <th>mean perimeter</th>\n",
              "      <th>mean area</th>\n",
              "      <th>mean smoothness</th>\n",
              "      <th>mean compactness</th>\n",
              "      <th>mean concavity</th>\n",
              "      <th>mean concave points</th>\n",
              "      <th>mean symmetry</th>\n",
              "      <th>mean fractal dimension</th>\n",
              "      <th>...</th>\n",
              "      <th>worst radius</th>\n",
              "      <th>worst texture</th>\n",
              "      <th>worst perimeter</th>\n",
              "      <th>worst area</th>\n",
              "      <th>worst smoothness</th>\n",
              "      <th>worst compactness</th>\n",
              "      <th>worst concavity</th>\n",
              "      <th>worst concave points</th>\n",
              "      <th>worst symmetry</th>\n",
              "      <th>worst fractal dimension</th>\n",
              "    </tr>\n",
              "  </thead>\n",
              "  <tbody>\n",
              "    <tr>\n",
              "      <th>0</th>\n",
              "      <td>17.99</td>\n",
              "      <td>10.38</td>\n",
              "      <td>122.80</td>\n",
              "      <td>1001.0</td>\n",
              "      <td>0.11840</td>\n",
              "      <td>0.27760</td>\n",
              "      <td>0.30010</td>\n",
              "      <td>0.14710</td>\n",
              "      <td>0.2419</td>\n",
              "      <td>0.07871</td>\n",
              "      <td>...</td>\n",
              "      <td>25.380</td>\n",
              "      <td>17.33</td>\n",
              "      <td>184.60</td>\n",
              "      <td>2019.0</td>\n",
              "      <td>0.16220</td>\n",
              "      <td>0.66560</td>\n",
              "      <td>0.7119</td>\n",
              "      <td>0.2654</td>\n",
              "      <td>0.4601</td>\n",
              "      <td>0.11890</td>\n",
              "    </tr>\n",
              "    <tr>\n",
              "      <th>1</th>\n",
              "      <td>20.57</td>\n",
              "      <td>17.77</td>\n",
              "      <td>132.90</td>\n",
              "      <td>1326.0</td>\n",
              "      <td>0.08474</td>\n",
              "      <td>0.07864</td>\n",
              "      <td>0.08690</td>\n",
              "      <td>0.07017</td>\n",
              "      <td>0.1812</td>\n",
              "      <td>0.05667</td>\n",
              "      <td>...</td>\n",
              "      <td>24.990</td>\n",
              "      <td>23.41</td>\n",
              "      <td>158.80</td>\n",
              "      <td>1956.0</td>\n",
              "      <td>0.12380</td>\n",
              "      <td>0.18660</td>\n",
              "      <td>0.2416</td>\n",
              "      <td>0.1860</td>\n",
              "      <td>0.2750</td>\n",
              "      <td>0.08902</td>\n",
              "    </tr>\n",
              "    <tr>\n",
              "      <th>2</th>\n",
              "      <td>19.69</td>\n",
              "      <td>21.25</td>\n",
              "      <td>130.00</td>\n",
              "      <td>1203.0</td>\n",
              "      <td>0.10960</td>\n",
              "      <td>0.15990</td>\n",
              "      <td>0.19740</td>\n",
              "      <td>0.12790</td>\n",
              "      <td>0.2069</td>\n",
              "      <td>0.05999</td>\n",
              "      <td>...</td>\n",
              "      <td>23.570</td>\n",
              "      <td>25.53</td>\n",
              "      <td>152.50</td>\n",
              "      <td>1709.0</td>\n",
              "      <td>0.14440</td>\n",
              "      <td>0.42450</td>\n",
              "      <td>0.4504</td>\n",
              "      <td>0.2430</td>\n",
              "      <td>0.3613</td>\n",
              "      <td>0.08758</td>\n",
              "    </tr>\n",
              "    <tr>\n",
              "      <th>3</th>\n",
              "      <td>11.42</td>\n",
              "      <td>20.38</td>\n",
              "      <td>77.58</td>\n",
              "      <td>386.1</td>\n",
              "      <td>0.14250</td>\n",
              "      <td>0.28390</td>\n",
              "      <td>0.24140</td>\n",
              "      <td>0.10520</td>\n",
              "      <td>0.2597</td>\n",
              "      <td>0.09744</td>\n",
              "      <td>...</td>\n",
              "      <td>14.910</td>\n",
              "      <td>26.50</td>\n",
              "      <td>98.87</td>\n",
              "      <td>567.7</td>\n",
              "      <td>0.20980</td>\n",
              "      <td>0.86630</td>\n",
              "      <td>0.6869</td>\n",
              "      <td>0.2575</td>\n",
              "      <td>0.6638</td>\n",
              "      <td>0.17300</td>\n",
              "    </tr>\n",
              "    <tr>\n",
              "      <th>4</th>\n",
              "      <td>20.29</td>\n",
              "      <td>14.34</td>\n",
              "      <td>135.10</td>\n",
              "      <td>1297.0</td>\n",
              "      <td>0.10030</td>\n",
              "      <td>0.13280</td>\n",
              "      <td>0.19800</td>\n",
              "      <td>0.10430</td>\n",
              "      <td>0.1809</td>\n",
              "      <td>0.05883</td>\n",
              "      <td>...</td>\n",
              "      <td>22.540</td>\n",
              "      <td>16.67</td>\n",
              "      <td>152.20</td>\n",
              "      <td>1575.0</td>\n",
              "      <td>0.13740</td>\n",
              "      <td>0.20500</td>\n",
              "      <td>0.4000</td>\n",
              "      <td>0.1625</td>\n",
              "      <td>0.2364</td>\n",
              "      <td>0.07678</td>\n",
              "    </tr>\n",
              "    <tr>\n",
              "      <th>...</th>\n",
              "      <td>...</td>\n",
              "      <td>...</td>\n",
              "      <td>...</td>\n",
              "      <td>...</td>\n",
              "      <td>...</td>\n",
              "      <td>...</td>\n",
              "      <td>...</td>\n",
              "      <td>...</td>\n",
              "      <td>...</td>\n",
              "      <td>...</td>\n",
              "      <td>...</td>\n",
              "      <td>...</td>\n",
              "      <td>...</td>\n",
              "      <td>...</td>\n",
              "      <td>...</td>\n",
              "      <td>...</td>\n",
              "      <td>...</td>\n",
              "      <td>...</td>\n",
              "      <td>...</td>\n",
              "      <td>...</td>\n",
              "      <td>...</td>\n",
              "    </tr>\n",
              "    <tr>\n",
              "      <th>564</th>\n",
              "      <td>21.56</td>\n",
              "      <td>22.39</td>\n",
              "      <td>142.00</td>\n",
              "      <td>1479.0</td>\n",
              "      <td>0.11100</td>\n",
              "      <td>0.11590</td>\n",
              "      <td>0.24390</td>\n",
              "      <td>0.13890</td>\n",
              "      <td>0.1726</td>\n",
              "      <td>0.05623</td>\n",
              "      <td>...</td>\n",
              "      <td>25.450</td>\n",
              "      <td>26.40</td>\n",
              "      <td>166.10</td>\n",
              "      <td>2027.0</td>\n",
              "      <td>0.14100</td>\n",
              "      <td>0.21130</td>\n",
              "      <td>0.4107</td>\n",
              "      <td>0.2216</td>\n",
              "      <td>0.2060</td>\n",
              "      <td>0.07115</td>\n",
              "    </tr>\n",
              "    <tr>\n",
              "      <th>565</th>\n",
              "      <td>20.13</td>\n",
              "      <td>28.25</td>\n",
              "      <td>131.20</td>\n",
              "      <td>1261.0</td>\n",
              "      <td>0.09780</td>\n",
              "      <td>0.10340</td>\n",
              "      <td>0.14400</td>\n",
              "      <td>0.09791</td>\n",
              "      <td>0.1752</td>\n",
              "      <td>0.05533</td>\n",
              "      <td>...</td>\n",
              "      <td>23.690</td>\n",
              "      <td>38.25</td>\n",
              "      <td>155.00</td>\n",
              "      <td>1731.0</td>\n",
              "      <td>0.11660</td>\n",
              "      <td>0.19220</td>\n",
              "      <td>0.3215</td>\n",
              "      <td>0.1628</td>\n",
              "      <td>0.2572</td>\n",
              "      <td>0.06637</td>\n",
              "    </tr>\n",
              "    <tr>\n",
              "      <th>566</th>\n",
              "      <td>16.60</td>\n",
              "      <td>28.08</td>\n",
              "      <td>108.30</td>\n",
              "      <td>858.1</td>\n",
              "      <td>0.08455</td>\n",
              "      <td>0.10230</td>\n",
              "      <td>0.09251</td>\n",
              "      <td>0.05302</td>\n",
              "      <td>0.1590</td>\n",
              "      <td>0.05648</td>\n",
              "      <td>...</td>\n",
              "      <td>18.980</td>\n",
              "      <td>34.12</td>\n",
              "      <td>126.70</td>\n",
              "      <td>1124.0</td>\n",
              "      <td>0.11390</td>\n",
              "      <td>0.30940</td>\n",
              "      <td>0.3403</td>\n",
              "      <td>0.1418</td>\n",
              "      <td>0.2218</td>\n",
              "      <td>0.07820</td>\n",
              "    </tr>\n",
              "    <tr>\n",
              "      <th>567</th>\n",
              "      <td>20.60</td>\n",
              "      <td>29.33</td>\n",
              "      <td>140.10</td>\n",
              "      <td>1265.0</td>\n",
              "      <td>0.11780</td>\n",
              "      <td>0.27700</td>\n",
              "      <td>0.35140</td>\n",
              "      <td>0.15200</td>\n",
              "      <td>0.2397</td>\n",
              "      <td>0.07016</td>\n",
              "      <td>...</td>\n",
              "      <td>25.740</td>\n",
              "      <td>39.42</td>\n",
              "      <td>184.60</td>\n",
              "      <td>1821.0</td>\n",
              "      <td>0.16500</td>\n",
              "      <td>0.86810</td>\n",
              "      <td>0.9387</td>\n",
              "      <td>0.2650</td>\n",
              "      <td>0.4087</td>\n",
              "      <td>0.12400</td>\n",
              "    </tr>\n",
              "    <tr>\n",
              "      <th>568</th>\n",
              "      <td>7.76</td>\n",
              "      <td>24.54</td>\n",
              "      <td>47.92</td>\n",
              "      <td>181.0</td>\n",
              "      <td>0.05263</td>\n",
              "      <td>0.04362</td>\n",
              "      <td>0.00000</td>\n",
              "      <td>0.00000</td>\n",
              "      <td>0.1587</td>\n",
              "      <td>0.05884</td>\n",
              "      <td>...</td>\n",
              "      <td>9.456</td>\n",
              "      <td>30.37</td>\n",
              "      <td>59.16</td>\n",
              "      <td>268.6</td>\n",
              "      <td>0.08996</td>\n",
              "      <td>0.06444</td>\n",
              "      <td>0.0000</td>\n",
              "      <td>0.0000</td>\n",
              "      <td>0.2871</td>\n",
              "      <td>0.07039</td>\n",
              "    </tr>\n",
              "  </tbody>\n",
              "</table>\n",
              "<p>569 rows × 30 columns</p>\n",
              "</div>\n",
              "      <button class=\"colab-df-convert\" onclick=\"convertToInteractive('df-7cd17b94-c6ca-4e9d-8e3e-e10ba39b855d')\"\n",
              "              title=\"Convert this dataframe to an interactive table.\"\n",
              "              style=\"display:none;\">\n",
              "        \n",
              "  <svg xmlns=\"http://www.w3.org/2000/svg\" height=\"24px\"viewBox=\"0 0 24 24\"\n",
              "       width=\"24px\">\n",
              "    <path d=\"M0 0h24v24H0V0z\" fill=\"none\"/>\n",
              "    <path d=\"M18.56 5.44l.94 2.06.94-2.06 2.06-.94-2.06-.94-.94-2.06-.94 2.06-2.06.94zm-11 1L8.5 8.5l.94-2.06 2.06-.94-2.06-.94L8.5 2.5l-.94 2.06-2.06.94zm10 10l.94 2.06.94-2.06 2.06-.94-2.06-.94-.94-2.06-.94 2.06-2.06.94z\"/><path d=\"M17.41 7.96l-1.37-1.37c-.4-.4-.92-.59-1.43-.59-.52 0-1.04.2-1.43.59L10.3 9.45l-7.72 7.72c-.78.78-.78 2.05 0 2.83L4 21.41c.39.39.9.59 1.41.59.51 0 1.02-.2 1.41-.59l7.78-7.78 2.81-2.81c.8-.78.8-2.07 0-2.86zM5.41 20L4 18.59l7.72-7.72 1.47 1.35L5.41 20z\"/>\n",
              "  </svg>\n",
              "      </button>\n",
              "      \n",
              "  <style>\n",
              "    .colab-df-container {\n",
              "      display:flex;\n",
              "      flex-wrap:wrap;\n",
              "      gap: 12px;\n",
              "    }\n",
              "\n",
              "    .colab-df-convert {\n",
              "      background-color: #E8F0FE;\n",
              "      border: none;\n",
              "      border-radius: 50%;\n",
              "      cursor: pointer;\n",
              "      display: none;\n",
              "      fill: #1967D2;\n",
              "      height: 32px;\n",
              "      padding: 0 0 0 0;\n",
              "      width: 32px;\n",
              "    }\n",
              "\n",
              "    .colab-df-convert:hover {\n",
              "      background-color: #E2EBFA;\n",
              "      box-shadow: 0px 1px 2px rgba(60, 64, 67, 0.3), 0px 1px 3px 1px rgba(60, 64, 67, 0.15);\n",
              "      fill: #174EA6;\n",
              "    }\n",
              "\n",
              "    [theme=dark] .colab-df-convert {\n",
              "      background-color: #3B4455;\n",
              "      fill: #D2E3FC;\n",
              "    }\n",
              "\n",
              "    [theme=dark] .colab-df-convert:hover {\n",
              "      background-color: #434B5C;\n",
              "      box-shadow: 0px 1px 3px 1px rgba(0, 0, 0, 0.15);\n",
              "      filter: drop-shadow(0px 1px 2px rgba(0, 0, 0, 0.3));\n",
              "      fill: #FFFFFF;\n",
              "    }\n",
              "  </style>\n",
              "\n",
              "      <script>\n",
              "        const buttonEl =\n",
              "          document.querySelector('#df-7cd17b94-c6ca-4e9d-8e3e-e10ba39b855d button.colab-df-convert');\n",
              "        buttonEl.style.display =\n",
              "          google.colab.kernel.accessAllowed ? 'block' : 'none';\n",
              "\n",
              "        async function convertToInteractive(key) {\n",
              "          const element = document.querySelector('#df-7cd17b94-c6ca-4e9d-8e3e-e10ba39b855d');\n",
              "          const dataTable =\n",
              "            await google.colab.kernel.invokeFunction('convertToInteractive',\n",
              "                                                     [key], {});\n",
              "          if (!dataTable) return;\n",
              "\n",
              "          const docLinkHtml = 'Like what you see? Visit the ' +\n",
              "            '<a target=\"_blank\" href=https://colab.research.google.com/notebooks/data_table.ipynb>data table notebook</a>'\n",
              "            + ' to learn more about interactive tables.';\n",
              "          element.innerHTML = '';\n",
              "          dataTable['output_type'] = 'display_data';\n",
              "          await google.colab.output.renderOutput(dataTable, element);\n",
              "          const docLink = document.createElement('div');\n",
              "          docLink.innerHTML = docLinkHtml;\n",
              "          element.appendChild(docLink);\n",
              "        }\n",
              "      </script>\n",
              "    </div>\n",
              "  </div>\n",
              "  "
            ]
          },
          "metadata": {},
          "execution_count": 9
        }
      ]
    },
    {
      "cell_type": "code",
      "source": [
        "from sklearn.preprocessing import StandardScaler"
      ],
      "metadata": {
        "id": "kLkba5NGn6Wm"
      },
      "execution_count": 10,
      "outputs": []
    },
    {
      "cell_type": "code",
      "source": [
        "scaler=StandardScaler()\n",
        "scaler.fit(df)"
      ],
      "metadata": {
        "colab": {
          "base_uri": "https://localhost:8080/"
        },
        "id": "sT3q3wFpn6T8",
        "outputId": "4aa2d958-ac42-4a70-e2ce-4bfaacf92a73"
      },
      "execution_count": 11,
      "outputs": [
        {
          "output_type": "execute_result",
          "data": {
            "text/plain": [
              "StandardScaler()"
            ]
          },
          "metadata": {},
          "execution_count": 11
        }
      ]
    },
    {
      "cell_type": "code",
      "source": [
        "scaled_data=scaler.transform(df)\n",
        "scaled_data"
      ],
      "metadata": {
        "colab": {
          "base_uri": "https://localhost:8080/"
        },
        "id": "P6yfllPdn6Re",
        "outputId": "b0360fe1-05d7-41e8-fcb9-6c9b37538644"
      },
      "execution_count": 12,
      "outputs": [
        {
          "output_type": "execute_result",
          "data": {
            "text/plain": [
              "array([[ 1.09706398, -2.07333501,  1.26993369, ...,  2.29607613,\n",
              "         2.75062224,  1.93701461],\n",
              "       [ 1.82982061, -0.35363241,  1.68595471, ...,  1.0870843 ,\n",
              "        -0.24388967,  0.28118999],\n",
              "       [ 1.57988811,  0.45618695,  1.56650313, ...,  1.95500035,\n",
              "         1.152255  ,  0.20139121],\n",
              "       ...,\n",
              "       [ 0.70228425,  2.0455738 ,  0.67267578, ...,  0.41406869,\n",
              "        -1.10454895, -0.31840916],\n",
              "       [ 1.83834103,  2.33645719,  1.98252415, ...,  2.28998549,\n",
              "         1.91908301,  2.21963528],\n",
              "       [-1.80840125,  1.22179204, -1.81438851, ..., -1.74506282,\n",
              "        -0.04813821, -0.75120669]])"
            ]
          },
          "metadata": {},
          "execution_count": 12
        }
      ]
    },
    {
      "cell_type": "code",
      "source": [
        "cancer['data']"
      ],
      "metadata": {
        "colab": {
          "base_uri": "https://localhost:8080/"
        },
        "id": "gFBmTmFBn6Ot",
        "outputId": "12a30d23-6439-4c93-f401-ae9d711a14ab"
      },
      "execution_count": 13,
      "outputs": [
        {
          "output_type": "execute_result",
          "data": {
            "text/plain": [
              "array([[1.799e+01, 1.038e+01, 1.228e+02, ..., 2.654e-01, 4.601e-01,\n",
              "        1.189e-01],\n",
              "       [2.057e+01, 1.777e+01, 1.329e+02, ..., 1.860e-01, 2.750e-01,\n",
              "        8.902e-02],\n",
              "       [1.969e+01, 2.125e+01, 1.300e+02, ..., 2.430e-01, 3.613e-01,\n",
              "        8.758e-02],\n",
              "       ...,\n",
              "       [1.660e+01, 2.808e+01, 1.083e+02, ..., 1.418e-01, 2.218e-01,\n",
              "        7.820e-02],\n",
              "       [2.060e+01, 2.933e+01, 1.401e+02, ..., 2.650e-01, 4.087e-01,\n",
              "        1.240e-01],\n",
              "       [7.760e+00, 2.454e+01, 4.792e+01, ..., 0.000e+00, 2.871e-01,\n",
              "        7.039e-02]])"
            ]
          },
          "metadata": {},
          "execution_count": 13
        }
      ]
    },
    {
      "cell_type": "code",
      "source": [
        "from sklearn.decomposition import PCA"
      ],
      "metadata": {
        "id": "Gsb_bvfHn6MM"
      },
      "execution_count": 15,
      "outputs": []
    },
    {
      "cell_type": "code",
      "source": [
        "pca=PCA(n_components=30)"
      ],
      "metadata": {
        "id": "c4g6czEsn6Jf"
      },
      "execution_count": 107,
      "outputs": []
    },
    {
      "cell_type": "code",
      "source": [
        "pca.fit(scaled_data)"
      ],
      "metadata": {
        "colab": {
          "base_uri": "https://localhost:8080/"
        },
        "id": "9JflwBtFwNlT",
        "outputId": "c35c2ce8-ad2c-4cff-abdd-e25e580132ea"
      },
      "execution_count": 108,
      "outputs": [
        {
          "output_type": "execute_result",
          "data": {
            "text/plain": [
              "PCA(n_components=30)"
            ]
          },
          "metadata": {},
          "execution_count": 108
        }
      ]
    },
    {
      "cell_type": "code",
      "source": [
        "x_pca=pca.transform(scaled_data)"
      ],
      "metadata": {
        "id": "0qjIDNRxwUER"
      },
      "execution_count": 109,
      "outputs": []
    },
    {
      "cell_type": "code",
      "source": [
        "scaled_data.shape"
      ],
      "metadata": {
        "colab": {
          "base_uri": "https://localhost:8080/"
        },
        "id": "S1ejkJRNwUBS",
        "outputId": "b28b3c98-dcbb-49e8-84f4-3ecf60e726da"
      },
      "execution_count": 110,
      "outputs": [
        {
          "output_type": "execute_result",
          "data": {
            "text/plain": [
              "(569, 30)"
            ]
          },
          "metadata": {},
          "execution_count": 110
        }
      ]
    },
    {
      "cell_type": "code",
      "source": [
        "x_pca.shape"
      ],
      "metadata": {
        "colab": {
          "base_uri": "https://localhost:8080/"
        },
        "id": "FjmokGxUwT_F",
        "outputId": "38e1587b-89a7-4db2-a9db-4f645cb1d609"
      },
      "execution_count": 100,
      "outputs": [
        {
          "output_type": "execute_result",
          "data": {
            "text/plain": [
              "(569, 2)"
            ]
          },
          "metadata": {},
          "execution_count": 100
        }
      ]
    },
    {
      "cell_type": "code",
      "source": [
        "x=np.ones(569)\n",
        "plt.figure(figsize=(8,6))\n",
        "plt.scatter(x_pca[:,0],x_pca[:,1],c=cancer['target'])\n",
        "plt.xlabel('PC1')\n",
        "plt.ylabel('PC2')"
      ],
      "metadata": {
        "colab": {
          "base_uri": "https://localhost:8080/",
          "height": 405
        },
        "id": "nv0cCIcCwT8Q",
        "outputId": "e837e0b1-f71f-4f54-bc50-85fdb4d5aaca"
      },
      "execution_count": 101,
      "outputs": [
        {
          "output_type": "execute_result",
          "data": {
            "text/plain": [
              "Text(0, 0.5, 'PC2')"
            ]
          },
          "metadata": {},
          "execution_count": 101
        },
        {
          "output_type": "display_data",
          "data": {
            "text/plain": [
              "<Figure size 576x432 with 1 Axes>"
            ],
            "image/png": "[encoded data removed]"
          },
          "metadata": {
            "needs_background": "light"
          }
        }
      ]
    },
    {
      "cell_type": "code",
      "source": [
        "x_pca"
      ],
      "metadata": {
        "colab": {
          "base_uri": "https://localhost:8080/"
        },
        "id": "UAMcRrNwwT5s",
        "outputId": "5647fbed-b550-405a-975e-74b2d8888b84"
      },
      "execution_count": 102,
      "outputs": [
        {
          "output_type": "execute_result",
          "data": {
            "text/plain": [
              "array([[ 9.19283683,  1.94858307],\n",
              "       [ 2.3878018 , -3.76817174],\n",
              "       [ 5.73389628, -1.0751738 ],\n",
              "       ...,\n",
              "       [ 1.25617928, -1.90229671],\n",
              "       [10.37479406,  1.67201011],\n",
              "       [-5.4752433 , -0.67063679]])"
            ]
          },
          "metadata": {},
          "execution_count": 102
        }
      ]
    },
    {
      "cell_type": "code",
      "source": [
        "cancer.target"
      ],
      "metadata": {
        "colab": {
          "base_uri": "https://localhost:8080/"
        },
        "id": "lRVb54F0wT3F",
        "outputId": "937c899f-967e-4ee0-ae2f-3563a5d3beb9"
      },
      "execution_count": 103,
      "outputs": [
        {
          "output_type": "execute_result",
          "data": {
            "text/plain": [
              "array([0, 0, 0, 0, 0, 0, 0, 0, 0, 0, 0, 0, 0, 0, 0, 0, 0, 0, 0, 1, 1, 1,\n",
              "       0, 0, 0, 0, 0, 0, 0, 0, 0, 0, 0, 0, 0, 0, 0, 1, 0, 0, 0, 0, 0, 0,\n",
              "       0, 0, 1, 0, 1, 1, 1, 1, 1, 0, 0, 1, 0, 0, 1, 1, 1, 1, 0, 1, 0, 0,\n",
              "       1, 1, 1, 1, 0, 1, 0, 0, 1, 0, 1, 0, 0, 1, 1, 1, 0, 0, 1, 0, 0, 0,\n",
              "       1, 1, 1, 0, 1, 1, 0, 0, 1, 1, 1, 0, 0, 1, 1, 1, 1, 0, 1, 1, 0, 1,\n",
              "       1, 1, 1, 1, 1, 1, 1, 0, 0, 0, 1, 0, 0, 1, 1, 1, 0, 0, 1, 0, 1, 0,\n",
              "       0, 1, 0, 0, 1, 1, 0, 1, 1, 0, 1, 1, 1, 1, 0, 1, 1, 1, 1, 1, 1, 1,\n",
              "       1, 1, 0, 1, 1, 1, 1, 0, 0, 1, 0, 1, 1, 0, 0, 1, 1, 0, 0, 1, 1, 1,\n",
              "       1, 0, 1, 1, 0, 0, 0, 1, 0, 1, 0, 1, 1, 1, 0, 1, 1, 0, 0, 1, 0, 0,\n",
              "       0, 0, 1, 0, 0, 0, 1, 0, 1, 0, 1, 1, 0, 1, 0, 0, 0, 0, 1, 1, 0, 0,\n",
              "       1, 1, 1, 0, 1, 1, 1, 1, 1, 0, 0, 1, 1, 0, 1, 1, 0, 0, 1, 0, 1, 1,\n",
              "       1, 1, 0, 1, 1, 1, 1, 1, 0, 1, 0, 0, 0, 0, 0, 0, 0, 0, 0, 0, 0, 0,\n",
              "       0, 0, 1, 1, 1, 1, 1, 1, 0, 1, 0, 1, 1, 0, 1, 1, 0, 1, 0, 0, 1, 1,\n",
              "       1, 1, 1, 1, 1, 1, 1, 1, 1, 1, 1, 0, 1, 1, 0, 1, 0, 1, 1, 1, 1, 1,\n",
              "       1, 1, 1, 1, 1, 1, 1, 1, 1, 0, 1, 1, 1, 0, 1, 0, 1, 1, 1, 1, 0, 0,\n",
              "       0, 1, 1, 1, 1, 0, 1, 0, 1, 0, 1, 1, 1, 0, 1, 1, 1, 1, 1, 1, 1, 0,\n",
              "       0, 0, 1, 1, 1, 1, 1, 1, 1, 1, 1, 1, 1, 0, 0, 1, 0, 0, 0, 1, 0, 0,\n",
              "       1, 1, 1, 1, 1, 0, 1, 1, 1, 1, 1, 0, 1, 1, 1, 0, 1, 1, 0, 0, 1, 1,\n",
              "       1, 1, 1, 1, 0, 1, 1, 1, 1, 1, 1, 1, 0, 1, 1, 1, 1, 1, 0, 1, 1, 0,\n",
              "       1, 1, 1, 1, 1, 1, 1, 1, 1, 1, 1, 1, 0, 1, 0, 0, 1, 0, 1, 1, 1, 1,\n",
              "       1, 0, 1, 1, 0, 1, 0, 1, 1, 0, 1, 0, 1, 1, 1, 1, 1, 1, 1, 1, 0, 0,\n",
              "       1, 1, 1, 1, 1, 1, 0, 1, 1, 1, 1, 1, 1, 1, 1, 1, 1, 0, 1, 1, 1, 1,\n",
              "       1, 1, 1, 0, 1, 0, 1, 1, 0, 1, 1, 1, 1, 1, 0, 0, 1, 0, 1, 0, 1, 1,\n",
              "       1, 1, 1, 0, 1, 1, 0, 1, 0, 1, 0, 0, 1, 1, 1, 0, 1, 1, 1, 1, 1, 1,\n",
              "       1, 1, 1, 1, 1, 0, 1, 0, 0, 1, 1, 1, 1, 1, 1, 1, 1, 1, 1, 1, 1, 1,\n",
              "       1, 1, 1, 1, 1, 1, 1, 1, 1, 1, 1, 1, 0, 0, 0, 0, 0, 0, 1])"
            ]
          },
          "metadata": {},
          "execution_count": 103
        }
      ]
    },
    {
      "cell_type": "code",
      "source": [
        "plt.figure(figsize=(8,6))\n",
        "plt.scatter(x_pca[:,29],x_pca[:,28],c=cancer['target'])\n",
        "plt.xlabel('PC1')\n",
        "plt.ylabel('PC3')"
      ],
      "metadata": {
        "colab": {
          "base_uri": "https://localhost:8080/",
          "height": 235
        },
        "id": "Dp4p61yKwT0g",
        "outputId": "89820073-113a-4047-a43f-a94e338403e4"
      },
      "execution_count": 104,
      "outputs": [
        {
          "output_type": "error",
          "ename": "IndexError",
          "evalue": "ignored",
          "traceback": [
            "\u001b[0;31m---------------------------------------------------------------------------\u001b[0m",
            "\u001b[0;31mIndexError\u001b[0m                                Traceback (most recent call last)",
            "\u001b[0;32m<ipython-input-104-290c42c9d66f>\u001b[0m in \u001b[0;36m<module>\u001b[0;34m\u001b[0m\n\u001b[1;32m      1\u001b[0m \u001b[0mplt\u001b[0m\u001b[0;34m.\u001b[0m\u001b[0mfigure\u001b[0m\u001b[0;34m(\u001b[0m\u001b[0mfigsize\u001b[0m\u001b[0;34m=\u001b[0m\u001b[0;34m(\u001b[0m\u001b[0;36m8\u001b[0m\u001b[0;34m,\u001b[0m\u001b[0;36m6\u001b[0m\u001b[0;34m)\u001b[0m\u001b[0;34m)\u001b[0m\u001b[0;34m\u001b[0m\u001b[0;34m\u001b[0m\u001b[0m\n\u001b[0;32m----> 2\u001b[0;31m \u001b[0mplt\u001b[0m\u001b[0;34m.\u001b[0m\u001b[0mscatter\u001b[0m\u001b[0;34m(\u001b[0m\u001b[0mx_pca\u001b[0m\u001b[0;34m[\u001b[0m\u001b[0;34m:\u001b[0m\u001b[0;34m,\u001b[0m\u001b[0;36m29\u001b[0m\u001b[0;34m]\u001b[0m\u001b[0;34m,\u001b[0m\u001b[0mx_pca\u001b[0m\u001b[0;34m[\u001b[0m\u001b[0;34m:\u001b[0m\u001b[0;34m,\u001b[0m\u001b[0;36m28\u001b[0m\u001b[0;34m]\u001b[0m\u001b[0;34m,\u001b[0m\u001b[0mc\u001b[0m\u001b[0;34m=\u001b[0m\u001b[0mcancer\u001b[0m\u001b[0;34m[\u001b[0m\u001b[0;34m'target'\u001b[0m\u001b[0;34m]\u001b[0m\u001b[0;34m)\u001b[0m\u001b[0;34m\u001b[0m\u001b[0;34m\u001b[0m\u001b[0m\n\u001b[0m\u001b[1;32m      3\u001b[0m \u001b[0mplt\u001b[0m\u001b[0;34m.\u001b[0m\u001b[0mxlabel\u001b[0m\u001b[0;34m(\u001b[0m\u001b[0;34m'PC1'\u001b[0m\u001b[0;34m)\u001b[0m\u001b[0;34m\u001b[0m\u001b[0;34m\u001b[0m\u001b[0m\n\u001b[1;32m      4\u001b[0m \u001b[0mplt\u001b[0m\u001b[0;34m.\u001b[0m\u001b[0mylabel\u001b[0m\u001b[0;34m(\u001b[0m\u001b[0;34m'PC3'\u001b[0m\u001b[0;34m)\u001b[0m\u001b[0;34m\u001b[0m\u001b[0;34m\u001b[0m\u001b[0m\n",
            "\u001b[0;31mIndexError\u001b[0m: index 29 is out of bounds for axis 1 with size 2"
          ]
        },
        {
          "output_type": "display_data",
          "data": {
            "text/plain": [
              "<Figure size 576x432 with 0 Axes>"
            ]
          },
          "metadata": {}
        }
      ]
    },
    {
      "cell_type": "code",
      "source": [
        "plt.figure(figsize=(8,6))\n",
        "plt.scatter(x_pca[:,2],x_pca[:,3],c=cancer['target'])\n",
        "plt.xlabel('PC2')\n",
        "plt.ylabel('PC3')"
      ],
      "metadata": {
        "id": "NtXJSxLFwTyR"
      },
      "execution_count": null,
      "outputs": []
    },
    {
      "cell_type": "code",
      "source": [
        "weights = pca.components_*np.sqrt(pca.explained_variance_)"
      ],
      "metadata": {
        "id": "ETIJMFlxwTvQ"
      },
      "execution_count": 111,
      "outputs": []
    },
    {
      "cell_type": "code",
      "source": [
        "weights"
      ],
      "metadata": {
        "colab": {
          "base_uri": "https://localhost:8080/"
        },
        "id": "B8pQJa620Txn",
        "outputId": "fb0537bd-476c-45a3-e47c-9c0a9624ac25"
      },
      "execution_count": 112,
      "outputs": [
        {
          "output_type": "execute_result",
          "data": {
            "text/plain": [
              "array([[ 7.98468705e-01,  2.47668895e-01,  3.82297198e-01,\n",
              "         3.11291462e-01,  1.83250406e-01,  2.63157569e-01,\n",
              "         2.12519100e-01,  1.80245276e-01,  8.92892985e-02,\n",
              "         3.81491102e-02,  1.11767575e-01,  8.91424749e-03,\n",
              "         1.03911861e-01,  8.04567135e-02,  4.46237911e-03,\n",
              "         4.81955714e-02,  3.74657142e-02,  4.21107419e-02,\n",
              "         9.46147928e-03,  1.81213178e-02,  3.95070625e-02,\n",
              "         1.73204065e-02,  3.69519445e-02,  3.02421975e-02,\n",
              "         1.59343466e-02,  1.90157514e-02,  1.90202183e-02,\n",
              "         1.00107464e-02,  3.36615233e-03,  1.52140014e-03],\n",
              "       [-8.53017435e-01, -1.42563519e-01, -3.61537357e-01,\n",
              "        -3.25492487e-01,  2.39184796e-01,  1.67045020e-01,\n",
              "         4.94824496e-02, -2.40237203e-02,  1.23011379e-01,\n",
              "         2.17274720e-01, -5.72743866e-02,  4.60236319e-02,\n",
              "        -4.39873530e-02, -6.03982174e-02,  6.27773587e-02,\n",
              "         6.58233959e-02,  4.81054874e-02,  2.99204855e-02,\n",
              "         4.09303211e-02,  4.94854212e-02, -3.80982589e-02,\n",
              "        -7.53821360e-03, -3.12115726e-02, -2.95000066e-02,\n",
              "         2.14576187e-02,  1.29965999e-02,  8.14494442e-03,\n",
              "        -3.29476717e-04,  3.88595003e-03,  3.17869914e-03],\n",
              "       [-3.11185673e-02,  1.54129363e-01, -1.56493033e-02,\n",
              "         4.04258828e-02, -1.34031662e-01, -8.14832890e-02,\n",
              "         2.24841991e-03, -1.76639488e-02, -2.60047388e-02,\n",
              "        -1.33799978e-02,  1.45682551e-01,  1.91621059e-01,\n",
              "         1.31113196e-01,  8.56667157e-02,  9.48395658e-02,\n",
              "         4.37792467e-02,  4.30454405e-02,  5.15790595e-02,\n",
              "         6.42478991e-02,  3.73675503e-02, -8.23197075e-03,\n",
              "        -7.01273300e-03, -7.58067234e-03, -1.60070887e-03,\n",
              "        -3.23534378e-02, -2.13671749e-02, -1.43883542e-02,\n",
              "        -6.79699758e-03, -7.43080410e-03, -2.68749537e-03],\n",
              "       [ 1.51043360e-01, -1.43993574e+00,  7.05379806e-02,\n",
              "         7.52663428e-02,  2.04832169e-01,  3.49665557e-02,\n",
              "         1.57273328e-02,  4.51459677e-02,  4.33789870e-02,\n",
              "         2.87980963e-02,  5.31445778e-02, -1.84062202e-01,\n",
              "         4.37587948e-02,  4.29133802e-02,  1.37156631e-02,\n",
              "        -7.76967452e-03,  3.21231304e-04,  1.70050959e-02,\n",
              "         9.81210787e-03,  2.70397551e-03,  2.67148614e-03,\n",
              "        -1.04915867e-01,  2.15534475e-03,  3.48251106e-03,\n",
              "         2.19828761e-03, -8.26612328e-03, -6.14845806e-03,\n",
              "         2.39688614e-04, -9.92846514e-04, -8.89555724e-04],\n",
              "       [ 1.37829530e-01, -1.18119502e-01,  6.27951086e-02,\n",
              "         1.45525037e-02, -4.69196749e-01,  1.28716137e-02,\n",
              "         7.10386634e-02, -3.03071831e-02, -1.97712215e-01,\n",
              "        -2.63309773e-02, -8.38107125e-02, -9.80271562e-02,\n",
              "        -5.94925561e-02, -5.05951495e-02, -7.12636986e-02,\n",
              "         7.91886374e-02,  8.63481347e-02,  4.48958235e-02,\n",
              "        -5.62965044e-02,  4.65182275e-02, -7.63570522e-04,\n",
              "        -1.53995275e-02,  1.16398642e-03, -3.68372453e-03,\n",
              "        -4.04029962e-02,  1.10244742e-02,  1.56738471e-02,\n",
              "         1.72901796e-03, -6.69805691e-03,  1.09008500e-03],\n",
              "       [ 6.83589201e-02, -7.68351824e-02,  2.90808153e-02,\n",
              "        -2.65906406e-03, -3.68036716e-01, -1.55407177e-02,\n",
              "        -7.68503567e-03, -3.59655838e-02,  2.30358445e-01,\n",
              "        -7.07883285e-02, -1.38927607e-02, -1.47039398e-02,\n",
              "         8.90353482e-04, -1.69995335e-02, -1.05304508e-01,\n",
              "         1.95724303e-02,  1.37440104e-02, -7.16881113e-03,\n",
              "         1.09144030e-01, -9.39830472e-03, -5.03696351e-05,\n",
              "        -8.29104569e-03,  1.32745279e-03, -3.38428607e-03,\n",
              "        -4.59845666e-02,  4.31784526e-03,  2.35951154e-03,\n",
              "        -1.23189940e-03,  1.36647786e-02, -9.26152905e-04],\n",
              "       [-4.52624716e-01,  2.72193059e-02, -1.92338837e-01,\n",
              "        -7.27585331e-02, -1.80782000e-01,  3.40030683e-02,\n",
              "        -8.84292003e-02, -1.03980516e-01, -6.06763988e-02,\n",
              "         1.75301354e-01,  1.69562391e-01, -4.64203807e-02,\n",
              "         1.54713009e-01,  1.37490528e-01, -7.49359278e-02,\n",
              "         6.63663082e-03, -5.09391441e-02, -8.48668932e-02,\n",
              "        -1.78956065e-02,  3.38148178e-02, -1.68252944e-03,\n",
              "         1.63651192e-03, -6.96014669e-05,  9.12248668e-03,\n",
              "        -1.35530626e-02,  1.27141878e-02, -5.02910538e-03,\n",
              "        -6.70213330e-03, -5.06427740e-04,  4.32529300e-03],\n",
              "       [-2.71830008e-02,  3.12019485e-01, -3.13974310e-02,\n",
              "         4.88409129e-02, -3.71378229e-01, -1.66500350e-01,\n",
              "        -5.98961313e-02, -1.05252061e-01, -1.49625060e-01,\n",
              "        -1.04982506e-01,  1.22305683e-02, -2.43168668e-01,\n",
              "        -5.84976640e-03,  3.40297310e-02,  1.76085213e-01,\n",
              "         3.32234562e-02,  1.47742061e-02, -2.48689958e-02,\n",
              "         4.90121224e-02,  1.97314617e-03,  7.38505614e-03,\n",
              "         6.01031040e-03,  4.77180010e-03,  1.06775060e-02,\n",
              "         2.56354396e-02,  7.60460865e-03,  6.02513266e-03,\n",
              "        -1.44327185e-03,  6.25070638e-03,  5.58307207e-04],\n",
              "       [-8.13815331e-01,  2.69098549e-01, -3.75915848e-01,\n",
              "        -2.75500623e-01,  8.25678820e-03, -1.84586062e-01,\n",
              "         3.33837001e-02, -7.73700293e-02,  1.65463868e-01,\n",
              "        -7.33430010e-02,  1.35646099e-01, -1.26156447e-01,\n",
              "         1.11694759e-01,  9.08832989e-02, -4.35828889e-02,\n",
              "        -4.11043723e-02,  8.73543581e-02,  6.25677541e-02,\n",
              "        -6.76971054e-02, -3.77595848e-02, -1.94317771e-02,\n",
              "         1.71333706e-02, -1.71165879e-02, -1.08574787e-02,\n",
              "         1.39870631e-02, -9.11233687e-03,  1.34614265e-02,\n",
              "         2.41358512e-03,  1.77032250e-03, -1.54899454e-03],\n",
              "       [ 3.48296416e-01,  5.75291554e-01,  1.45140949e-01,\n",
              "         1.05583006e-01, -8.90521019e-02,  1.42267751e-02,\n",
              "        -1.11524863e-01,  5.56553445e-03,  3.69695351e-01,\n",
              "         4.80710740e-02, -2.68853643e-02, -1.47893378e-01,\n",
              "        -5.63052750e-02, -3.64579735e-02,  4.94051187e-02,\n",
              "         1.23052961e-02, -3.44620262e-02,  1.98000087e-02,\n",
              "        -7.04694507e-02,  6.49356816e-02,  1.34051595e-02,\n",
              "         4.89937419e-03,  7.88701680e-03,  9.40349662e-03,\n",
              "        -1.59781945e-02, -1.55797931e-02, -2.59102881e-02,\n",
              "        -3.05838783e-03, -8.09683685e-04,  1.45573239e-04],\n",
              "       [ 1.51271423e-01, -7.21683236e-01,  2.81973789e-02,\n",
              "         1.55183924e-01, -1.76094832e-01, -3.38738100e-01,\n",
              "         1.02139125e-01, -5.00589071e-02,  1.05372403e-01,\n",
              "        -2.25517733e-02, -1.37591485e-02,  1.76435351e-01,\n",
              "        -8.22729418e-02,  2.04719270e-02,  2.58583954e-02,\n",
              "        -5.85173520e-02,  8.52591790e-02, -7.86059759e-02,\n",
              "        -4.18199654e-02,  4.42792799e-02,  1.82059779e-02,\n",
              "         2.18139943e-03,  7.97570332e-03,  2.48261852e-02,\n",
              "         1.79191310e-02, -1.78685016e-02,  1.53826862e-02,\n",
              "        -4.69929094e-03,  4.31531434e-03,  1.36554278e-03],\n",
              "       [ 1.86273691e-01,  6.08630243e-01,  6.54017676e-02,\n",
              "         9.21746599e-02,  4.07044775e-01, -1.14394266e-01,\n",
              "         5.39961010e-02,  2.94284207e-02, -1.86677034e-01,\n",
              "         1.40093478e-01, -9.05514569e-03, -1.56597738e-01,\n",
              "        -4.98828012e-02, -7.01145713e-03, -9.05007960e-02,\n",
              "        -7.45183391e-02,  6.12631920e-02, -1.48286264e-03,\n",
              "         7.13692191e-02,  4.87917837e-02,  6.87565857e-03,\n",
              "         1.32299531e-02, -1.40346029e-03,  6.46730647e-03,\n",
              "         7.03797923e-03, -3.36391259e-02, -7.23623578e-03,\n",
              "        -2.71830920e-03,  1.20600474e-03, -4.00965414e-04],\n",
              "       [ 4.36516091e-02,  4.85815843e-01,  7.41106627e-02,\n",
              "         9.49048314e-02,  5.85693174e-02,  2.52155468e-01,\n",
              "         3.18359275e-01,  9.13050592e-02,  1.22743125e-01,\n",
              "         6.29694798e-02, -3.70038875e-02, -8.60439256e-02,\n",
              "        -1.86084085e-02,  2.22349695e-02,  4.61981849e-02,\n",
              "         2.83984931e-03,  3.87325597e-02, -1.13423442e-01,\n",
              "         2.30039170e-03, -4.24831136e-02, -2.38935531e-02,\n",
              "        -1.32876464e-02, -1.51414650e-02, -1.36048024e-02,\n",
              "        -2.55455458e-02,  1.11139874e-03,  1.81236799e-02,\n",
              "        -1.01504625e-02, -7.02606635e-03, -1.99508074e-03],\n",
              "       [ 2.17054619e-01, -5.14802384e-02,  8.15105703e-02,\n",
              "         1.52562043e-02,  5.71979039e-01,  8.90925617e-03,\n",
              "        -1.55736322e-01, -1.69148802e-01,  1.98647414e-02,\n",
              "        -2.23500237e-01,  5.61468143e-03, -5.54932355e-03,\n",
              "        -2.23846383e-02,  3.31435767e-02, -6.17707603e-02,\n",
              "         1.39092541e-01,  3.28302763e-02, -4.58414186e-02,\n",
              "        -1.04334789e-02,  2.57332339e-02,  4.00297034e-03,\n",
              "         8.85851449e-03,  1.90809056e-03, -8.99109090e-04,\n",
              "         2.02037048e-02,  1.50672012e-02, -5.55380492e-03,\n",
              "        -1.10295502e-02,  1.46680292e-04, -2.44866876e-03],\n",
              "       [ 1.86460879e-01,  2.57692316e-01,  6.70429905e-02,\n",
              "        -1.96736540e-02,  1.51832988e-01, -2.53935611e-01,\n",
              "         1.05505776e-01,  1.50011656e-01,  4.77971649e-02,\n",
              "        -3.07011884e-01,  5.97153813e-02, -1.67526619e-02,\n",
              "         4.06553303e-03,  1.82529494e-02, -5.69931806e-03,\n",
              "        -4.75777913e-02, -6.10983985e-02, -1.42527769e-02,\n",
              "         2.52426501e-02,  6.24075057e-02, -2.88626007e-02,\n",
              "        -1.67643450e-02, -2.85377325e-02, -4.23625920e-02,\n",
              "        -5.74420336e-03,  4.52151250e-03,  1.70304903e-02,\n",
              "         6.76330196e-03, -3.83131153e-03,  2.95743113e-03],\n",
              "       [-5.49269876e-01, -3.76887951e-01, -1.92300022e-01,\n",
              "        -1.86565055e-01, -2.62960523e-01,  1.87156148e-01,\n",
              "         2.21623294e-01,  2.62893877e-01, -1.06411242e-01,\n",
              "        -2.41784894e-02,  3.19632415e-02, -1.76465810e-02,\n",
              "         1.30386023e-02,  1.63210889e-02, -1.78228777e-02,\n",
              "         5.36934281e-02, -3.05943136e-02, -4.56448041e-02,\n",
              "        -3.51115171e-02,  4.74469121e-02, -1.41327458e-02,\n",
              "         3.07644126e-02, -8.56608055e-03, -1.21917168e-02,\n",
              "         1.81260192e-02, -1.39145228e-02, -1.78773812e-02,\n",
              "         7.10813675e-03,  7.06328996e-03, -4.68200974e-03],\n",
              "       [ 7.40186652e-01, -9.24207339e-02,  3.27329379e-01,\n",
              "         3.60184737e-01,  2.15816614e-01, -2.23336985e-02,\n",
              "        -1.31455103e-03,  2.38454526e-02, -1.23909059e-01,\n",
              "         2.97692481e-02, -7.56391022e-02,  2.24866060e-02,\n",
              "        -1.21136827e-02,  1.32627966e-01,  4.28674184e-02,\n",
              "        -2.33250560e-03,  2.06408622e-02,  2.48260518e-02,\n",
              "        -6.10141429e-02, -2.16839944e-02, -4.15956563e-02,\n",
              "         1.15003443e-02, -3.65653831e-02, -3.67687313e-02,\n",
              "        -3.46240004e-02, -3.65399465e-04, -1.59062038e-02,\n",
              "        -3.01198331e-03,  1.17950128e-02,  1.84015219e-03],\n",
              "       [ 5.35148027e-01, -9.81438639e-02,  2.65997361e-01,\n",
              "         3.74921894e-01, -4.52667388e-01,  8.57171776e-03,\n",
              "        -2.21796746e-02, -5.72324830e-02,  1.12056943e-01,\n",
              "         5.20802860e-02, -1.28175094e-01, -5.04259875e-03,\n",
              "        -1.27495479e-02,  1.20923998e-01, -7.10162708e-02,\n",
              "         2.84190097e-02, -4.76854204e-05,  1.05737325e-02,\n",
              "         4.16353419e-02, -1.05692806e-02, -3.74458582e-02,\n",
              "         9.68212342e-03, -2.94416064e-02, -1.91058978e-02,\n",
              "         6.24598537e-02, -6.65921995e-03, -8.63912999e-03,\n",
              "         3.02509417e-03, -7.63351074e-03,  2.72046903e-04],\n",
              "       [-8.22113238e-01, -7.11279892e-02, -4.02556440e-01,\n",
              "         3.84857796e-02,  2.11493248e-01, -3.12577696e-01,\n",
              "        -1.86394706e-03,  1.07083128e-01,  3.80062474e-02,\n",
              "         3.44705468e-02, -9.54372638e-02, -1.84186488e-02,\n",
              "        -1.79820478e-01,  1.65209738e-01,  4.07196349e-03,\n",
              "         6.85761588e-02, -3.08285815e-02,  2.79279706e-03,\n",
              "         1.98229349e-02, -1.53002542e-02, -2.36721910e-03,\n",
              "         1.25782953e-02, -1.41807415e-02,  5.51460803e-02,\n",
              "        -2.92047682e-02, -1.82836317e-03,  3.80675518e-03,\n",
              "         1.03835729e-02, -3.21129796e-03,  1.32699817e-04],\n",
              "       [-1.81280882e-01, -5.82934584e-01, -2.96799025e-02,\n",
              "        -1.26975657e-01,  2.19774501e-02,  5.37439939e-01,\n",
              "        -2.74589018e-02, -1.62662441e-01,  1.68469844e-02,\n",
              "        -1.04102787e-01, -4.92698920e-02, -3.66533070e-02,\n",
              "        -8.71565713e-02,  1.08746305e-01,  2.76564552e-02,\n",
              "        -1.30421046e-01,  1.63304230e-02,  1.58114498e-02,\n",
              "         2.39073275e-02,  3.92829844e-02, -9.75025952e-04,\n",
              "         4.98376982e-02,  1.71828300e-03,  8.07560205e-03,\n",
              "        -1.61549376e-02,  2.07521570e-02, -3.86467798e-03,\n",
              "         1.31764350e-03, -3.19784217e-03, -1.21209611e-03],\n",
              "       [-2.50116000e-01,  1.07059650e+00, -1.17222585e-01,\n",
              "        -2.59790289e-02, -1.53565875e-01,  2.11838199e-01,\n",
              "         4.58243732e-03, -6.51168998e-03, -5.61833041e-02,\n",
              "        -4.52074488e-02,  4.68749282e-02,  1.11029958e-01,\n",
              "        -1.49948189e-01,  7.63790021e-02, -2.21403784e-02,\n",
              "        -3.97081638e-02,  1.53795101e-02,  7.89221962e-03,\n",
              "        -2.17509736e-02,  1.11028732e-02,  1.26388070e-03,\n",
              "        -9.85547183e-02, -1.43697410e-02,  1.97413867e-02,\n",
              "         2.05292092e-02,  1.64162162e-02, -1.09831238e-02,\n",
              "         3.53560500e-05,  4.45631778e-03, -1.06607896e-03],\n",
              "       [ 2.66015519e-01,  2.26360698e-01,  1.26281014e-01,\n",
              "         1.37430239e-01,  8.20226256e-02, -1.07862228e-01,\n",
              "        -1.52325909e-01, -2.15484446e-01, -1.18952046e-02,\n",
              "         1.70624158e-01, -8.15415889e-02,  2.47851967e-02,\n",
              "         7.83559663e-02,  2.54742170e-02,  1.55215398e-02,\n",
              "        -1.28095662e-02, -5.00582761e-02, -1.66556697e-02,\n",
              "        -1.88467268e-02,  4.32334125e-02, -1.66864716e-02,\n",
              "        -1.84217273e-02,  2.68920467e-03, -1.30398505e-02,\n",
              "        -8.49990316e-03,  2.68600832e-03,  3.82808105e-02,\n",
              "         1.19641116e-02,  2.66063644e-03, -5.41988238e-03],\n",
              "       [-3.59480875e-01, -1.32519802e-03, -6.76172146e-02,\n",
              "         1.09549943e-02, -2.65587341e-02,  5.75841111e-02,\n",
              "         2.67186656e-01, -3.55225581e-02, -3.30879656e-02,\n",
              "        -5.01969341e-02, -1.43318874e-01, -4.46980386e-04,\n",
              "         4.42907289e-02,  3.89514286e-02, -1.83690750e-02,\n",
              "         2.57501836e-03, -9.45346053e-02,  8.07593356e-02,\n",
              "        -9.43130678e-03,  1.51554255e-02, -9.64762712e-03,\n",
              "        -1.47936487e-03,  9.89147138e-03,  2.56722020e-02,\n",
              "         1.16675376e-02, -1.33883041e-02,  2.38146589e-02,\n",
              "        -2.26452552e-02,  3.32339623e-03,  8.80318981e-05],\n",
              "       [ 6.65976895e-01, -2.35878665e-01,  1.95987822e-01,\n",
              "        -9.83877118e-02, -8.82870996e-02,  1.14524559e-01,\n",
              "        -3.67968709e-02, -5.80616342e-02, -1.24979808e-02,\n",
              "         7.89855032e-02,  3.03160940e-01, -1.24124594e-02,\n",
              "        -2.54093275e-01,  8.90776724e-03, -4.80009085e-03,\n",
              "         3.44446939e-02, -4.59095367e-02,  2.51788657e-02,\n",
              "        -7.18253158e-04, -1.32850176e-02,  2.71754320e-02,\n",
              "         1.96440578e-02, -3.70258806e-02, -1.93746270e-02,\n",
              "         1.36863754e-03, -1.69027145e-02,  2.40158158e-02,\n",
              "        -4.28304519e-03,  3.93893949e-04, -4.36681804e-04],\n",
              "       [ 7.01305907e-02, -2.02352532e-01, -4.53899966e-02,\n",
              "         2.95861471e-01, -3.72116265e-02, -4.36192201e-01,\n",
              "         7.97581027e-02,  1.28834718e-01,  1.58870173e-02,\n",
              "         1.22823473e-01,  9.49202158e-02, -2.91479657e-02,\n",
              "        -3.58595246e-02, -5.22909714e-02, -9.58431319e-03,\n",
              "        -4.89793741e-02, -3.88829716e-03,  2.97425506e-02,\n",
              "         4.34463517e-03,  1.48709962e-02, -1.22525207e-02,\n",
              "         1.95951683e-02, -1.84313420e-02,  5.14950646e-03,\n",
              "         5.97320742e-03,  5.65130015e-02, -9.62539191e-03,\n",
              "        -1.05019494e-02, -1.24068171e-03, -3.23404441e-03],\n",
              "       [-4.72278191e-01, -5.86352998e-02, -2.10449006e-01,\n",
              "         5.10934415e-01, -4.75556147e-02,  2.89027464e-01,\n",
              "        -4.51418160e-01,  2.67854633e-01, -1.03683323e-02,\n",
              "        -5.77332928e-02,  2.71184106e-02, -5.74772743e-03,\n",
              "         5.09677452e-02, -6.15927404e-02, -2.36993974e-03,\n",
              "        -1.40653975e-02,  2.23089419e-02, -4.11927954e-03,\n",
              "        -3.84436376e-03,  6.27003515e-03, -3.41454781e-02,\n",
              "         6.04641991e-03, -3.81174672e-02,  3.11148836e-02,\n",
              "         1.56942561e-03, -9.09293175e-03,  2.21867898e-02,\n",
              "        -5.32983374e-03,  7.71921197e-04,  5.21874032e-05],\n",
              "       [-4.79756771e-01, -4.14450045e-02, -1.93915433e-01,\n",
              "         6.57265956e-01,  8.95626210e-02,  1.07500569e-01,\n",
              "         3.00033313e-01, -3.14189110e-01, -9.80015392e-03,\n",
              "        -6.00093816e-02,  1.15568132e-01, -5.16240333e-03,\n",
              "         2.05003102e-02, -1.24275906e-01, -2.77977318e-03,\n",
              "         1.31626735e-02, -2.05452602e-02, -2.56348573e-03,\n",
              "        -4.44727926e-03, -2.12656692e-03, -3.09592205e-02,\n",
              "         3.54976860e-03, -3.76376685e-02,  3.18953045e-02,\n",
              "        -5.08762711e-03, -6.38143604e-03, -1.18814917e-02,\n",
              "         9.21333000e-03,  6.24192525e-04,  6.92517644e-04],\n",
              "       [ 7.70351428e-01, -1.57141650e-04,  1.41701092e-01,\n",
              "        -3.83852666e-01,  1.90109542e-03, -6.00775788e-03,\n",
              "         3.74528341e-02, -6.13806106e-03,  9.26081928e-04,\n",
              "        -3.74103022e-03, -1.04303941e-01, -2.87590442e-03,\n",
              "         1.29415063e-01, -1.66839235e-02,  3.00726413e-03,\n",
              "        -4.35461124e-03,  1.41993227e-03, -6.66023599e-03,\n",
              "        -1.70012968e-03,  3.49048323e-03,  7.15018349e-02,\n",
              "        -6.47013337e-05, -1.13785549e-01,  3.21370922e-02,\n",
              "        -1.91189430e-04,  4.40709026e-03, -1.46670160e-03,\n",
              "         8.96814642e-04,  1.34763824e-04, -2.72016802e-04],\n",
              "       [ 7.71323303e-01, -2.51524556e-02,  6.44886119e-01,\n",
              "        -5.95544956e-01, -4.41409265e-03, -4.51087972e-02,\n",
              "        -8.23657002e-03, -2.90692664e-03, -4.89196339e-03,\n",
              "         4.32766757e-03,  6.42686975e-02, -4.48897168e-03,\n",
              "        -2.99956178e-03, -3.40776313e-02,  5.45500103e-04,\n",
              "         8.93274310e-04,  3.92209185e-03, -5.49586891e-03,\n",
              "        -1.16286832e-03, -1.47381206e-03, -1.10157872e-01,\n",
              "         2.85754442e-03,  3.57930329e-03,  5.98381663e-02,\n",
              "         9.19739190e-04,  3.22840021e-07, -1.05388648e-03,\n",
              "         1.40614977e-03,  3.67119621e-04,  1.32505627e-04],\n",
              "       [-2.56212612e+00, -6.53435502e-04,  1.15913165e+00,\n",
              "         4.64093254e-02,  6.22975306e-03, -4.91310899e-02,\n",
              "        -2.06750648e-02,  7.44371033e-04,  8.27435009e-04,\n",
              "         2.81876493e-03,  4.72678710e-03,  5.47824935e-04,\n",
              "        -6.75093026e-03, -4.38364764e-04,  4.93856118e-04,\n",
              "        -5.41831350e-04,  2.17747998e-03,  4.95959005e-04,\n",
              "        -7.33324720e-05, -3.17831740e-04,  2.35041132e-02,\n",
              "        -1.69198935e-04, -1.24522246e-02, -5.34482655e-03,\n",
              "        -5.70770359e-04,  1.16228819e-03, -3.34347041e-05,\n",
              "         9.13124408e-05, -1.08305415e-05, -2.18689526e-05]])"
            ]
          },
          "metadata": {},
          "execution_count": 112
        }
      ]
    },
    {
      "cell_type": "code",
      "source": [
        "pca_recovered = np.dot(weights, cancer.data.T)"
      ],
      "metadata": {
        "id": "VWd_T_4Y0Tu6"
      },
      "execution_count": 114,
      "outputs": []
    },
    {
      "cell_type": "code",
      "source": [
        "pca_recovered"
      ],
      "metadata": {
        "colab": {
          "base_uri": "https://localhost:8080/"
        },
        "id": "6YZYTKBA0TsA",
        "outputId": "2203f525-2711-4417-b39b-9d41f615d6e7"
      },
      "execution_count": 115,
      "outputs": [
        {
          "output_type": "execute_result",
          "data": {
            "text/plain": [
              "array([[ 458.28057701,  557.30125677,  512.1668735 , ...,  373.17752289,\n",
              "         542.548834  ,  100.04926174],\n",
              "       [-462.96294668, -568.05716137, -520.42720142, ..., -377.68630226,\n",
              "        -550.17458417,  -97.88310056],\n",
              "       [  49.14836936,   55.89482641,   53.8576806 , ...,   38.49421641,\n",
              "          56.49656986,   11.22377862],\n",
              "       ...,\n",
              "       [-308.83894929, -428.58891554, -389.98355984, ..., -278.60800745,\n",
              "        -411.26059812,  -54.17238679],\n",
              "       [-389.80941455, -576.1504723 , -520.85066353, ..., -365.02649461,\n",
              "        -543.89436007,  -56.83745539],\n",
              "       [ 130.06402633,  150.96730632,  145.49323169, ...,  115.61585403,\n",
              "         156.77883546,   42.06787326]])"
            ]
          },
          "metadata": {},
          "execution_count": 115
        }
      ]
    },
    {
      "cell_type": "code",
      "source": [
        "feature_weights = pca.components_"
      ],
      "metadata": {
        "id": "oiE6mH8h0TpY"
      },
      "execution_count": 117,
      "outputs": []
    },
    {
      "cell_type": "code",
      "source": [
        "fig, (ax1,ax2) = plt.subplots(1,2)\n",
        "ax1.bar(range(30),feature_weights[0])"
      ],
      "metadata": {
        "colab": {
          "base_uri": "https://localhost:8080/",
          "height": 286
        },
        "id": "loWRQJuf0Tmk",
        "outputId": "e19159ce-dea4-4f0b-8012-d0c3ab862ce2"
      },
      "execution_count": 127,
      "outputs": [
        {
          "output_type": "execute_result",
          "data": {
            "text/plain": [
              "<BarContainer object of 30 artists>"
            ]
          },
          "metadata": {},
          "execution_count": 127
        },
        {
          "output_type": "display_data",
          "data": {
            "text/plain": [
              "<Figure size 432x288 with 2 Axes>"
            ],
            "image/png": "[encoded data removed]"
          },
          "metadata": {
            "needs_background": "light"
          }
        }
      ]
    },
    {
      "cell_type": "code",
      "source": [
        "fig, (ax1,ax2) = plt.subplots(1,2)\n",
        "ax1.bar(range(30),feature_weights[1])"
      ],
      "metadata": {
        "colab": {
          "base_uri": "https://localhost:8080/",
          "height": 286
        },
        "id": "l5kgTUPy1kqG",
        "outputId": "c7b02511-989f-475f-b5ff-311a6241d8cb"
      },
      "execution_count": 135,
      "outputs": [
        {
          "output_type": "execute_result",
          "data": {
            "text/plain": [
              "<BarContainer object of 30 artists>"
            ]
          },
          "metadata": {},
          "execution_count": 135
        },
        {
          "output_type": "display_data",
          "data": {
            "text/plain": [
              "<Figure size 432x288 with 2 Axes>"
            ],
            "image/png": "[encoded data removed]"
          },
          "metadata": {
            "needs_background": "light"
          }
        }
      ]
    },
    {
      "cell_type": "code",
      "source": [
        "fig, (ax1,ax2) = plt.subplots(1,2)\n",
        "ax1.bar(range(30),feature_weights[29])"
      ],
      "metadata": {
        "colab": {
          "base_uri": "https://localhost:8080/",
          "height": 286
        },
        "id": "G0TtTxEj108r",
        "outputId": "28ad6cf3-33c1-4fdb-b3ec-95cdf159cabd"
      },
      "execution_count": 134,
      "outputs": [
        {
          "output_type": "execute_result",
          "data": {
            "text/plain": [
              "<BarContainer object of 30 artists>"
            ]
          },
          "metadata": {},
          "execution_count": 134
        },
        {
          "output_type": "display_data",
          "data": {
            "text/plain": [
              "<Figure size 432x288 with 2 Axes>"
            ],
            "image/png": "[encoded data removed]"
          },
          "metadata": {
            "needs_background": "light"
          }
        }
      ]
    },
    {
      "cell_type": "code",
      "source": [
        "for i in range (29): print(np.abs(feature_weights[i].mean() ))"
      ],
      "metadata": {
        "colab": {
          "base_uri": "https://localhost:8080/"
        },
        "id": "WOK8NihS2iJB",
        "outputId": "14e4d030-d460-4c3f-dad1-e5fa0e264ef7"
      },
      "execution_count": 138,
      "outputs": [
        {
          "output_type": "stream",
          "name": "stdout",
          "text": [
            "0.1681928900448173\n",
            "0.04300205293637487\n",
            "0.02694465108235468\n",
            "0.027341790062805002\n",
            "0.028338848740003246\n",
            "7.154196495897473e-05\n",
            "0.0007588631008282424\n",
            "0.011736153883198703\n",
            "0.01265494669889554\n",
            "0.00479780755189077\n",
            "0.013082952333195648\n",
            "0.007254360369556202\n",
            "0.009355981982652329\n",
            "0.0002458267343815481\n",
            "0.0066168316748643485\n",
            "0.012301447185457585\n",
            "0.00527858218159442\n",
            "0.0022907492274886814\n",
            "0.0002512119511131731\n",
            "0.0018283466790319169\n",
            "0.0002724344260547231\n",
            "0.0050043565015234475\n",
            "0.003294133159338728\n",
            "0.0005655255907153381\n",
            "0.00229771608561997\n",
            "0.0013089110028564192\n",
            "0.003231887356818212\n",
            "0.0004412079908859189\n",
            "0.00027899443243756554\n"
          ]
        }
      ]
    },
    {
      "cell_type": "code",
      "source": [
        "feature_weights"
      ],
      "metadata": {
        "colab": {
          "base_uri": "https://localhost:8080/"
        },
        "id": "ftKoM2Gd23cS",
        "outputId": "fb20aef9-6ad9-46bc-a5bf-44010b674690"
      },
      "execution_count": 139,
      "outputs": [
        {
          "output_type": "execute_result",
          "data": {
            "text/plain": [
              "array([[ 2.18902444e-01,  1.03724578e-01,  2.27537293e-01,\n",
              "         2.20994985e-01,  1.42589694e-01,  2.39285354e-01,\n",
              "         2.58400481e-01,  2.60853758e-01,  1.38166959e-01,\n",
              "         6.43633464e-02,  2.05978776e-01,  1.74280281e-02,\n",
              "         2.11325916e-01,  2.02869635e-01,  1.45314521e-02,\n",
              "         1.70393451e-01,  1.53589790e-01,  1.83417397e-01,\n",
              "         4.24984216e-02,  1.02568322e-01,  2.27996634e-01,\n",
              "         1.04469325e-01,  2.36639681e-01,  2.24870533e-01,\n",
              "         1.27952561e-01,  2.10095880e-01,  2.28767533e-01,\n",
              "         2.50885971e-01,  1.22904556e-01,  1.31783943e-01],\n",
              "       [-2.33857132e-01, -5.97060883e-02, -2.15181361e-01,\n",
              "        -2.31076711e-01,  1.86113023e-01,  1.51891610e-01,\n",
              "         6.01653628e-02, -3.47675005e-02,  1.90348770e-01,\n",
              "         3.66575471e-01, -1.05552152e-01,  8.99796818e-02,\n",
              "        -8.94572342e-02, -1.52292628e-01,  2.04430453e-01,\n",
              "         2.32715896e-01,  1.97207283e-01,  1.30321560e-01,\n",
              "         1.83848000e-01,  2.80092027e-01, -2.19866379e-01,\n",
              "        -4.54672983e-02, -1.99878428e-01, -2.19351858e-01,\n",
              "         1.72304352e-01,  1.43593173e-01,  9.79641143e-02,\n",
              "        -8.25723507e-03,  1.41883349e-01,  2.75339469e-01],\n",
              "       [-8.53124284e-03,  6.45499033e-02, -9.31421972e-03,\n",
              "         2.86995259e-02, -1.04291904e-01, -7.40915709e-02,\n",
              "         2.73383798e-03, -2.55635406e-02, -4.02399363e-02,\n",
              "        -2.25740897e-02,  2.68481387e-01,  3.74633665e-01,\n",
              "         2.66645367e-01,  2.16006528e-01,  3.08838979e-01,\n",
              "         1.54779718e-01,  1.76463743e-01,  2.24657567e-01,\n",
              "         2.88584292e-01,  2.11503764e-01, -4.75069900e-02,\n",
              "        -4.22978228e-02, -4.85465083e-02, -1.19023182e-02,\n",
              "        -2.59797613e-01, -2.36075625e-01, -1.73057335e-01,\n",
              "        -1.70344076e-01, -2.71312642e-01, -2.32791313e-01],\n",
              "       [ 4.14089623e-02, -6.03050001e-01,  4.19830991e-02,\n",
              "         5.34337955e-02,  1.59382765e-01,  3.17945811e-02,\n",
              "         1.91227535e-02,  6.53359443e-02,  6.71249840e-02,\n",
              "         4.85867649e-02,  9.79412418e-02, -3.59855528e-01,\n",
              "         8.89924146e-02,  1.08205039e-01,  4.46641797e-02,\n",
              "        -2.74693632e-02,  1.31687997e-03,  7.40673350e-02,\n",
              "         4.40733510e-02,  1.53047496e-02,  1.54172396e-02,\n",
              "        -6.32807885e-01,  1.38027944e-02,  2.58947492e-02,\n",
              "         1.76522161e-02, -9.13284153e-02, -7.39511797e-02,\n",
              "         6.00699571e-03, -3.62506947e-02, -7.70534703e-02],\n",
              "       [ 3.77863538e-02, -4.94688505e-02,  3.73746632e-02,\n",
              "         1.03312514e-02, -3.65088528e-01,  1.17039713e-02,\n",
              "         8.63754118e-02, -4.38610252e-02, -3.05941428e-01,\n",
              "        -4.44243602e-02, -1.54456496e-01, -1.91650506e-01,\n",
              "        -1.20990220e-01, -1.27574432e-01, -2.32065676e-01,\n",
              "         2.79968156e-01,  3.53982091e-01,  1.95548089e-01,\n",
              "        -2.52868765e-01,  2.63297438e-01, -4.40659209e-03,\n",
              "        -9.28834001e-02,  7.45415100e-03, -2.73909030e-02,\n",
              "        -3.24435445e-01,  1.21804107e-01,  1.88518727e-01,\n",
              "         4.33320687e-02, -2.44558663e-01,  9.44233510e-02],\n",
              "       [ 1.87407904e-02, -3.21788366e-02,  1.73084449e-02,\n",
              "        -1.88774796e-03, -2.86374497e-01, -1.41309489e-02,\n",
              "        -9.34418089e-03, -5.20499505e-02,  3.56458461e-01,\n",
              "        -1.19430668e-01, -2.56032561e-02, -2.87473145e-02,\n",
              "         1.81071500e-03, -4.28639079e-02, -3.42917393e-01,\n",
              "         6.91975186e-02,  5.63432386e-02, -3.12244482e-02,\n",
              "         4.90245643e-01, -5.31952674e-02, -2.90684919e-04,\n",
              "        -5.00080613e-02,  8.50098715e-03, -2.51643821e-02,\n",
              "        -3.69255370e-01,  4.77057929e-02,  2.83792555e-02,\n",
              "        -3.08734498e-02,  4.98926784e-01, -8.02235245e-02],\n",
              "       [-1.24088340e-01,  1.13995382e-02, -1.14477057e-01,\n",
              "        -5.16534275e-02, -1.40668993e-01,  3.09184960e-02,\n",
              "        -1.07520443e-01, -1.50482214e-01, -9.38911345e-02,\n",
              "         2.95760024e-01,  3.12490037e-01, -9.07553556e-02,\n",
              "         3.14640390e-01,  3.46679003e-01, -2.44024056e-01,\n",
              "         2.34635340e-02, -2.08823790e-01, -3.69645937e-01,\n",
              "        -8.03822539e-02,  1.91394973e-01, -9.70993602e-03,\n",
              "         9.87074388e-03, -4.45726717e-04,  6.78316595e-02,\n",
              "        -1.08830886e-01,  1.40472938e-01, -6.04880561e-02,\n",
              "        -1.67966619e-01, -1.84906298e-02,  3.74657626e-01],\n",
              "       [-7.45229622e-03,  1.30674825e-01, -1.86872582e-02,\n",
              "         3.46736038e-02, -2.88974575e-01, -1.51396350e-01,\n",
              "        -7.28272853e-02, -1.52322414e-01, -2.31530989e-01,\n",
              "        -1.77121441e-01,  2.25399674e-02, -4.75413139e-01,\n",
              "        -1.18966905e-02,  8.58051345e-02,  5.73410232e-01,\n",
              "         1.17460157e-01,  6.05665008e-02, -1.08319309e-01,\n",
              "         2.20149279e-01,  1.11681884e-02,  4.26194163e-02,\n",
              "         3.62516360e-02,  3.05585340e-02,  7.93942456e-02,\n",
              "         2.05852191e-01,  8.40196588e-02,  7.24678714e-02,\n",
              "        -3.61707954e-02,  2.28225053e-01,  4.83606666e-02],\n",
              "       [-2.23109764e-01,  1.12699390e-01, -2.23739213e-01,\n",
              "        -1.95586014e-01,  6.42472194e-03, -1.67841425e-01,\n",
              "         4.05910064e-02, -1.11971106e-01,  2.56040084e-01,\n",
              "        -1.23740789e-01,  2.49985002e-01, -2.46645397e-01,\n",
              "         2.27154024e-01,  2.29160015e-01, -1.41924890e-01,\n",
              "        -1.45322810e-01,  3.58107079e-01,  2.72519886e-01,\n",
              "        -3.04077200e-01, -2.13722716e-01, -1.12141463e-01,\n",
              "         1.03341204e-01, -1.09614364e-01, -8.07324609e-02,\n",
              "         1.12315904e-01, -1.00677822e-01,  1.61908621e-01,\n",
              "         6.04884615e-02,  6.46378061e-02, -1.34174175e-01],\n",
              "       [ 9.54864432e-02,  2.40934066e-01,  8.63856150e-02,\n",
              "         7.49564886e-02, -6.92926813e-02,  1.29362000e-02,\n",
              "        -1.35602298e-01,  8.05452775e-03,  5.72069479e-01,\n",
              "         8.11032072e-02, -4.95475941e-02, -2.89142742e-01,\n",
              "        -1.14508236e-01, -9.19278886e-02,  1.60884609e-01,\n",
              "         4.35048658e-02, -1.41276243e-01,  8.62408470e-02,\n",
              "        -3.16529830e-01,  3.67541918e-01,  7.73616428e-02,\n",
              "         2.95509413e-02,  5.05083335e-02,  6.99211523e-02,\n",
              "        -1.28304659e-01, -1.72133632e-01, -3.11638520e-01,\n",
              "        -7.66482910e-02, -2.95630751e-02,  1.26095791e-02],\n",
              "       [ 4.14714866e-02, -3.02243402e-01,  1.67826374e-02,\n",
              "         1.10169643e-01, -1.37021842e-01, -3.08009633e-01,\n",
              "         1.24190245e-01, -7.24460264e-02,  1.63054081e-01,\n",
              "        -3.80482687e-02, -2.53570194e-02,  3.44944458e-01,\n",
              "        -1.67318771e-01,  5.16194632e-02,  8.42062106e-02,\n",
              "        -2.06885680e-01,  3.49517943e-01, -3.42375908e-01,\n",
              "        -1.87844043e-01,  2.50624789e-01,  1.05067333e-01,\n",
              "         1.31572736e-02,  5.10762807e-02,  1.84598937e-01,\n",
              "         1.43890349e-01, -1.97420469e-01,  1.85016760e-01,\n",
              "        -1.17772055e-01,  1.57560248e-01,  1.18283551e-01],\n",
              "       [ 5.10674568e-02,  2.54896423e-01,  3.89261058e-02,\n",
              "         6.54375082e-02,  3.16727211e-01, -1.04017044e-01,\n",
              "         6.56534798e-02,  4.25892667e-02, -2.88865504e-01,\n",
              "         2.36358988e-01, -1.66879153e-02, -3.06160423e-01,\n",
              "        -1.01446828e-01, -1.76792177e-02, -2.94710053e-01,\n",
              "        -2.63456509e-01,  2.51146975e-01, -6.45875122e-03,\n",
              "         3.20571348e-01,  2.76165974e-01,  3.96796652e-02,\n",
              "         7.97974499e-02, -8.98773800e-03,  4.80886567e-02,\n",
              "         5.65148662e-02, -3.71662503e-01, -8.70345324e-02,\n",
              "        -6.81253543e-02,  4.40335026e-02, -3.47316933e-02],\n",
              "       [ 1.19672116e-02,  2.03461333e-01,  4.41095034e-02,\n",
              "         6.73757374e-02,  4.55736020e-02,  2.29281304e-01,\n",
              "         3.87090806e-01,  1.32138097e-01,  1.89933673e-01,\n",
              "         1.06239082e-01, -6.81952298e-02, -1.68222383e-01,\n",
              "        -3.78439858e-02,  5.60649318e-02,  1.50441434e-01,\n",
              "         1.00401699e-02,  1.58783192e-01, -4.94026741e-01,\n",
              "         1.03327412e-02, -2.40458323e-01, -1.37890527e-01,\n",
              "        -8.01454315e-02, -9.69657077e-02, -1.01160611e-01,\n",
              "        -2.05130344e-01,  1.22793095e-02,  2.17984329e-01,\n",
              "        -2.54387490e-01, -2.56534905e-01, -1.72814238e-01],\n",
              "       [ 5.95061348e-02, -2.15600995e-02,  4.85138123e-02,\n",
              "         1.08308292e-02,  4.45064860e-01,  8.10105720e-03,\n",
              "        -1.89358699e-01, -2.44794768e-01,  3.07388563e-02,\n",
              "        -3.77078865e-01,  1.03474126e-02, -1.08493473e-02,\n",
              "        -4.55237175e-02,  8.35707181e-02, -2.01152530e-01,\n",
              "         4.91755932e-01,  1.34586924e-01, -1.99666719e-01,\n",
              "        -4.68643826e-02,  1.45652466e-01,  2.31012813e-02,\n",
              "         5.34307917e-02,  1.22193824e-02, -6.68546458e-03,\n",
              "         1.62235443e-01,  1.66470250e-01, -6.67989309e-02,\n",
              "        -2.76418891e-01,  5.35557351e-03, -2.12104110e-01],\n",
              "       [ 5.11187749e-02,  1.07922421e-01,  3.99029358e-02,\n",
              "        -1.39669069e-02,  1.18143364e-01, -2.30899962e-01,\n",
              "         1.28283732e-01,  2.17099194e-01,  7.39617071e-02,\n",
              "        -5.17975705e-01,  1.10050711e-01, -3.27527212e-02,\n",
              "         8.26808881e-03,  4.60243656e-02, -1.85594647e-02,\n",
              "        -1.68209315e-01, -2.50471408e-01, -6.20793442e-02,\n",
              "         1.13383199e-01,  3.53232211e-01, -1.66567074e-01,\n",
              "        -1.01115399e-01, -1.82755198e-01, -3.14993600e-01,\n",
              "        -4.61258656e-02,  4.99560142e-02,  2.04835886e-01,\n",
              "         1.69499607e-01, -1.39888394e-01,  2.56173195e-01],\n",
              "       [-1.50583883e-01, -1.57841960e-01, -1.14453955e-01,\n",
              "        -1.32448032e-01, -2.04613247e-01,  1.70178367e-01,\n",
              "         2.69470206e-01,  3.80464095e-01, -1.64661588e-01,\n",
              "        -4.07927860e-02,  5.89057190e-02, -3.45004006e-02,\n",
              "         2.65166513e-02,  4.11532265e-02, -5.80390613e-02,\n",
              "         1.89830896e-01, -1.25420649e-01, -1.98810346e-01,\n",
              "        -1.57711497e-01,  2.68553878e-01, -8.15605686e-02,\n",
              "         1.85557852e-01, -5.48570473e-02, -9.06533944e-02,\n",
              "         1.45551659e-01, -1.53734861e-01, -2.15021948e-01,\n",
              "         1.78141741e-01,  2.57894009e-01, -4.05556492e-01],\n",
              "       [ 2.02924255e-01, -3.87061187e-02,  1.94821310e-01,\n",
              "         2.55705763e-01,  1.67929914e-01, -2.03077075e-02,\n",
              "        -1.59835337e-03,  3.45095087e-02, -1.91737848e-01,\n",
              "         5.02252456e-02, -1.39396866e-01,  4.39630156e-02,\n",
              "        -2.46356391e-02,  3.34418173e-01,  1.39595006e-01,\n",
              "        -8.24647717e-03,  8.46167156e-02,  1.08132263e-01,\n",
              "        -2.74059129e-01, -1.22733398e-01, -2.40049982e-01,\n",
              "         6.93651855e-02, -2.34164147e-01, -2.73399584e-01,\n",
              "        -2.78030197e-01, -4.03712272e-03, -1.91313419e-01,\n",
              "        -7.54853164e-02,  4.30658116e-01,  1.59394300e-01],\n",
              "       [ 1.46712338e-01, -4.11029851e-02,  1.58317455e-01,\n",
              "         2.66168105e-01, -3.52226802e-01,  7.79413843e-03,\n",
              "        -2.69681105e-02, -8.28277367e-02,  1.73397790e-01,\n",
              "         8.78673570e-02, -2.36216532e-01, -9.85866201e-03,\n",
              "        -2.59288003e-02,  3.04906903e-01, -2.31259943e-01,\n",
              "         1.00474235e-01, -1.95485228e-04,  4.60549116e-02,\n",
              "         1.87014764e-01, -5.98230982e-02, -2.16101353e-01,\n",
              "         5.83984505e-02, -1.88543592e-01, -1.42064856e-01,\n",
              "         5.01551675e-01, -7.35745143e-02, -1.03907980e-01,\n",
              "         7.58138963e-02, -2.78713843e-01,  2.35647497e-02],\n",
              "       [-2.25384659e-01, -2.97886446e-02, -2.39595276e-01,\n",
              "         2.73221894e-02,  1.64565843e-01, -2.84222358e-01,\n",
              "        -2.26636013e-03,  1.54972363e-01,  5.88111647e-02,\n",
              "         5.81570509e-02, -1.75883308e-01, -3.60098518e-02,\n",
              "        -3.65701538e-01,  4.16572314e-01,  1.32600886e-02,\n",
              "         2.42448176e-01, -1.26381025e-01,  1.21642969e-02,\n",
              "         8.90392949e-02, -8.66008430e-02, -1.36613039e-02,\n",
              "         7.58669276e-02, -9.08132490e-02,  4.10047202e-01,\n",
              "        -2.34513845e-01, -2.02007041e-02,  4.57861197e-02,\n",
              "         2.60229625e-01, -1.17250532e-01,  1.14944811e-02],\n",
              "       [-4.96986642e-02, -2.44134993e-01, -1.76650122e-02,\n",
              "        -9.01437617e-02,  1.71009601e-02,  4.88686329e-01,\n",
              "        -3.33870858e-02, -2.35407606e-01,  2.60691555e-02,\n",
              "        -1.75637222e-01, -9.08005031e-02, -7.16599878e-02,\n",
              "        -1.77250625e-01,  2.74201148e-01,  9.00614773e-02,\n",
              "        -4.61098220e-01,  6.69461742e-02,  6.88682942e-02,\n",
              "         1.07385289e-01,  2.22345297e-01, -5.62690874e-03,\n",
              "         3.00599798e-01,  1.10038577e-02,  6.00473870e-02,\n",
              "        -1.29723903e-01,  2.29280589e-01, -4.64827918e-02,\n",
              "         3.30223397e-02, -1.16759236e-01, -1.04991974e-01],\n",
              "       [-6.85700057e-02,  4.48369467e-01, -6.97690429e-02,\n",
              "        -1.84432785e-02, -1.19491747e-01,  1.92621396e-01,\n",
              "         5.57175335e-03, -9.42381870e-03, -8.69384844e-02,\n",
              "        -7.62718362e-02,  8.63867747e-02,  2.17071967e-01,\n",
              "        -3.04950158e-01,  1.92587786e-01, -7.20987261e-02,\n",
              "        -1.40386572e-01,  6.30479298e-02,  3.43753236e-02,\n",
              "        -9.76995265e-02,  6.28432814e-02,  7.29389953e-03,\n",
              "        -5.94440143e-01, -9.20235990e-02,  1.46790132e-01,\n",
              "         1.64849237e-01,  1.81374867e-01, -1.32100595e-01,\n",
              "         8.86081478e-04,  1.62708549e-01, -9.23439434e-02],\n",
              "       [ 7.29289034e-02,  9.48006326e-02,  7.51604777e-02,\n",
              "         9.75657781e-02,  6.38229479e-02, -9.80775567e-02,\n",
              "        -1.85212003e-01, -3.11852431e-01, -1.84067326e-02,\n",
              "         2.87868885e-01, -1.50274681e-01,  4.84569345e-02,\n",
              "         1.59352804e-01,  6.42326151e-02,  5.05449015e-02,\n",
              "        -4.52876920e-02, -2.05212693e-01, -7.25453753e-02,\n",
              "        -8.46544307e-02,  2.44705083e-01, -9.62982088e-02,\n",
              "        -1.11112024e-01,  1.72216251e-02, -9.69598236e-02,\n",
              "        -6.82540931e-02,  2.96764124e-02,  4.60426186e-01,\n",
              "         2.99840557e-01,  9.71448437e-02, -4.69471147e-01],\n",
              "       [-9.85526942e-02, -5.54997454e-04, -4.02447050e-02,\n",
              "         7.77727342e-03, -2.06657211e-02,  5.23603957e-02,\n",
              "         3.24870378e-01, -5.14087968e-02, -5.12005770e-02,\n",
              "        -8.46898562e-02, -2.64125317e-01, -8.73880467e-04,\n",
              "         9.00742110e-02,  9.82150746e-02, -5.98177179e-02,\n",
              "         9.10387102e-03, -3.87542329e-01,  3.51755074e-01,\n",
              "        -4.23628949e-02,  8.57810992e-02, -5.56767923e-02,\n",
              "        -8.92289971e-03,  6.33448296e-02,  1.90889625e-01,\n",
              "         9.36901494e-02, -1.47920925e-01,  2.86433135e-01,\n",
              "        -5.67527797e-01,  1.21343451e-01,  7.62533821e-03],\n",
              "       [ 1.82579441e-01, -9.87867898e-02,  1.16648876e-01,\n",
              "        -6.98483369e-02, -6.86974224e-02,  1.04135518e-01,\n",
              "        -4.47410568e-02, -8.40276972e-02, -1.93394733e-02,\n",
              "         1.33260547e-01,  5.58701567e-01, -2.42672970e-02,\n",
              "        -5.16750385e-01,  2.24607172e-02, -1.56311888e-02,\n",
              "         1.21777792e-01, -1.88205036e-01,  1.09668978e-01,\n",
              "        -3.22620011e-03, -7.51944193e-02,  1.56830365e-01,\n",
              "         1.18484602e-01, -2.37113167e-01, -1.44063033e-01,\n",
              "         1.09901386e-02, -1.86749953e-01,  2.88852570e-01,\n",
              "        -1.07340243e-01,  1.43818093e-02, -3.78254532e-02],\n",
              "       [ 1.92264989e-02, -8.47459309e-02, -2.70154137e-02,\n",
              "         2.10040780e-01, -2.89548850e-02, -3.96623231e-01,\n",
              "         9.69773167e-02,  1.86451602e-01,  2.45836949e-02,\n",
              "         2.07221864e-01,  1.74930429e-01, -5.69864778e-02,\n",
              "        -7.29276412e-02, -1.31850405e-01, -3.12107028e-02,\n",
              "        -1.73164553e-01, -1.59399802e-02,  1.29546547e-01,\n",
              "         1.95149333e-02,  8.41712034e-02, -7.07097238e-02,\n",
              "         1.18189721e-01, -1.18034029e-01,  3.82899511e-02,\n",
              "         4.79647647e-02,  6.24384938e-01, -1.15770341e-01,\n",
              "        -2.63196337e-01, -4.52996243e-02, -2.80133485e-01],\n",
              "       [-1.29476396e-01, -2.45566636e-02, -1.25255946e-01,\n",
              "         3.62727403e-01, -3.70036864e-02,  2.62808474e-01,\n",
              "        -5.48876170e-01,  3.87643377e-01, -1.60440385e-02,\n",
              "        -9.74048386e-02,  4.99770798e-02, -1.12372419e-02,\n",
              "         1.03653282e-01, -1.55304589e-01, -7.71755717e-03,\n",
              "        -4.97276317e-02,  9.14549680e-02, -1.79419192e-02,\n",
              "        -1.72678486e-02,  3.54889745e-02, -1.97054744e-01,\n",
              "         3.64694332e-02, -2.44103670e-01,  2.31359525e-01,\n",
              "         1.26024637e-02, -1.00463424e-01,  2.66853781e-01,\n",
              "        -1.33574507e-01,  2.81842956e-02,  4.52048188e-03],\n",
              "       [-1.31526670e-01, -1.73573093e-02, -1.15415423e-01,\n",
              "         4.66612477e-01,  6.96899233e-02,  9.77487054e-02,\n",
              "         3.64808397e-01, -4.54699351e-01, -1.51648349e-02,\n",
              "        -1.01244946e-01,  2.12982901e-01, -1.00928890e-02,\n",
              "         4.16915529e-02, -3.13358657e-01, -9.05215355e-03,\n",
              "         4.65360884e-02, -8.42247975e-02, -1.11655093e-02,\n",
              "        -1.99759830e-02, -1.20365640e-02, -1.78666740e-01,\n",
              "         2.14106944e-02, -2.41031046e-01,  2.37162466e-01,\n",
              "        -4.08535683e-02, -7.05054136e-02, -1.42905801e-01,\n",
              "         2.30901389e-01,  2.27904438e-02,  5.99859979e-02],\n",
              "       [ 2.11194013e-01, -6.58114593e-05,  8.43382663e-02,\n",
              "        -2.72508323e-01,  1.47926883e-03, -5.46276696e-03,\n",
              "         4.55386379e-02, -8.88309714e-03,  1.43302642e-03,\n",
              "        -6.31168651e-03, -1.92223890e-01, -5.62261069e-03,\n",
              "         2.63191868e-01, -4.20681051e-02,  9.79296328e-03,\n",
              "        -1.53955481e-02,  5.82097800e-03, -2.90093001e-02,\n",
              "        -7.63652550e-03,  1.97564555e-02,  4.12639581e-01,\n",
              "        -3.90250926e-04, -7.28680898e-01,  2.38960316e-01,\n",
              "        -1.53524821e-03,  4.86918180e-02, -1.76408967e-02,\n",
              "         2.24756680e-02,  4.92048082e-03, -2.35621424e-02],\n",
              "       [ 2.11460455e-01, -1.05339342e-02,  3.83826098e-01,\n",
              "        -4.22794920e-01, -3.43466700e-03, -4.10167739e-02,\n",
              "        -1.00147876e-02, -4.20694931e-03, -7.56986244e-03,\n",
              "         7.30143287e-03,  1.18442112e-01, -8.77627920e-03,\n",
              "        -6.10021933e-03, -8.59259138e-02,  1.77638619e-03,\n",
              "         3.15813441e-03,  1.60785207e-02, -2.39377870e-02,\n",
              "        -5.22329189e-03, -8.34191154e-03, -6.35724917e-01,\n",
              "         1.72354925e-02,  2.29218029e-02,  4.44935933e-01,\n",
              "         7.38549171e-03,  3.56690392e-06, -1.26757226e-02,\n",
              "         3.52404543e-02,  1.34042283e-02,  1.14776603e-02],\n",
              "       [-7.02414091e-01, -2.73661018e-04,  6.89896968e-01,\n",
              "         3.29473482e-02,  4.84745766e-03, -4.46741863e-02,\n",
              "        -2.51386661e-02,  1.07726530e-03,  1.28037941e-03,\n",
              "         4.75568480e-03,  8.71109373e-03,  1.07103919e-03,\n",
              "        -1.37293906e-02, -1.10532603e-03,  1.60821086e-03,\n",
              "        -1.91562235e-03,  8.92652653e-03,  2.16019727e-03,\n",
              "        -3.29389752e-04, -1.79895682e-03,  1.35643056e-01,\n",
              "        -1.02053601e-03, -7.97438536e-02, -3.97422838e-02,\n",
              "        -4.58327731e-03,  1.28415624e-02, -4.02139168e-04,\n",
              "         2.28844179e-03, -3.95443454e-04, -1.89429245e-03]])"
            ]
          },
          "metadata": {},
          "execution_count": 139
        }
      ]
    },
    {
      "cell_type": "code",
      "source": [
        "plt.plot(cancer.target,df['mean perimeter'],'o')"
      ],
      "metadata": {
        "colab": {
          "base_uri": "https://localhost:8080/",
          "height": 282
        },
        "id": "RoLMlePs3Z5l",
        "outputId": "6cc9a1a1-6de7-497f-8fdd-3753d7ce79bc"
      },
      "execution_count": 148,
      "outputs": [
        {
          "output_type": "execute_result",
          "data": {
            "text/plain": [
              "[<matplotlib.lines.Line2D at 0x7fb7792b1b10>]"
            ]
          },
          "metadata": {},
          "execution_count": 148
        },
        {
          "output_type": "display_data",
          "data": {
            "text/plain": [
              "<Figure size 432x288 with 1 Axes>"
            ],
            "image/png": "[encoded data removed]"
          },
          "metadata": {
            "needs_background": "light"
          }
        }
      ]
    },
    {
      "cell_type": "code",
      "source": [
        "plt.plot(cancer.target,df['mean fractal dimension'],'o')"
      ],
      "metadata": {
        "colab": {
          "base_uri": "https://localhost:8080/",
          "height": 282
        },
        "id": "cLvAA8Zr4uqi",
        "outputId": "6b2c21c4-3fe9-4d4b-86bf-2acbf04d31f3"
      },
      "execution_count": 147,
      "outputs": [
        {
          "output_type": "execute_result",
          "data": {
            "text/plain": [
              "[<matplotlib.lines.Line2D at 0x7fb778fc6350>]"
            ]
          },
          "metadata": {},
          "execution_count": 147
        },
        {
          "output_type": "display_data",
          "data": {
            "text/plain": [
              "<Figure size 432x288 with 1 Axes>"
            ],
            "image/png": "[encoded data removed]"
          },
          "metadata": {
            "needs_background": "light"
          }
        }
      ]
    },
    {
      "cell_type": "code",
      "source": [],
      "metadata": {
        "id": "z0gsFEP15GOX"
      },
      "execution_count": null,
      "outputs": []
    }
  ]
}