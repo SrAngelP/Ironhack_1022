{
  "nbformat": 4,
  "nbformat_minor": 0,
  "metadata": {
    "colab": {
      "provenance": [],
      "collapsed_sections": []
    },
    "kernelspec": {
      "name": "python3",
      "display_name": "Python 3"
    },
    "language_info": {
      "name": "python"
    }
  },
  "cells": [
    {
      "cell_type": "markdown",
      "metadata": {
        "id": "n55rf1lakRaP"
      },
      "source": [
        "# Challenge: Análisis de reseñas de Amazon\n",
        "\n",
        "Planteamiento del problema:\n",
        "Imagina que trabajas en Amazon. Te han asignado a la división de análisis de datos de producto.\n",
        "\n",
        "El trabajo de esta división es crucial, una de sus labores principales es recopilar los datos necesarios para implementar un sistema de recomendación de productos.\n",
        "\n",
        "El equipo que implementará el modelo necesita que generemos el código para realizar 5 tareas de consulta. Prepara el código para que puedan realizar esas tareas:\n",
        "\n",
        "1. Obtener el año en el que tuvimos más reseñas (tip: las fechas están como tipo texto, puedes utilizar `regex`).\n",
        "2. Obtener únicamente las reseñas del año obtenido en el punto 1.\n",
        "3. Filtrar las reseñas para quedarnos únicamente con las calificaciones más altas (overall: 5) y las más bajas (overall: 1).\n",
        "4. Mediante un aggregation, obtener las reseñas \"neutrales\" (overall: 3) y añadir un campo extra al resultado con el formato: `label: \"neutral\"`. **NO ESCRIBAS EL VALOR EN LA BASE DE DATOS, SOLO DEBE APARECER EN EL RESULTADO DE LA CONSULTA**\n",
        "5. Obtener el título (summary) y el nombre del autor (reviewerName), de las reseñas con mejores calificaciones (overall: 5).\n",
        "\n",
        "## Instrucciones:\n",
        "\n",
        "- Escribe el código para las tareas antes mencionadas.\n",
        "- Utiliza la base de datos `master-data` presente en nuestro cluster y la colección `amazon`.\n",
        "- Realiza cada tarea en un bloque diferente de código, es decir, no es necesario obtener un solo resultado, más bien, obtendrás un resultado distinto en cada tarea."
      ]
    },
    {
      "cell_type": "markdown",
      "metadata": {
        "id": "9WwsW0KOoNUi"
      },
      "source": [
        "# Paquetes a utilizar"
      ]
    },
    {
      "cell_type": "code",
      "metadata": {
        "id": "X0L6XMlNxcRq",
        "colab": {
          "base_uri": "https://localhost:8080/"
        },
        "outputId": "604e1575-9340-4005-8eed-e36bbc3ce217"
      },
      "source": [
        "\"\"\"Mongo & Utilities\"\"\"\n",
        "!pip install dnspython\n",
        "!pip install pymongo[srv]\n",
        "import dns\n",
        "from pymongo import MongoClient\n",
        "import pandas as pd\n",
        "import json"
      ],
      "execution_count": null,
      "outputs": [
        {
          "output_type": "stream",
          "name": "stdout",
          "text": [
            "Looking in indexes: https://pypi.org/simple, https://us-python.pkg.dev/colab-wheels/public/simple/\n",
            "Collecting dnspython\n",
            "  Downloading dnspython-2.2.1-py3-none-any.whl (269 kB)\n",
            "\u001b[K     |████████████████████████████████| 269 kB 4.1 MB/s \n",
            "\u001b[?25hInstalling collected packages: dnspython\n",
            "Successfully installed dnspython-2.2.1\n",
            "Looking in indexes: https://pypi.org/simple, https://us-python.pkg.dev/colab-wheels/public/simple/\n",
            "Requirement already satisfied: pymongo[srv] in /usr/local/lib/python3.7/dist-packages (4.2.0)\n",
            "Requirement already satisfied: dnspython<3.0.0,>=1.16.0 in /usr/local/lib/python3.7/dist-packages (from pymongo[srv]) (2.2.1)\n"
          ]
        }
      ]
    },
    {
      "cell_type": "markdown",
      "metadata": {
        "id": "7zzPv6aHum9o"
      },
      "source": [
        "# Obtener el año en el que tuvimos más reseñas.\n",
        "\n"
      ]
    },
    {
      "cell_type": "code",
      "metadata": {
        "id": "MGIxNl_rOyaz",
        "colab": {
          "base_uri": "https://localhost:8080/"
        },
        "outputId": "abaf964b-8868-43ea-f6ca-878a49125dea"
      },
      "source": [
        "# Tu código aquí\n",
        "client = MongoClient('')\n",
        "\n",
        "db = client['master-data']\n",
        "coll=db['amazon']\n",
        "\n",
        "#Get the year w most reviews\n",
        "list(coll.find({}).limit(1))\n",
        "\n",
        "results = coll.aggregate(\n",
        "    [\n",
        "     {\n",
        "      '$addFields': \n",
        "      {\n",
        "       'year': \n",
        "        {\n",
        "         '$arrayElemAt': [ { '$split': [\"$reviewTime\", \" \"] }, 2 ]\n",
        "        }\n",
        "      }\n",
        "     },\n",
        "     {\n",
        "      '$group':\n",
        "      {\n",
        "       '_id': '$year',\n",
        "       'n_reviews': {'$sum': 1}\n",
        "      }\n",
        "     },\n",
        "     {\n",
        "      '$sort':\n",
        "      {\n",
        "       'n_reviews': -1\n",
        "      }\n",
        "     }\n",
        "    ]\n",
        ")\n",
        "list(results)"
      ],
      "execution_count": null,
      "outputs": [
        {
          "output_type": "execute_result",
          "data": {
            "text/plain": [
              "[{'_id': '2013', 'n_reviews': 4055},\n",
              " {'_id': '2014', 'n_reviews': 2679},\n",
              " {'_id': '2012', 'n_reviews': 1936},\n",
              " {'_id': '2011', 'n_reviews': 1007},\n",
              " {'_id': '2010', 'n_reviews': 350},\n",
              " {'_id': '2009', 'n_reviews': 128},\n",
              " {'_id': '2008', 'n_reviews': 63},\n",
              " {'_id': '2007', 'n_reviews': 22},\n",
              " {'_id': '2006', 'n_reviews': 10},\n",
              " {'_id': '2004', 'n_reviews': 7},\n",
              " {'_id': '2005', 'n_reviews': 4}]"
            ]
          },
          "metadata": {},
          "execution_count": 13
        }
      ]
    },
    {
      "cell_type": "markdown",
      "metadata": {
        "id": "ZOYiGV6J50SD"
      },
      "source": [
        "# Obtener únicamente las reseñas del año con más reseñas.\n",
        "\n"
      ]
    },
    {
      "cell_type": "code",
      "metadata": {
        "id": "B9-IJFdzO1Qz",
        "colab": {
          "base_uri": "https://localhost:8080/"
        },
        "outputId": "7f1fff77-a55e-4718-b95a-ccb1032413e6"
      },
      "source": [
        "# Tu código aquí\n",
        "\n",
        "list(coll.find({\"reviewTime\": {\"$regex\": \"2013\"}}).limit(3))"
      ],
      "execution_count": null,
      "outputs": [
        {
          "output_type": "execute_result",
          "data": {
            "text/plain": [
              "[{'_id': ObjectId('60ac3be5a0f981616012e9dc'),\n",
              "  'reviewerID': 'AKSFZ4G1AXYFC',\n",
              "  'asin': 'B000068NSX',\n",
              "  'reviewerName': 'C.E. \"Frank\"',\n",
              "  'helpful': [0, 0],\n",
              "  'reviewText': \"This Fender cable is the perfect length for me! Sometimes I find it a bit too long but I don't mind. The build quality is great and I know that it will last. The only gripe I have with this cable is that the metal sleeve gets unscrewed way too easily, requiring me to tighten it often.Sound quality is not affected, and the color is cool, definitely try this cable out.\",\n",
              "  'overall': 4,\n",
              "  'summary': 'Durable Instrument Cable',\n",
              "  'unixReviewTime': 1376352000,\n",
              "  'reviewTime': '08 13, 2013'},\n",
              " {'_id': ObjectId('60ac3be5a0f981616012e9de'),\n",
              "  'reviewerID': 'A2EZWZ8MBEDOLN',\n",
              "  'asin': 'B000068NSX',\n",
              "  'reviewerName': 'Charlo',\n",
              "  'helpful': [3, 3],\n",
              "  'reviewText': \"I've been using these cables for more than 4 months and they are holding up pretty well.  For years I used seemingly indestructable guitar cables that were made for me by an electrician friend.  When they finally gave out, I got in the habit of using the no-name cables that are always on display near the register at Guitar Center- really more of an impulse buy than something I put any thought into.  After the third or fourth Guitar Center cable failed from light use I decided to try these cables.  Not only are they cheaper but they seem to be holding up better.  I am not terribly hard on my gear but my cables tend to get twisted as I move around and the cheaper ones  eventually fail mid-cable.  I don't mind spending a few extra dollars if the cable is a little more durable.  This cable is actually cheaper- $12 or so shipped- and it's holding up pretty well.  These are actually very reasonably priced for 18' cables.  There is some kind of limited life warantee on this product but I haven't needed it.  Five stars for a nicely made 18 foot guitar cable that costs $12 shipped!Incidentally- these cables are shielded and are meant to connect your instrument to your amp's input.  Do not use these to connect an amplifier to a speaker cab.  You want to use unshielded cables for that purpose.Edit-  More than 6 months has passed and this cable is functioning without any issues.  The price on these things has gone up significantly and although the cable is highly recommended, there are probably better values from Hosa, Monster or Planet Waves-\",\n",
              "  'overall': 5,\n",
              "  'summary': 'So far so good.  Will revisit at the 6 month mark ;)',\n",
              "  'unixReviewTime': 1363564800,\n",
              "  'reviewTime': '03 18, 2013'},\n",
              " {'_id': ObjectId('60ac3be5a0f981616012e9df'),\n",
              "  'reviewerID': 'A1CL807EOUPVP1',\n",
              "  'asin': 'B000068NSX',\n",
              "  'reviewerName': 'GunHawk',\n",
              "  'helpful': [0, 0],\n",
              "  'reviewText': \"Fender cords look great and work just as well. By adding the word California to the description I'm sure to sound like the Beach Boys...\",\n",
              "  'overall': 5,\n",
              "  'summary': 'Add California to the name and I jump!',\n",
              "  'unixReviewTime': 1375833600,\n",
              "  'reviewTime': '08 7, 2013'}]"
            ]
          },
          "metadata": {},
          "execution_count": 16
        }
      ]
    },
    {
      "cell_type": "markdown",
      "metadata": {
        "id": "LTCahi2Bcgps"
      },
      "source": [
        "# Filtrar las reseñas para quedarnos únicamente con las calificaciones más altas y las más bajas."
      ]
    },
    {
      "cell_type": "code",
      "metadata": {
        "id": "UY6SsDTE8CU9"
      },
      "source": [
        "# Tu código aquí"
      ],
      "execution_count": null,
      "outputs": []
    },
    {
      "cell_type": "markdown",
      "metadata": {
        "id": "96XjJEYq8HQH"
      },
      "source": [
        "# Mediante un aggregation, obtener las reseñas \"neutrales\" y etiquetarlas como \"neutral\" en el resultado de la consulta."
      ]
    },
    {
      "cell_type": "code",
      "metadata": {
        "id": "QtIhaFuR8Sp5"
      },
      "source": [
        "# Tu código aquí"
      ],
      "execution_count": null,
      "outputs": []
    },
    {
      "cell_type": "markdown",
      "metadata": {
        "id": "GYTSEmC88UQI"
      },
      "source": [
        "# Obtener el título y el nombre del autor, de las reseñas con mejores calificaciones."
      ]
    },
    {
      "cell_type": "code",
      "metadata": {
        "id": "rwCo5okz8crL"
      },
      "source": [
        "# Tu código aquí"
      ],
      "execution_count": null,
      "outputs": []
    }
  ]
}